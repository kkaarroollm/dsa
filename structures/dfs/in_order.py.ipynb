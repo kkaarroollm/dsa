{
 "cells": [
  {
   "cell_type": "code",
   "execution_count": 2,
   "id": "initial_id",
   "metadata": {
    "ExecuteTime": {
     "end_time": "2025-07-24T09:45:48.894008Z",
     "start_time": "2025-07-24T09:45:48.889986Z"
    },
    "collapsed": true
   },
   "outputs": [],
   "source": [
    "# Traverse Left, Visit, Traverse Right\n",
    "from structures.tree import TNode, tree_root"
   ]
  },
  {
   "cell_type": "code",
   "execution_count": 3,
   "id": "7e3c12e8f68b1f8d",
   "metadata": {
    "ExecuteTime": {
     "end_time": "2025-07-24T10:50:35.130702Z",
     "start_time": "2025-07-24T10:50:35.128428Z"
    }
   },
   "outputs": [],
   "source": [
    "# Recursive\n",
    "def in_order_recursive(root: TNode) -> list[int]:\n",
    "    result = []\n",
    "\n",
    "    def dfs(node: TNode) -> None:\n",
    "        if not node:\n",
    "            return\n",
    "\n",
    "        nonlocal result\n",
    "        dfs(node.left)\n",
    "        result.append(node.val)\n",
    "        dfs(node.right)\n",
    "\n",
    "    dfs(root)\n",
    "    return result"
   ]
  },
  {
   "cell_type": "code",
   "execution_count": 4,
   "id": "be05ca90e1e4f0e2",
   "metadata": {
    "ExecuteTime": {
     "end_time": "2025-07-24T10:53:03.762936Z",
     "start_time": "2025-07-24T10:53:03.757208Z"
    }
   },
   "outputs": [
    {
     "data": {
      "text/plain": [
       "[8, 4, 9, 2, 10, 5, 11, 1, 12, 6, 13, 3, 14, 7, 15]"
      ]
     },
     "execution_count": 4,
     "metadata": {},
     "output_type": "execute_result"
    }
   ],
   "source": [
    "in_order_recursive(tree_root)"
   ]
  },
  {
   "cell_type": "code",
   "execution_count": 21,
   "id": "817a75c0bc2f3178",
   "metadata": {
    "ExecuteTime": {
     "end_time": "2025-07-24T12:07:53.528959Z",
     "start_time": "2025-07-24T12:07:53.526283Z"
    }
   },
   "outputs": [],
   "source": [
    "# Iterative\n",
    "\n",
    "\n",
    "def in_order_iterative(root: TNode) -> list[int]:\n",
    "    # Max node.left depth, next pops out of stack and check if node.right node exists.\n",
    "    stk, result = [], []\n",
    "    current = root\n",
    "\n",
    "    while stk or current:\n",
    "        while current:\n",
    "            stk.append(current)\n",
    "            current = current.left\n",
    "\n",
    "        current = stk.pop()\n",
    "        result.append(current.val)\n",
    "\n",
    "        current = current.right\n",
    "\n",
    "    return result"
   ]
  },
  {
   "cell_type": "code",
   "execution_count": 22,
   "id": "75db174f52850fed",
   "metadata": {
    "ExecuteTime": {
     "end_time": "2025-07-24T12:07:54.550822Z",
     "start_time": "2025-07-24T12:07:54.547512Z"
    }
   },
   "outputs": [
    {
     "data": {
      "text/plain": [
       "[8, 4, 9, 2, 10, 5, 11, 1, 12, 6, 13, 3, 14, 7, 15]"
      ]
     },
     "execution_count": 22,
     "metadata": {},
     "output_type": "execute_result"
    }
   ],
   "source": [
    "in_order_iterative(tree_root)"
   ]
  }
 ],
 "metadata": {
  "kernelspec": {
   "display_name": "Python 3",
   "language": "python",
   "name": "python3"
  },
  "language_info": {
   "codemirror_mode": {
    "name": "ipython",
    "version": 2
   },
   "file_extension": ".py",
   "mimetype": "text/x-python",
   "name": "python",
   "nbconvert_exporter": "python",
   "pygments_lexer": "ipython2",
   "version": "2.7.6"
  }
 },
 "nbformat": 4,
 "nbformat_minor": 5
}
