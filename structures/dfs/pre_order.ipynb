{
 "cells": [
  {
   "cell_type": "code",
   "execution_count": 1,
   "id": "initial_id",
   "metadata": {
    "ExecuteTime": {
     "end_time": "2025-07-24T09:23:44.950473Z",
     "start_time": "2025-07-24T09:23:44.945502Z"
    },
    "collapsed": true
   },
   "outputs": [],
   "source": [
    "# Visit, Traverse Left, Traverse Right\n",
    "from structures.tree import TNode, tree_root"
   ]
  },
  {
   "cell_type": "code",
   "execution_count": 2,
   "id": "d541ad3b388e1e5c",
   "metadata": {
    "ExecuteTime": {
     "end_time": "2025-07-24T09:23:58.490472Z",
     "start_time": "2025-07-24T09:23:58.488394Z"
    }
   },
   "outputs": [],
   "source": [
    "# Recursive\n",
    "def pre_order_recursive(root: TNode) -> list[int]:\n",
    "    result = []\n",
    "\n",
    "    def dfs(node: TNode) -> None:\n",
    "        nonlocal result\n",
    "        if not node:\n",
    "            return\n",
    "        result.append(node.val)\n",
    "        dfs(node.left)\n",
    "        dfs(node.right)\n",
    "\n",
    "    dfs(root)\n",
    "    return result"
   ]
  },
  {
   "cell_type": "code",
   "execution_count": 3,
   "id": "ecaba2c45946476d",
   "metadata": {
    "ExecuteTime": {
     "end_time": "2025-07-24T09:24:12.790662Z",
     "start_time": "2025-07-24T09:24:12.787544Z"
    }
   },
   "outputs": [
    {
     "data": {
      "text/plain": [
       "[1, 2, 4, 8, 9, 5, 10, 11, 3, 6, 12, 13, 7, 14, 15]"
      ]
     },
     "execution_count": 3,
     "metadata": {},
     "output_type": "execute_result"
    }
   ],
   "source": [
    "pre_order_recursive(tree_root)"
   ]
  },
  {
   "cell_type": "code",
   "execution_count": 4,
   "id": "e020f4718d3f78d2",
   "metadata": {
    "ExecuteTime": {
     "end_time": "2025-07-24T09:36:17.232524Z",
     "start_time": "2025-07-24T09:36:17.230107Z"
    }
   },
   "outputs": [],
   "source": [
    "# Iterative\n",
    "def pre_order_iterative(root: TNode) -> list[int]:\n",
    "    # create a stack, as DFS is based on a stack\n",
    "    # while creating own stack, elements has to be added reversed\n",
    "    stk, result = [], []\n",
    "    stk.append(root)\n",
    "\n",
    "    while stk:\n",
    "        node = stk.pop()\n",
    "        result.append(node.val)\n",
    "        if node.left:\n",
    "            stk.append(node.right)\n",
    "        if node.right:\n",
    "            stk.append(node.left)\n",
    "\n",
    "    return result"
   ]
  },
  {
   "cell_type": "code",
   "execution_count": 5,
   "id": "5a8999607c27d985",
   "metadata": {
    "ExecuteTime": {
     "end_time": "2025-07-24T09:36:39.384811Z",
     "start_time": "2025-07-24T09:36:39.381637Z"
    }
   },
   "outputs": [
    {
     "data": {
      "text/plain": [
       "[1, 2, 4, 8, 9, 5, 10, 11, 3, 6, 12, 13, 7, 14, 15]"
      ]
     },
     "execution_count": 5,
     "metadata": {},
     "output_type": "execute_result"
    }
   ],
   "source": [
    "pre_order_iterative(tree_root)"
   ]
  }
 ],
 "metadata": {
  "kernelspec": {
   "display_name": "Python 3",
   "language": "python",
   "name": "python3"
  },
  "language_info": {
   "codemirror_mode": {
    "name": "ipython",
    "version": 2
   },
   "file_extension": ".py",
   "mimetype": "text/x-python",
   "name": "python",
   "nbconvert_exporter": "python",
   "pygments_lexer": "ipython2",
   "version": "2.7.6"
  }
 },
 "nbformat": 4,
 "nbformat_minor": 5
}
