{
 "cells": [
  {
   "cell_type": "code",
   "execution_count": 1,
   "id": "initial_id",
   "metadata": {
    "ExecuteTime": {
     "end_time": "2025-07-24T21:14:54.973551Z",
     "start_time": "2025-07-24T21:14:54.970873Z"
    },
    "collapsed": true
   },
   "outputs": [],
   "source": [
    "# Find all paths from: root -> leaf\n",
    "from structures.tree import TNode, tree_root"
   ]
  },
  {
   "cell_type": "code",
   "execution_count": 2,
   "id": "5d0a212ef86f80bf",
   "metadata": {
    "ExecuteTime": {
     "end_time": "2025-07-24T21:14:56.895049Z",
     "start_time": "2025-07-24T21:14:56.891917Z"
    }
   },
   "outputs": [],
   "source": [
    "def find_all_paths(root: TNode) -> list[list[TNode]]:\n",
    "    result: list[list[TNode]] = []\n",
    "\n",
    "    def dfs(node: TNode, path: list[TNode]) -> None:\n",
    "        if not node:\n",
    "            return\n",
    "\n",
    "        path.append(node)\n",
    "\n",
    "        if not (node.left or node.right):\n",
    "            result.append(path[:])\n",
    "        else:\n",
    "            dfs(node.left, path)\n",
    "            dfs(node.right, path)\n",
    "        path.pop()\n",
    "\n",
    "    dfs(root, [])\n",
    "    return result"
   ]
  },
  {
   "cell_type": "code",
   "execution_count": 3,
   "id": "e187c16a3e60c246",
   "metadata": {
    "ExecuteTime": {
     "end_time": "2025-07-24T21:14:57.994946Z",
     "start_time": "2025-07-24T21:14:57.989714Z"
    }
   },
   "outputs": [
    {
     "data": {
      "text/plain": [
       "[[1, 2, 4, 8],\n",
       " [1, 2, 4, 9],\n",
       " [1, 2, 5, 10],\n",
       " [1, 2, 5, 11],\n",
       " [1, 3, 6, 12],\n",
       " [1, 3, 6, 13],\n",
       " [1, 3, 7, 14],\n",
       " [1, 3, 7, 15]]"
      ]
     },
     "execution_count": 3,
     "metadata": {},
     "output_type": "execute_result"
    }
   ],
   "source": [
    "paths = find_all_paths(tree_root)\n",
    "[[node.val for node in lst] for lst in paths]"
   ]
  },
  {
   "cell_type": "code",
   "execution_count": 20,
   "id": "b871311b284966d1",
   "metadata": {
    "ExecuteTime": {
     "end_time": "2025-07-24T21:35:20.872700Z",
     "start_time": "2025-07-24T21:35:20.869905Z"
    }
   },
   "outputs": [],
   "source": [
    "# LC: 563 - count tilt of each Node\n",
    "\n",
    "\n",
    "def count_total_tilt(root: TNode) -> int:\n",
    "    total_tilt = 0\n",
    "\n",
    "    def dfs(node: TNode) -> int:\n",
    "        nonlocal total_tilt\n",
    "\n",
    "        if not node:\n",
    "            return 0\n",
    "\n",
    "        left_sum = dfs(node.left)\n",
    "        right_sum = dfs(node.right)\n",
    "        total_tilt += abs(left_sum - right_sum)\n",
    "        return node.val + left_sum + right_sum\n",
    "\n",
    "    dfs(root)\n",
    "    return total_tilt"
   ]
  },
  {
   "cell_type": "code",
   "execution_count": 21,
   "id": "667bcb31d699663b",
   "metadata": {
    "ExecuteTime": {
     "end_time": "2025-07-24T21:35:22.556933Z",
     "start_time": "2025-07-24T21:35:22.554255Z"
    }
   },
   "outputs": [
    {
     "data": {
      "text/plain": [
       "35"
      ]
     },
     "execution_count": 21,
     "metadata": {},
     "output_type": "execute_result"
    }
   ],
   "source": [
    "count_total_tilt(tree_root)"
   ]
  },
  {
   "cell_type": "code",
   "execution_count": 6,
   "id": "ac1159ffb8a5a76e",
   "metadata": {
    "ExecuteTime": {
     "end_time": "2025-07-24T21:15:02.349515Z",
     "start_time": "2025-07-24T21:15:02.346815Z"
    }
   },
   "outputs": [],
   "source": [
    "# LC: 104\n",
    "\n",
    "\n",
    "def max_depth(root: TNode) -> int:\n",
    "    max_ = 0\n",
    "\n",
    "    def dfs(node: TNode, counter: int):\n",
    "        nonlocal max_\n",
    "        if not node:\n",
    "            return\n",
    "        counter += 1\n",
    "        max_ = max(max_, counter)\n",
    "        dfs(node.left, counter)\n",
    "        dfs(node.right, counter)\n",
    "\n",
    "    dfs(root, 0)\n",
    "    return max_"
   ]
  },
  {
   "cell_type": "code",
   "execution_count": 7,
   "id": "167faf4fbe7ce99c",
   "metadata": {
    "ExecuteTime": {
     "end_time": "2025-07-24T21:15:04.143537Z",
     "start_time": "2025-07-24T21:15:04.140296Z"
    }
   },
   "outputs": [
    {
     "data": {
      "text/plain": [
       "4"
      ]
     },
     "execution_count": 7,
     "metadata": {},
     "output_type": "execute_result"
    }
   ],
   "source": [
    "max_depth(tree_root)"
   ]
  },
  {
   "cell_type": "code",
   "execution_count": 8,
   "id": "bbdb4f6e8b59d89d",
   "metadata": {
    "ExecuteTime": {
     "end_time": "2025-07-24T21:15:05.197507Z",
     "start_time": "2025-07-24T21:15:05.194631Z"
    }
   },
   "outputs": [],
   "source": [
    "# LC: 559\n",
    "\n",
    "\"\"\"\n",
    "# Definition for a Node.\n",
    "class Node:\n",
    "    def __init__(self, val: Optional[int] = None, children: Optional[List['Node']] = None):\n",
    "        self.val = val\n",
    "        self.children = children\n",
    "\"\"\"\n",
    "\n",
    "\n",
    "def max_n_array_depth(root):\n",
    "    total = 0\n",
    "\n",
    "    def dfs(node, counter):\n",
    "        nonlocal total\n",
    "        if not node:\n",
    "            return\n",
    "\n",
    "        counter += 1\n",
    "        total = max(total, counter)\n",
    "\n",
    "        for node_ in node.children:\n",
    "            dfs(node_, counter)\n",
    "\n",
    "    dfs(root, 0)\n",
    "    return total"
   ]
  },
  {
   "cell_type": "code",
   "execution_count": 9,
   "id": "1354bd88e0d2c40",
   "metadata": {
    "ExecuteTime": {
     "end_time": "2025-07-24T21:15:06.793839Z",
     "start_time": "2025-07-24T21:15:06.791391Z"
    }
   },
   "outputs": [],
   "source": [
    "# LC: 100\n",
    "\n",
    "\n",
    "def is_same_tree(p: TNode, q: TNode) -> bool:\n",
    "    if not p and not q:\n",
    "        return True\n",
    "    if not p or not q or p.val != q.val:\n",
    "        return False\n",
    "    return is_same_tree(p.left, q.left) and is_same_tree(p.right, q.right)"
   ]
  },
  {
   "cell_type": "code",
   "execution_count": 16,
   "id": "35ec05f4d1fd842e",
   "metadata": {
    "ExecuteTime": {
     "end_time": "2025-07-24T21:16:44.213802Z",
     "start_time": "2025-07-24T21:16:44.211252Z"
    }
   },
   "outputs": [],
   "source": [
    "random = TNode(1)"
   ]
  },
  {
   "cell_type": "code",
   "execution_count": 17,
   "id": "17b88e959d0783dc",
   "metadata": {
    "ExecuteTime": {
     "end_time": "2025-07-24T21:16:45.244847Z",
     "start_time": "2025-07-24T21:16:45.242101Z"
    }
   },
   "outputs": [
    {
     "data": {
      "text/plain": [
       "False"
      ]
     },
     "execution_count": 17,
     "metadata": {},
     "output_type": "execute_result"
    }
   ],
   "source": [
    "is_same_tree(tree_root, tree_root)\n",
    "is_same_tree(tree_root, random)"
   ]
  },
  {
   "cell_type": "code",
   "execution_count": 18,
   "id": "efa9fd8f0ca7a066",
   "metadata": {
    "ExecuteTime": {
     "end_time": "2025-07-24T21:16:53.336639Z",
     "start_time": "2025-07-24T21:16:53.333447Z"
    }
   },
   "outputs": [],
   "source": [
    "def is_tree_same_iterative(p: TNode, q: TNode) -> bool:\n",
    "    stack = [(p, q)]\n",
    "\n",
    "    while stack:\n",
    "        node1, node2 = stack.pop()\n",
    "\n",
    "        if not (node1 or node2):\n",
    "            continue\n",
    "        if not (node1 and node2):\n",
    "            return False\n",
    "        if node1.val != node2.val:\n",
    "            return False\n",
    "\n",
    "        stack.append((node1.left, node2.left))\n",
    "        stack.append((node1.right, node2.right))\n",
    "\n",
    "    return True"
   ]
  },
  {
   "cell_type": "code",
   "execution_count": 19,
   "id": "ff07641723ad67c6",
   "metadata": {
    "ExecuteTime": {
     "end_time": "2025-07-24T21:16:54.480544Z",
     "start_time": "2025-07-24T21:16:54.477418Z"
    }
   },
   "outputs": [
    {
     "data": {
      "text/plain": [
       "True"
      ]
     },
     "execution_count": 19,
     "metadata": {},
     "output_type": "execute_result"
    }
   ],
   "source": [
    "is_tree_same_iterative(tree_root, tree_root)"
   ]
  }
 ],
 "metadata": {
  "kernelspec": {
   "display_name": "Python 3",
   "language": "python",
   "name": "python3"
  },
  "language_info": {
   "codemirror_mode": {
    "name": "ipython",
    "version": 2
   },
   "file_extension": ".py",
   "mimetype": "text/x-python",
   "name": "python",
   "nbconvert_exporter": "python",
   "pygments_lexer": "ipython2",
   "version": "2.7.6"
  }
 },
 "nbformat": 4,
 "nbformat_minor": 5
}
