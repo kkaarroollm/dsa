{
 "cells": [
  {
   "cell_type": "code",
   "execution_count": 1,
   "id": "initial_id",
   "metadata": {
    "ExecuteTime": {
     "end_time": "2025-07-24T12:18:42.401985Z",
     "start_time": "2025-07-24T12:18:42.398660Z"
    },
    "collapsed": true
   },
   "outputs": [],
   "source": [
    "# Traverse Left, Visit, Traverse Right\n",
    "from structures.tree import TNode, tree_root"
   ]
  },
  {
   "cell_type": "code",
   "execution_count": 2,
   "id": "ee0a8b57e0ee460c",
   "metadata": {
    "ExecuteTime": {
     "end_time": "2025-07-24T12:26:29.513730Z",
     "start_time": "2025-07-24T12:26:29.511327Z"
    }
   },
   "outputs": [],
   "source": [
    "# Recursive\n",
    "\n",
    "\n",
    "def post_order_recursive(root: TNode) -> list[int]:\n",
    "    result = []\n",
    "\n",
    "    def dfs(node: TNode) -> None:\n",
    "        if not node:\n",
    "            return\n",
    "        nonlocal result\n",
    "        if node.left:\n",
    "            dfs(node.left)\n",
    "        if node.right:\n",
    "            dfs(node.right)\n",
    "        result.append(node.val)\n",
    "\n",
    "    dfs(root)\n",
    "    return result"
   ]
  },
  {
   "cell_type": "code",
   "execution_count": 3,
   "id": "197d81ec7365619f",
   "metadata": {
    "ExecuteTime": {
     "end_time": "2025-07-24T12:26:43.005749Z",
     "start_time": "2025-07-24T12:26:43.002602Z"
    }
   },
   "outputs": [
    {
     "data": {
      "text/plain": [
       "[8, 9, 4, 10, 11, 5, 2, 12, 13, 6, 14, 15, 7, 3, 1]"
      ]
     },
     "execution_count": 3,
     "metadata": {},
     "output_type": "execute_result"
    }
   ],
   "source": [
    "post_order_recursive(tree_root)"
   ]
  },
  {
   "cell_type": "code",
   "execution_count": 4,
   "id": "11d52a72cda65cdc",
   "metadata": {
    "ExecuteTime": {
     "end_time": "2025-07-24T12:47:30.907078Z",
     "start_time": "2025-07-24T12:47:30.904470Z"
    }
   },
   "outputs": [],
   "source": [
    "# Iterative\n",
    "\n",
    "\n",
    "def post_order_iterative(root: TNode) -> list[int]:\n",
    "    # it can be done using 2 stacks.\n",
    "    # 1st for (left-right, leveled) visiting order\n",
    "    # 2nd for collecting nodes in reversed order (root, right, left), so if stack 2 reversed, there is an answer.\n",
    "    stk1, stk2 = [], []\n",
    "    stk1.append(root)\n",
    "\n",
    "    while stk1:\n",
    "        node = stk1.pop()\n",
    "        stk2.append(node)\n",
    "\n",
    "        if node.left:\n",
    "            stk1.append(node.left)\n",
    "        if node.right:\n",
    "            stk1.append(node.right)\n",
    "\n",
    "    return [node.val for node in stk2[::-1]]"
   ]
  },
  {
   "cell_type": "code",
   "execution_count": 5,
   "id": "65992fab400b376a",
   "metadata": {
    "ExecuteTime": {
     "end_time": "2025-07-24T12:47:39.829958Z",
     "start_time": "2025-07-24T12:47:39.826982Z"
    }
   },
   "outputs": [
    {
     "data": {
      "text/plain": [
       "[8, 9, 4, 10, 11, 5, 2, 12, 13, 6, 14, 15, 7, 3, 1]"
      ]
     },
     "execution_count": 5,
     "metadata": {},
     "output_type": "execute_result"
    }
   ],
   "source": [
    "post_order_iterative(tree_root)"
   ]
  }
 ],
 "metadata": {
  "kernelspec": {
   "display_name": "Python 3",
   "language": "python",
   "name": "python3"
  },
  "language_info": {
   "codemirror_mode": {
    "name": "ipython",
    "version": 2
   },
   "file_extension": ".py",
   "mimetype": "text/x-python",
   "name": "python",
   "nbconvert_exporter": "python",
   "pygments_lexer": "ipython2",
   "version": "2.7.6"
  }
 },
 "nbformat": 4,
 "nbformat_minor": 5
}
