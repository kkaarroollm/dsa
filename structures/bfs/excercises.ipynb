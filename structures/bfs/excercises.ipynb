{
 "cells": [
  {
   "cell_type": "code",
   "execution_count": 1,
   "id": "initial_id",
   "metadata": {
    "ExecuteTime": {
     "end_time": "2025-07-25T10:54:58.965830Z",
     "start_time": "2025-07-25T10:54:58.963667Z"
    },
    "collapsed": true
   },
   "outputs": [],
   "source": [
    "from collections import deque\n",
    "from structures.tree import TNode, tree_root"
   ]
  },
  {
   "cell_type": "code",
   "execution_count": 14,
   "id": "9054174a542d5c82",
   "metadata": {
    "ExecuteTime": {
     "end_time": "2025-07-26T10:31:39.700588Z",
     "start_time": "2025-07-26T10:31:39.697202Z"
    }
   },
   "outputs": [],
   "source": [
    "# LC: 102\n",
    "# I guess it has to be solved recursively\n",
    "\n",
    "\n",
    "def is_symmetric(root: TNode) -> bool:\n",
    "    def is_same(node_1: TNode, node_2: TNode) -> bool:\n",
    "        if not (node_1 or node_2):\n",
    "            return True\n",
    "        if not (node_1 and node_2):\n",
    "            return False\n",
    "        if node_1.val != node_2.val:\n",
    "            return False\n",
    "        return is_same(node_1.left, node_2.right) and is_same(node_1.right, node_2.left)\n",
    "\n",
    "    return is_same(root.left, root.right)"
   ]
  },
  {
   "cell_type": "code",
   "execution_count": 16,
   "id": "171025d0041591a4",
   "metadata": {
    "ExecuteTime": {
     "end_time": "2025-07-26T10:31:47.962050Z",
     "start_time": "2025-07-26T10:31:47.959153Z"
    }
   },
   "outputs": [
    {
     "data": {
      "text/plain": [
       "True"
      ]
     },
     "execution_count": 16,
     "metadata": {},
     "output_type": "execute_result"
    }
   ],
   "source": [
    "dummy_tree = TNode(1, left=TNode(2), right=TNode(3))\n",
    "dummy_tree_2 = TNode(\n",
    "    1,\n",
    "    left=TNode(2, left=TNode(3), right=TNode(4)),\n",
    "    right=TNode(2, left=TNode(4), right=TNode(3)),\n",
    ")\n",
    "is_symmetric(dummy_tree_2)"
   ]
  }
 ],
 "metadata": {
  "kernelspec": {
   "display_name": "Python 3",
   "language": "python",
   "name": "python3"
  },
  "language_info": {
   "codemirror_mode": {
    "name": "ipython",
    "version": 2
   },
   "file_extension": ".py",
   "mimetype": "text/x-python",
   "name": "python",
   "nbconvert_exporter": "python",
   "pygments_lexer": "ipython2",
   "version": "2.7.6"
  }
 },
 "nbformat": 4,
 "nbformat_minor": 5
}
