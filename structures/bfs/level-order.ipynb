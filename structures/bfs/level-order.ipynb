{
 "cells": [
  {
   "cell_type": "code",
   "execution_count": 2,
   "id": "initial_id",
   "metadata": {
    "ExecuteTime": {
     "end_time": "2025-07-25T10:45:57.913459Z",
     "start_time": "2025-07-25T10:45:57.909500Z"
    },
    "collapsed": true
   },
   "outputs": [],
   "source": [
    "# Level-order traverse (BFS)\n",
    "from collections import deque\n",
    "from structures.tree import TNode, tree_root"
   ]
  },
  {
   "cell_type": "code",
   "execution_count": 3,
   "id": "758fc89ffd9b6e42",
   "metadata": {
    "ExecuteTime": {
     "end_time": "2025-07-25T10:48:59.498029Z",
     "start_time": "2025-07-25T10:48:59.495837Z"
    }
   },
   "outputs": [],
   "source": [
    "t = deque()\n",
    "t.append(2)\n",
    "t.append(4)\n",
    "t.append(7)"
   ]
  },
  {
   "cell_type": "code",
   "execution_count": 5,
   "id": "b07637729de48803",
   "metadata": {
    "ExecuteTime": {
     "end_time": "2025-07-25T10:49:12.931192Z",
     "start_time": "2025-07-25T10:49:12.927262Z"
    }
   },
   "outputs": [
    {
     "data": {
      "text/plain": [
       "2"
      ]
     },
     "execution_count": 5,
     "metadata": {},
     "output_type": "execute_result"
    }
   ],
   "source": [
    "t.popleft()"
   ]
  },
  {
   "cell_type": "code",
   "execution_count": 6,
   "id": "ab7ed738a3f54b7c",
   "metadata": {
    "ExecuteTime": {
     "end_time": "2025-07-25T10:50:25.630178Z",
     "start_time": "2025-07-25T10:50:25.627503Z"
    }
   },
   "outputs": [],
   "source": [
    "def level_order_traverse(root: TNode) -> list[TNode]:\n",
    "    result: list[TNode] = []\n",
    "    q: deque[TNode] = deque()\n",
    "    q.append(root)\n",
    "\n",
    "    while q:\n",
    "        node = q.popleft()\n",
    "        result.append(node)\n",
    "\n",
    "        if node.left:\n",
    "            q.append(node.left)\n",
    "        if node.right:\n",
    "            q.append(node.right)\n",
    "\n",
    "    return result"
   ]
  },
  {
   "cell_type": "code",
   "execution_count": 7,
   "id": "7dd682ce8976d773",
   "metadata": {
    "ExecuteTime": {
     "end_time": "2025-07-25T10:50:33.565321Z",
     "start_time": "2025-07-25T10:50:33.561801Z"
    }
   },
   "outputs": [
    {
     "data": {
      "text/plain": [
       "[TNode(1),\n",
       " TNode(2),\n",
       " TNode(3),\n",
       " TNode(4),\n",
       " TNode(5),\n",
       " TNode(6),\n",
       " TNode(7),\n",
       " TNode(8),\n",
       " TNode(9),\n",
       " TNode(10),\n",
       " TNode(11),\n",
       " TNode(12),\n",
       " TNode(13),\n",
       " TNode(14),\n",
       " TNode(15)]"
      ]
     },
     "execution_count": 7,
     "metadata": {},
     "output_type": "execute_result"
    }
   ],
   "source": [
    "level_order_traverse(tree_root)"
   ]
  }
 ],
 "metadata": {
  "kernelspec": {
   "display_name": "Python 3",
   "language": "python",
   "name": "python3"
  },
  "language_info": {
   "codemirror_mode": {
    "name": "ipython",
    "version": 2
   },
   "file_extension": ".py",
   "mimetype": "text/x-python",
   "name": "python",
   "nbconvert_exporter": "python",
   "pygments_lexer": "ipython2",
   "version": "2.7.6"
  }
 },
 "nbformat": 4,
 "nbformat_minor": 5
}
