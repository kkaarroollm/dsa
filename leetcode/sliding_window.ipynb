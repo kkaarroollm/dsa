{
 "cells": [
  {
   "cell_type": "code",
   "id": "5aff341820c1719e",
   "metadata": {
    "ExecuteTime": {
     "end_time": "2025-08-03T22:51:43.421580Z",
     "start_time": "2025-08-03T22:51:43.418507Z"
    }
   },
   "source": [
    "import collections"
   ],
   "outputs": [],
   "execution_count": 1
  },
  {
   "cell_type": "code",
   "id": "e138378639ed662",
   "metadata": {
    "ExecuteTime": {
     "end_time": "2025-08-03T22:51:43.432450Z",
     "start_time": "2025-08-03T22:51:43.430273Z"
    }
   },
   "source": [
    "# 1876\n",
    "\n",
    "\n",
    "def count_good_substrings(s: str) -> int:\n",
    "    res = 0\n",
    "    n = len(s)\n",
    "\n",
    "    for i in range(2, n):\n",
    "        se = set()\n",
    "        se.add(s[i])\n",
    "        se.add(s[i - 1])\n",
    "        se.add(s[i - 2])\n",
    "        if len(se) == 3:\n",
    "            res += 1\n",
    "    return res"
   ],
   "outputs": [],
   "execution_count": 2
  },
  {
   "cell_type": "code",
   "id": "8f9995434963036d",
   "metadata": {
    "ExecuteTime": {
     "end_time": "2025-08-03T22:51:43.469566Z",
     "start_time": "2025-08-03T22:51:43.467291Z"
    }
   },
   "source": [
    "count_good_substrings(\"xyzzaz\")"
   ],
   "outputs": [
    {
     "data": {
      "text/plain": [
       "1"
      ]
     },
     "execution_count": 3,
     "metadata": {},
     "output_type": "execute_result"
    }
   ],
   "execution_count": 3
  },
  {
   "cell_type": "code",
   "id": "31553de4f3d40f23",
   "metadata": {
    "ExecuteTime": {
     "end_time": "2025-08-03T22:51:43.479990Z",
     "start_time": "2025-08-03T22:51:43.478283Z"
    }
   },
   "source": [
    "# 187\n",
    "\n",
    "\n",
    "def find_repeated_dna_sequences(s: str) -> list[str]:\n",
    "    l = 0\n",
    "    set_ = set()\n",
    "    n = len(s)\n",
    "    res = set()\n",
    "\n",
    "    for r in range(10, n + 1):\n",
    "        w = s[l:r]\n",
    "        if w in set_:\n",
    "            res.add(w)\n",
    "        else:\n",
    "            set_.add(w)\n",
    "        l += 1\n",
    "\n",
    "    return list(res)"
   ],
   "outputs": [],
   "execution_count": 4
  },
  {
   "cell_type": "code",
   "id": "7d7c2252f5f9b0f6",
   "metadata": {
    "ExecuteTime": {
     "end_time": "2025-08-03T22:51:43.488898Z",
     "start_time": "2025-08-03T22:51:43.486902Z"
    }
   },
   "source": [
    "find_repeated_dna_sequences(\"AAAAACCCCCAAAAACCCCCCAAAAAGGGTTT\")"
   ],
   "outputs": [
    {
     "data": {
      "text/plain": [
       "['CCCCCAAAAA', 'AAAAACCCCC']"
      ]
     },
     "execution_count": 5,
     "metadata": {},
     "output_type": "execute_result"
    }
   ],
   "execution_count": 5
  },
  {
   "cell_type": "code",
   "id": "d02276af9338254f",
   "metadata": {
    "ExecuteTime": {
     "end_time": "2025-08-03T22:51:43.503292Z",
     "start_time": "2025-08-03T22:51:43.501515Z"
    }
   },
   "source": [
    "# 209\n",
    "\n",
    "\n",
    "def min_sub_array_len(target: int, nums: list[int]) -> int:\n",
    "    r = 0\n",
    "    res = float(\"inf\")\n",
    "    n = len(nums)\n",
    "    curr_score = 0\n",
    "\n",
    "    for l in range(n):\n",
    "        while curr_score < target and r < n:\n",
    "            curr_score += nums[r]\n",
    "            r += 1\n",
    "\n",
    "        if curr_score >= target:\n",
    "            res = min(res, r - l)\n",
    "\n",
    "        curr_score -= nums[l]\n",
    "\n",
    "    return res if res != float(\"inf\") else 0"
   ],
   "outputs": [],
   "execution_count": 6
  },
  {
   "cell_type": "code",
   "id": "ee6ff8a0447264b2",
   "metadata": {
    "ExecuteTime": {
     "end_time": "2025-08-03T22:51:43.510914Z",
     "start_time": "2025-08-03T22:51:43.509249Z"
    }
   },
   "source": [
    "target_ = 11\n",
    "nums_ = [1, 2, 3, 4, 5]\n",
    "min_sub_array_len(target_, nums_)"
   ],
   "outputs": [
    {
     "data": {
      "text/plain": [
       "3"
      ]
     },
     "execution_count": 7,
     "metadata": {},
     "output_type": "execute_result"
    }
   ],
   "execution_count": 7
  },
  {
   "cell_type": "code",
   "id": "e0511630f56096ca",
   "metadata": {
    "ExecuteTime": {
     "end_time": "2025-08-03T22:51:43.530205Z",
     "start_time": "2025-08-03T22:51:43.528604Z"
    }
   },
   "source": [
    "# 395\n",
    "# Given a string s and an integer k,\n",
    "# return the length of the longest substring of s such that the frequency of each character in this substring is greater than or equal to k.\n",
    "#\n",
    "# if no such substring exists, return 0.\n",
    "\n",
    "\n",
    "def longest_substring(s: str, k: int) -> int:\n",
    "    freq = collections.Counter(s)\n",
    "    for f in freq:\n",
    "        if freq[f] < k:\n",
    "            return max(longest_substring(x, k) for x in s.split(f))\n",
    "\n",
    "    return len(s)"
   ],
   "outputs": [],
   "execution_count": 8
  },
  {
   "cell_type": "code",
   "id": "29daf78121522568",
   "metadata": {
    "ExecuteTime": {
     "end_time": "2025-08-03T22:51:43.536852Z",
     "start_time": "2025-08-03T22:51:43.534996Z"
    }
   },
   "source": [
    "longest_substring(\"weitong\", 2)"
   ],
   "outputs": [
    {
     "data": {
      "text/plain": [
       "0"
      ]
     },
     "execution_count": 9,
     "metadata": {},
     "output_type": "execute_result"
    }
   ],
   "execution_count": 9
  },
  {
   "cell_type": "code",
   "id": "90c1544462f2007",
   "metadata": {
    "ExecuteTime": {
     "end_time": "2025-08-03T22:51:43.552055Z",
     "start_time": "2025-08-03T22:51:43.550403Z"
    }
   },
   "source": [
    "# 3\n",
    "def length_of_longest_substring(s: str) -> int:\n",
    "    set_ = set()\n",
    "    max_ = 0\n",
    "    l = 0\n",
    "    n = len(s)\n",
    "\n",
    "    for r in range(n):\n",
    "        while s[r] in set_:\n",
    "            set_.remove(s[l])\n",
    "            l += 1\n",
    "\n",
    "        set_.add(s[r])\n",
    "        max_ = max(max_, r - l + 1)\n",
    "\n",
    "    return max_"
   ],
   "outputs": [],
   "execution_count": 10
  },
  {
   "cell_type": "code",
   "id": "fc1e81eb7c61f340",
   "metadata": {
    "ExecuteTime": {
     "end_time": "2025-08-03T22:51:43.559797Z",
     "start_time": "2025-08-03T22:51:43.557765Z"
    }
   },
   "source": [
    "length_of_longest_substring(\"dvdf\")"
   ],
   "outputs": [
    {
     "data": {
      "text/plain": [
       "3"
      ]
     },
     "execution_count": 11,
     "metadata": {},
     "output_type": "execute_result"
    }
   ],
   "execution_count": 11
  },
  {
   "cell_type": "code",
   "id": "7a65a42ecc58d9f6",
   "metadata": {
    "ExecuteTime": {
     "end_time": "2025-08-03T22:51:43.577403Z",
     "start_time": "2025-08-03T22:51:43.575330Z"
    }
   },
   "source": [
    "# 3364\n",
    "\n",
    "\n",
    "def minimum_sum_subarray(nums: list[int], l: int, r: int) -> int:\n",
    "    min_ = float(\"inf\")\n",
    "    n = len(nums)\n",
    "\n",
    "    for left in range(n):\n",
    "        curr_sum = 0\n",
    "        for right in range(left, n):\n",
    "            curr_sum += nums[right]\n",
    "            if l <= (right - left + 1) <= r and curr_sum > 0:\n",
    "                min_ = min(min_, curr_sum)\n",
    "\n",
    "    return -1 if min_ == float(\"inf\") else min_"
   ],
   "outputs": [],
   "execution_count": 12
  },
  {
   "cell_type": "code",
   "id": "94acc3b61ff41271",
   "metadata": {
    "ExecuteTime": {
     "end_time": "2025-08-03T22:51:43.584796Z",
     "start_time": "2025-08-03T22:51:43.582926Z"
    }
   },
   "source": [
    "minimum_sum_subarray([3, -2, 1, 4], l=2, r=3)"
   ],
   "outputs": [
    {
     "data": {
      "text/plain": [
       "1"
      ]
     },
     "execution_count": 13,
     "metadata": {},
     "output_type": "execute_result"
    }
   ],
   "execution_count": 13
  },
  {
   "cell_type": "code",
   "id": "b86f489ab12e82a4",
   "metadata": {
    "ExecuteTime": {
     "end_time": "2025-08-03T22:51:43.603117Z",
     "start_time": "2025-08-03T22:51:43.600418Z"
    }
   },
   "source": [
    "# 438\n",
    "# return indexes where anagram of str p starts in str s\n",
    "# abc\n",
    "# c b a e b a b a c d\n",
    "# 1 case: window has to be of size of p\n",
    "#\n",
    "\n",
    "\n",
    "def find_anagrams(s: str, p: str) -> list[int]:\n",
    "    if len(p) > len(s):\n",
    "        return []\n",
    "    ls = len(s)\n",
    "    lp = len(p)\n",
    "    s_dct = collections.defaultdict(int)\n",
    "    p_dct = collections.defaultdict(int)\n",
    "    l = 0\n",
    "\n",
    "    for i in range(len(p)):\n",
    "        p_dct[p[i]] += 1\n",
    "        s_dct[s[i]] += 1\n",
    "\n",
    "    res = [0] if p_dct == s_dct else []\n",
    "\n",
    "    for r in range(lp, ls):\n",
    "        s_dct[s[r]] += 1\n",
    "        s_dct[s[l]] -= 1\n",
    "\n",
    "        if s_dct[s[l]] == 0:\n",
    "            del s_dct[s[l]]\n",
    "\n",
    "        l += 1\n",
    "\n",
    "        if p_dct == s_dct:\n",
    "            res.append(l)\n",
    "\n",
    "    return res"
   ],
   "outputs": [],
   "execution_count": 14
  },
  {
   "cell_type": "code",
   "id": "e300c171cb147dc5",
   "metadata": {
    "ExecuteTime": {
     "end_time": "2025-08-03T22:51:43.609834Z",
     "start_time": "2025-08-03T22:51:43.607908Z"
    }
   },
   "source": [
    "find_anagrams(\"cbaebabacd\", \"abc\")"
   ],
   "outputs": [
    {
     "data": {
      "text/plain": [
       "[0, 6]"
      ]
     },
     "execution_count": 15,
     "metadata": {},
     "output_type": "execute_result"
    }
   ],
   "execution_count": 15
  },
  {
   "cell_type": "code",
   "id": "c466f28d6bd6522",
   "metadata": {
    "ExecuteTime": {
     "end_time": "2025-08-03T22:51:43.626406Z",
     "start_time": "2025-08-03T22:51:43.624541Z"
    }
   },
   "source": [
    "# 424\n",
    "\n",
    "\n",
    "def character_replacement(s: str, k: int) -> int:\n",
    "    dct = collections.defaultdict(int)\n",
    "    res, max_count, l = 0, 0, 0\n",
    "\n",
    "    for r in range(len(s)):\n",
    "        dct[s[r]] += 1\n",
    "        max_count = max(max_count, dct[s[r]])\n",
    "\n",
    "        while (r - l + 1) - max_count > k:\n",
    "            dct[s[l]] -= 1\n",
    "            l += 1\n",
    "\n",
    "        res = max(res, r - l + 1)\n",
    "\n",
    "    return res"
   ],
   "outputs": [],
   "execution_count": 16
  },
  {
   "cell_type": "code",
   "id": "8ff80c20fa45b801",
   "metadata": {
    "ExecuteTime": {
     "end_time": "2025-08-03T22:51:43.632296Z",
     "start_time": "2025-08-03T22:51:43.630667Z"
    }
   },
   "source": [
    "character_replacement(\"ABBAAAB\", k=3)"
   ],
   "outputs": [
    {
     "data": {
      "text/plain": [
       "7"
      ]
     },
     "execution_count": 17,
     "metadata": {},
     "output_type": "execute_result"
    }
   ],
   "execution_count": 17
  },
  {
   "cell_type": "code",
   "id": "36159cc90beaeff4",
   "metadata": {
    "ExecuteTime": {
     "end_time": "2025-08-03T22:51:43.649361Z",
     "start_time": "2025-08-03T22:51:43.647930Z"
    }
   },
   "source": [
    "# 413\n",
    "\n",
    "\n",
    "def number_of_arithmetic_slices(nums: list[int]) -> int:\n",
    "    n = len(nums)\n",
    "    l, res = 0, 0\n",
    "\n",
    "    return res"
   ],
   "outputs": [],
   "execution_count": 18
  },
  {
   "cell_type": "code",
   "id": "e356ff65ea030da7",
   "metadata": {
    "ExecuteTime": {
     "end_time": "2025-08-03T22:51:43.656405Z",
     "start_time": "2025-08-03T22:51:43.654486Z"
    }
   },
   "source": [
    "# 567\n",
    "\n",
    "\n",
    "def check_inclusion(s1: str, s2: str) -> bool:\n",
    "    l = 0\n",
    "    n1 = len(s1)\n",
    "    n2 = len(s2)\n",
    "    dct_1, dct_2 = {}, {}\n",
    "\n",
    "    for i in range(n1):\n",
    "        dct_1[s1[i]] = 1 + dct_1.get(s1[i], 0)\n",
    "\n",
    "    for r in range(n2):\n",
    "        dct_2[s2[r]] = 1 + dct_2.get(s2[r], 0)\n",
    "\n",
    "        if (r - l + 1) > n1:\n",
    "            dct_2[s2[l]] = dct_2.get(s2[l], 1) - 1\n",
    "            if dct_2[s2[l]] <= 0:\n",
    "                dct_2.pop(s2[l])\n",
    "            l += 1\n",
    "\n",
    "        if dct_1 == dct_2:\n",
    "            return True\n",
    "\n",
    "    return False"
   ],
   "outputs": [],
   "execution_count": 19
  },
  {
   "cell_type": "code",
   "id": "a94d7edac4e571fc",
   "metadata": {
    "ExecuteTime": {
     "end_time": "2025-08-03T22:51:43.663140Z",
     "start_time": "2025-08-03T22:51:43.661407Z"
    }
   },
   "source": [
    "check_inclusion(s1=\"ab\", s2=\"eidbaooo\")"
   ],
   "outputs": [
    {
     "data": {
      "text/plain": [
       "True"
      ]
     },
     "execution_count": 20,
     "metadata": {},
     "output_type": "execute_result"
    }
   ],
   "execution_count": 20
  }
 ],
 "metadata": {
  "kernelspec": {
   "display_name": "algorithms",
   "language": "python",
   "name": "algorithms"
  },
  "language_info": {
   "codemirror_mode": {
    "name": "ipython",
    "version": 2
   },
   "file_extension": ".py",
   "mimetype": "text/x-python",
   "name": "python",
   "nbconvert_exporter": "python",
   "pygments_lexer": "ipython2",
   "version": "2.7.6"
  }
 },
 "nbformat": 4,
 "nbformat_minor": 5
}
