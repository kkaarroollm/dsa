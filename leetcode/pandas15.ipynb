{
 "cells": [
  {
   "cell_type": "code",
   "execution_count": 1,
   "id": "initial_id",
   "metadata": {
    "ExecuteTime": {
     "end_time": "2025-08-28T20:26:14.133276Z",
     "start_time": "2025-08-28T20:26:13.085836Z"
    },
    "collapsed": true
   },
   "outputs": [],
   "source": [
    "import pandas as pd"
   ]
  },
  {
   "cell_type": "code",
   "execution_count": 2,
   "id": "f983946b6deee20f",
   "metadata": {
    "ExecuteTime": {
     "end_time": "2025-08-28T20:26:14.196186Z",
     "start_time": "2025-08-28T20:26:14.194636Z"
    }
   },
   "outputs": [],
   "source": [
    "# 2877\n",
    "\n",
    "\n",
    "def create_dataframe(student_data: list[list[int]]) -> pd.DataFrame:\n",
    "    return pd.DataFrame(student_data, columns=[\"student_id\", \"age\"])"
   ]
  },
  {
   "cell_type": "code",
   "execution_count": 3,
   "id": "1489a8e71a0daffb",
   "metadata": {
    "ExecuteTime": {
     "end_time": "2025-08-28T20:26:14.203505Z",
     "start_time": "2025-08-28T20:26:14.201901Z"
    }
   },
   "outputs": [],
   "source": [
    "dt = create_dataframe([[1, 15], [2, 11], [3, 11], [4, 20]])"
   ]
  },
  {
   "cell_type": "code",
   "execution_count": 4,
   "id": "72acc09ff099205",
   "metadata": {
    "ExecuteTime": {
     "end_time": "2025-08-28T20:26:14.216116Z",
     "start_time": "2025-08-28T20:26:14.214769Z"
    }
   },
   "outputs": [],
   "source": [
    "# 2878\n",
    "\n",
    "\n",
    "def get_dataframe_size(players: pd.DataFrame) -> list[int]:\n",
    "    return [*players.shape]"
   ]
  },
  {
   "cell_type": "code",
   "execution_count": 5,
   "id": "5ca7dbbfb91fb5d",
   "metadata": {
    "ExecuteTime": {
     "end_time": "2025-08-28T20:26:14.224217Z",
     "start_time": "2025-08-28T20:26:14.221755Z"
    }
   },
   "outputs": [
    {
     "data": {
      "text/plain": [
       "[4, 2]"
      ]
     },
     "execution_count": 5,
     "metadata": {},
     "output_type": "execute_result"
    }
   ],
   "source": [
    "get_dataframe_size(dt)"
   ]
  },
  {
   "cell_type": "code",
   "execution_count": 6,
   "id": "c6512f9c1cd7abb",
   "metadata": {
    "ExecuteTime": {
     "end_time": "2025-08-28T20:26:14.242102Z",
     "start_time": "2025-08-28T20:26:14.240228Z"
    }
   },
   "outputs": [],
   "source": [
    "# 2879\n",
    "\n",
    "\n",
    "def select_first_rows(employees: pd.DataFrame) -> pd.DataFrame:\n",
    "    employees[\"essa\"] = employees[\"age\"]"
   ]
  },
  {
   "cell_type": "code",
   "execution_count": 7,
   "id": "3404820a5e9b1ebb",
   "metadata": {
    "ExecuteTime": {
     "end_time": "2025-08-28T20:26:14.250503Z",
     "start_time": "2025-08-28T20:26:14.248865Z"
    }
   },
   "outputs": [],
   "source": [
    "select_first_rows(dt)"
   ]
  },
  {
   "cell_type": "code",
   "execution_count": 8,
   "id": "ed78cdf5dd6adee2",
   "metadata": {
    "ExecuteTime": {
     "end_time": "2025-08-28T20:26:14.260361Z",
     "start_time": "2025-08-28T20:26:14.258588Z"
    }
   },
   "outputs": [],
   "source": [
    "def count_salary_categories(accounts: pd.DataFrame) -> pd.DataFrame:\n",
    "    s = accounts[\"income\"].sum()\n",
    "    series = pd.Series(\n",
    "        {\n",
    "            \"High Salary\": pd.Series(s > 50000).sum(),\n",
    "            \"Low Salary\": pd.Series(s < 20000).sum(),\n",
    "            \"Average Salary\": pd.Series(20000 <= s <= 50000).sum(),\n",
    "        }\n",
    "    )\n",
    "    return series.reindex(\"category\").reset_index()"
   ]
  }
 ],
 "metadata": {
  "kernelspec": {
   "display_name": "Python 3",
   "language": "python",
   "name": "python3"
  },
  "language_info": {
   "codemirror_mode": {
    "name": "ipython",
    "version": 2
   },
   "file_extension": ".py",
   "mimetype": "text/x-python",
   "name": "python",
   "nbconvert_exporter": "python",
   "pygments_lexer": "ipython2",
   "version": "2.7.6"
  }
 },
 "nbformat": 4,
 "nbformat_minor": 5
}
