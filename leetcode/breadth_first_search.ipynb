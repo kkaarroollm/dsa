{
 "cells": [
  {
   "cell_type": "code",
   "id": "cf12276b34c11c64",
   "metadata": {
    "ExecuteTime": {
     "end_time": "2025-08-28T20:25:27.809486Z",
     "start_time": "2025-08-28T20:25:27.804910Z"
    }
   },
   "source": [
    "import os\n",
    "import sys\n",
    "from collections import deque\n",
    "\n",
    "\n",
    "module_path = os.path.abspath(os.path.join(\"../..\"))\n",
    "if module_path not in sys.path:\n",
    "    sys.path.append(module_path)"
   ],
   "outputs": [],
   "execution_count": 1
  },
  {
   "cell_type": "code",
   "id": "a512e0636a6f41de",
   "metadata": {
    "ExecuteTime": {
     "end_time": "2025-08-28T20:25:27.892980Z",
     "start_time": "2025-08-28T20:25:27.890008Z"
    }
   },
   "source": [
    "from structures.tree import tree_root"
   ],
   "outputs": [],
   "execution_count": 2
  },
  {
   "cell_type": "code",
   "id": "584534d8684ea12e",
   "metadata": {
    "ExecuteTime": {
     "end_time": "2025-08-28T20:25:27.900210Z",
     "start_time": "2025-08-28T20:25:27.897665Z"
    }
   },
   "source": [
    "class TreeNode:\n",
    "    def __init__(self, val: int = 0, left: \"TreeNode\" = None, right: \"TreeNode\" = None):\n",
    "        self.val = val\n",
    "        self.left = left\n",
    "        self.right = right\n",
    "\n",
    "    def __str__(self):\n",
    "        return f\"{self.__class__.__name__}(val={self.val})\"\n",
    "\n",
    "\n",
    "class Node(TreeNode):\n",
    "    def __init__(\n",
    "        self,\n",
    "        val: int = 0,\n",
    "        left: \"TreeNode\" = None,\n",
    "        right: \"TreeNode\" = None,\n",
    "        next: \"Node\" = None,\n",
    "    ):\n",
    "        super().__init__(val, left, right)\n",
    "        self.next = next"
   ],
   "outputs": [],
   "execution_count": 3
  },
  {
   "cell_type": "code",
   "id": "ed77d5e06c3689ae",
   "metadata": {
    "ExecuteTime": {
     "end_time": "2025-08-28T20:25:27.906758Z",
     "start_time": "2025-08-28T20:25:27.904717Z"
    }
   },
   "source": [
    "# 102\n",
    "# each len of queue is another level\n",
    "\n",
    "\n",
    "def level_order(root: TreeNode | None) -> list[list[int]]:\n",
    "    if not root:\n",
    "        return []\n",
    "    queue = deque()\n",
    "    queue.append(root)\n",
    "    res = []\n",
    "\n",
    "    while queue:\n",
    "        level = []\n",
    "        for _ in range(len(queue)):\n",
    "            node = queue.popleft()\n",
    "            level.append(node.val)\n",
    "            if node.left:\n",
    "                queue.append(node.left)\n",
    "            if node.right:\n",
    "                queue.append(node.right)\n",
    "        res.append(level)\n",
    "    return res"
   ],
   "outputs": [],
   "execution_count": 4
  },
  {
   "cell_type": "code",
   "id": "f12f9d6b37506c4e",
   "metadata": {
    "ExecuteTime": {
     "end_time": "2025-08-28T20:25:27.914433Z",
     "start_time": "2025-08-28T20:25:27.911597Z"
    }
   },
   "source": [
    "level_order(tree_root)"
   ],
   "outputs": [
    {
     "data": {
      "text/plain": [
       "[[1], [2, 3], [4, 5, 6, 7], [8, 9, 10, 11, 12, 13, 14, 15]]"
      ]
     },
     "execution_count": 5,
     "metadata": {},
     "output_type": "execute_result"
    }
   ],
   "execution_count": 5
  },
  {
   "cell_type": "code",
   "id": "fa1b42cdb1fcdea2",
   "metadata": {
    "ExecuteTime": {
     "end_time": "2025-08-28T20:25:27.929325Z",
     "start_time": "2025-08-28T20:25:27.926811Z"
    }
   },
   "source": [
    "# 200\n",
    "\n",
    "\n",
    "def num_islands(grid: list[list[str]]) -> int:\n",
    "    if not grid:\n",
    "        return 0\n",
    "\n",
    "    rows, cols = len(grid), len(grid[0])\n",
    "    visited = set()\n",
    "    islands = 0\n",
    "\n",
    "    def bfs(row, col):\n",
    "        DIRECTIONS = [(1, 0), (-1, 0), (0, -1), (0, 1)]\n",
    "        q = deque()\n",
    "        q.append((row, col))\n",
    "        visited.add((row, col))\n",
    "\n",
    "        while q:\n",
    "            r, c = q.popleft()\n",
    "\n",
    "            for dr, dc in DIRECTIONS:\n",
    "                shift_r, shift_c = r + dr, c + dc\n",
    "                if (\n",
    "                    0 <= shift_r < rows\n",
    "                    and 0 <= shift_c < cols\n",
    "                    and grid[shift_r][shift_c] == \"1\"\n",
    "                    and (shift_r, shift_c) not in visited\n",
    "                ):\n",
    "                    q.append((shift_r, shift_c))\n",
    "                visited.add((shift_r, shift_c))\n",
    "\n",
    "    for r in range(rows):\n",
    "        for c in range(cols):\n",
    "            if grid[r][c] == \"1\" and (r, c) not in visited:\n",
    "                bfs(r, c)\n",
    "                islands += 1\n",
    "\n",
    "    return islands"
   ],
   "outputs": [],
   "execution_count": 6
  },
  {
   "cell_type": "code",
   "id": "e3d9c22394fc8305",
   "metadata": {
    "ExecuteTime": {
     "end_time": "2025-08-28T20:25:27.938999Z",
     "start_time": "2025-08-28T20:25:27.936814Z"
    }
   },
   "source": [
    "num_islands(\n",
    "    grid=[\n",
    "        [\"1\", \"1\", \"1\", \"1\", \"0\"],\n",
    "        [\"1\", \"1\", \"0\", \"1\", \"0\"],\n",
    "        [\"1\", \"1\", \"0\", \"0\", \"0\"],\n",
    "        [\"0\", \"0\", \"0\", \"0\", \"0\"],\n",
    "    ]\n",
    ")\n",
    "num_islands([[\"1\"]])"
   ],
   "outputs": [
    {
     "data": {
      "text/plain": [
       "1"
      ]
     },
     "execution_count": 7,
     "metadata": {},
     "output_type": "execute_result"
    }
   ],
   "execution_count": 7
  },
  {
   "cell_type": "code",
   "id": "946e7b029d4148de",
   "metadata": {
    "ExecuteTime": {
     "end_time": "2025-08-28T20:25:27.949241Z",
     "start_time": "2025-08-28T20:25:27.947424Z"
    }
   },
   "source": [
    "# 116\n",
    "\n",
    "\n",
    "def connect(root: Node | None) -> Node | None:\n",
    "    if not root:\n",
    "        return None\n",
    "\n",
    "    q = deque()\n",
    "    q.append(root)\n",
    "\n",
    "    while q:\n",
    "        stk = []\n",
    "        for _ in range(len(q)):\n",
    "            node = q.popleft()\n",
    "            stk.append(node)\n",
    "\n",
    "            if node.right:\n",
    "                q.append(node.right)\n",
    "\n",
    "            if node.left:\n",
    "                q.append(node.left)\n",
    "\n",
    "        while stk:\n",
    "            node = stk.pop()\n",
    "            node.next = stk[-1] if stk else None\n",
    "\n",
    "    return root"
   ],
   "outputs": [],
   "execution_count": 8
  },
  {
   "cell_type": "code",
   "id": "85c6f6b525699d2",
   "metadata": {
    "ExecuteTime": {
     "end_time": "2025-08-28T20:25:27.960638Z",
     "start_time": "2025-08-28T20:25:27.957843Z"
    }
   },
   "source": [
    "# 130 BFS - pretty not that efficient\n",
    "\n",
    "\n",
    "def solve(board: list[list[str]]) -> list[list[str]] | None:\n",
    "    if not board:\n",
    "        return None\n",
    "\n",
    "    rows, cols = len(board), len(board[0])\n",
    "    visited = set()\n",
    "\n",
    "    def bfs(row: int, col: int) -> None:\n",
    "        DIRECTIONS = [(1, 0), (-1, 0), (0, -1), (0, 1)]\n",
    "\n",
    "        q = deque()\n",
    "        q.append((row, col))\n",
    "        possible_sur: set[tuple[int, int]] = set()\n",
    "        touches_edges = False\n",
    "\n",
    "        while q:\n",
    "            r, c = q.popleft()\n",
    "\n",
    "            if not (0 < r < rows - 1 and 0 < c < cols - 1):\n",
    "                touches_edges = True\n",
    "\n",
    "            possible_sur.add((r, c))\n",
    "\n",
    "            for dr, dc in DIRECTIONS:\n",
    "                nei_r, nei_c = r + dr, c + dc\n",
    "                if (\n",
    "                    0 <= nei_r < rows\n",
    "                    and 0 <= nei_c < cols\n",
    "                    and (nei_r, nei_c) not in visited\n",
    "                    and board[nei_r][nei_c] == \"O\"\n",
    "                ):\n",
    "                    visited.add((nei_r, nei_c))\n",
    "                    q.append((nei_r, nei_c))\n",
    "                    possible_sur.add((nei_r, nei_c))\n",
    "\n",
    "        if not touches_edges:\n",
    "            for pr, pc in possible_sur:\n",
    "                board[pr][pc] = \"X\"\n",
    "\n",
    "    for r in range(rows):\n",
    "        for c in range(cols):\n",
    "            if (r, c) not in visited and board[r][c] == \"O\":\n",
    "                bfs(r, c)\n",
    "\n",
    "    return board"
   ],
   "outputs": [],
   "execution_count": 9
  },
  {
   "cell_type": "code",
   "id": "29d5bef603dd35aa",
   "metadata": {
    "ExecuteTime": {
     "end_time": "2025-08-28T20:25:27.967627Z",
     "start_time": "2025-08-28T20:25:27.965057Z"
    }
   },
   "source": [
    "solve(\n",
    "    [\n",
    "        [\"O\", \"X\", \"X\", \"O\", \"X\"],\n",
    "        [\"X\", \"O\", \"O\", \"X\", \"O\"],\n",
    "        [\"X\", \"O\", \"X\", \"O\", \"X\"],\n",
    "        [\"O\", \"X\", \"O\", \"O\", \"O\"],\n",
    "        [\"X\", \"X\", \"O\", \"X\", \"O\"],\n",
    "    ]\n",
    ")\n",
    "solve(\n",
    "    [\n",
    "        [\"O\", \"O\", \"O\", \"O\", \"X\", \"X\"],\n",
    "        [\"O\", \"O\", \"O\", \"O\", \"O\", \"O\"],\n",
    "        [\"O\", \"X\", \"O\", \"X\", \"O\", \"O\"],\n",
    "        [\"O\", \"X\", \"O\", \"O\", \"X\", \"O\"],\n",
    "        [\"O\", \"X\", \"O\", \"X\", \"O\", \"O\"],\n",
    "        [\"O\", \"X\", \"O\", \"O\", \"O\", \"O\"],\n",
    "    ]\n",
    ")"
   ],
   "outputs": [
    {
     "data": {
      "text/plain": [
       "[['O', 'O', 'O', 'O', 'X', 'X'],\n",
       " ['O', 'O', 'O', 'O', 'O', 'O'],\n",
       " ['O', 'X', 'O', 'X', 'O', 'O'],\n",
       " ['O', 'X', 'O', 'O', 'X', 'O'],\n",
       " ['O', 'X', 'O', 'X', 'O', 'O'],\n",
       " ['O', 'X', 'O', 'O', 'O', 'O']]"
      ]
     },
     "execution_count": 10,
     "metadata": {},
     "output_type": "execute_result"
    }
   ],
   "execution_count": 10
  },
  {
   "cell_type": "code",
   "id": "954feb30e6ea7a31",
   "metadata": {
    "ExecuteTime": {
     "end_time": "2025-08-28T20:25:27.974410Z",
     "start_time": "2025-08-28T20:25:27.972174Z"
    }
   },
   "source": [
    "# 130 - DFS approach\n",
    "\n",
    "\n",
    "def solve(board: list[list[str]]) -> list[list[str]] | None:\n",
    "    if not board:\n",
    "        return None\n",
    "\n",
    "    rows, cols = len(board), len(board[0])\n",
    "    visited = set()\n",
    "\n",
    "    def dfs(r, c):\n",
    "        if (\n",
    "            not (0 <= r < rows and 0 <= c < cols)\n",
    "            or (r, c) in visited\n",
    "            or board[r][c] != \"O\"\n",
    "        ):\n",
    "            return\n",
    "\n",
    "        visited.add((r, c))\n",
    "        dfs(r + 1, c)\n",
    "        dfs(r - 1, c)\n",
    "        dfs(r, c + 1)\n",
    "        dfs(r, c - 1)\n",
    "\n",
    "    for r in range(rows):\n",
    "        dfs(r, 0)\n",
    "        dfs(r, cols - 1)\n",
    "\n",
    "    for c in range(cols):\n",
    "        dfs(0, c)\n",
    "        dfs(rows - 1, c)\n",
    "\n",
    "    for r in range(rows):\n",
    "        for c in range(cols):\n",
    "            if (r, c) not in visited and board[r][c] == \"O\":\n",
    "                board[r][c] = \"X\"\n",
    "\n",
    "    return board"
   ],
   "outputs": [],
   "execution_count": 11
  },
  {
   "cell_type": "code",
   "id": "77cc68f6419284ca",
   "metadata": {
    "ExecuteTime": {
     "end_time": "2025-08-28T20:25:27.985010Z",
     "start_time": "2025-08-28T20:25:27.982429Z"
    }
   },
   "source": [
    "solve(\n",
    "    [\n",
    "        [\"O\", \"X\", \"X\", \"O\", \"X\"],\n",
    "        [\"X\", \"O\", \"O\", \"X\", \"O\"],\n",
    "        [\"X\", \"O\", \"X\", \"O\", \"X\"],\n",
    "        [\"O\", \"X\", \"O\", \"O\", \"O\"],\n",
    "        [\"X\", \"X\", \"O\", \"X\", \"O\"],\n",
    "    ]\n",
    ")\n",
    "solve(\n",
    "    [\n",
    "        [\"O\", \"O\", \"O\", \"O\", \"X\", \"X\"],\n",
    "        [\"O\", \"O\", \"O\", \"O\", \"O\", \"O\"],\n",
    "        [\"O\", \"X\", \"O\", \"X\", \"O\", \"O\"],\n",
    "        [\"O\", \"X\", \"O\", \"O\", \"X\", \"O\"],\n",
    "        [\"O\", \"X\", \"O\", \"X\", \"O\", \"O\"],\n",
    "        [\"O\", \"X\", \"O\", \"O\", \"O\", \"O\"],\n",
    "    ]\n",
    ")"
   ],
   "outputs": [
    {
     "data": {
      "text/plain": [
       "[['O', 'O', 'O', 'O', 'X', 'X'],\n",
       " ['O', 'O', 'O', 'O', 'O', 'O'],\n",
       " ['O', 'X', 'O', 'X', 'O', 'O'],\n",
       " ['O', 'X', 'O', 'O', 'X', 'O'],\n",
       " ['O', 'X', 'O', 'X', 'O', 'O'],\n",
       " ['O', 'X', 'O', 'O', 'O', 'O']]"
      ]
     },
     "execution_count": 12,
     "metadata": {},
     "output_type": "execute_result"
    }
   ],
   "execution_count": 12
  }
 ],
 "metadata": {
  "kernelspec": {
   "display_name": "Python 3",
   "language": "python",
   "name": "python3"
  },
  "language_info": {
   "codemirror_mode": {
    "name": "ipython",
    "version": 2
   },
   "file_extension": ".py",
   "mimetype": "text/x-python",
   "name": "python",
   "nbconvert_exporter": "python",
   "pygments_lexer": "ipython2",
   "version": "2.7.6"
  }
 },
 "nbformat": 4,
 "nbformat_minor": 5
}
