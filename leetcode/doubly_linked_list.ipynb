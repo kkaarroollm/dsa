{
 "cells": [
  {
   "cell_type": "code",
   "id": "initial_id",
   "metadata": {
    "collapsed": true,
    "ExecuteTime": {
     "end_time": "2025-08-28T20:25:46.585119Z",
     "start_time": "2025-08-28T20:25:46.577352Z"
    }
   },
   "source": [
    "class Node:\n",
    "    __slots__ = \"key\", \"value\", \"prev\", \"next\"\n",
    "\n",
    "    def __init__(self, key: int, value: int, next=None, prev=None):\n",
    "        self.key = key\n",
    "        self.value = value\n",
    "        self.next = next\n",
    "        self.prev = prev\n",
    "\n",
    "    def __repr__(self):\n",
    "        return f\"Node({self.key}: {self.value})\"\n",
    "\n",
    "\n",
    "class LRUCache:\n",
    "    def __init__(self, capacity: int):\n",
    "        self._mapping: dict[int, Node] = {}\n",
    "        self._head: Node | None = None\n",
    "        self._tail: Node | None = None\n",
    "        self._capacity: int = capacity\n",
    "        self._size = 0\n",
    "\n",
    "    def get(self, key: int) -> int:\n",
    "        if not (node := self._mapping.get(key)):\n",
    "            return -1\n",
    "        self._refresh(node)\n",
    "        return node.value\n",
    "\n",
    "    def put(self, key: int, value: int) -> None:\n",
    "        if not (node := self._mapping.get(key)):\n",
    "            return self._add(key, value)\n",
    "        node.value = value\n",
    "        return self._refresh(node)\n",
    "\n",
    "    def _add_to_front(self, node: Node) -> None:\n",
    "        node.prev = None\n",
    "        node.next = self._head\n",
    "        if self._head:\n",
    "            self._head.prev = node\n",
    "        self._head = node\n",
    "        if not self._tail:\n",
    "            self._tail = node\n",
    "        return None\n",
    "\n",
    "    def _add(self, key: int, val: int) -> None:\n",
    "        node = Node(key, val)\n",
    "        self._mapping[key] = node\n",
    "        self._add_to_front(node)\n",
    "        self._size += 1\n",
    "        self._ensure_capacity()\n",
    "        return None\n",
    "\n",
    "    def _refresh(self, node: Node) -> None:\n",
    "        if node is self._head:\n",
    "            return None\n",
    "        self._remove_node(node)\n",
    "        self._add_to_front(node)\n",
    "        return None\n",
    "\n",
    "    def _remove_node(self, node: Node) -> None:\n",
    "        if node.prev:\n",
    "            node.prev.next = node.next\n",
    "        else:\n",
    "            self._head = node.next\n",
    "\n",
    "        if node.next:\n",
    "            node.next.prev = node.prev\n",
    "        else:\n",
    "            self._tail = node.prev\n",
    "        node.prev = node.next = None\n",
    "\n",
    "    def _ensure_capacity(self) -> None:\n",
    "        while self._size > self._capacity:\n",
    "            lru = self._tail\n",
    "            if lru is None:\n",
    "                break\n",
    "            self._remove_node(lru)\n",
    "            del self._mapping[lru.key]\n",
    "            self._size -= 1\n",
    "        return None"
   ],
   "outputs": [],
   "execution_count": 1
  },
  {
   "cell_type": "code",
   "id": "fe17292771fba544",
   "metadata": {
    "ExecuteTime": {
     "end_time": "2025-08-28T20:25:46.655209Z",
     "start_time": "2025-08-28T20:25:46.653418Z"
    }
   },
   "source": [
    "obj = LRUCache(3)\n",
    "obj.put(3, 3)\n",
    "obj.put(2, 2)\n",
    "obj.put(5, 5)\n",
    "obj.put(3, 3)"
   ],
   "outputs": [],
   "execution_count": 2
  }
 ],
 "metadata": {
  "kernelspec": {
   "display_name": "Python 3",
   "language": "python",
   "name": "python3"
  },
  "language_info": {
   "codemirror_mode": {
    "name": "ipython",
    "version": 2
   },
   "file_extension": ".py",
   "mimetype": "text/x-python",
   "name": "python",
   "nbconvert_exporter": "python",
   "pygments_lexer": "ipython2",
   "version": "2.7.6"
  }
 },
 "nbformat": 4,
 "nbformat_minor": 5
}
