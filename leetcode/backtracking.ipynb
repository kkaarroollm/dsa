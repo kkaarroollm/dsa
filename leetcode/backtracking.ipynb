{
 "cells": [
  {
   "cell_type": "code",
   "execution_count": 1204,
   "id": "3517ef4b5b2e48de",
   "metadata": {
    "ExecuteTime": {
     "end_time": "2025-09-02T20:54:24.604943Z",
     "start_time": "2025-09-02T20:54:24.602902Z"
    }
   },
   "outputs": [],
   "source": [
    "# can delete duplicate nums with xor ^"
   ]
  },
  {
   "cell_type": "code",
   "execution_count": 1205,
   "id": "cabca6362e7c28f9",
   "metadata": {
    "ExecuteTime": {
     "end_time": "2025-09-02T20:54:24.619519Z",
     "start_time": "2025-09-02T20:54:24.617663Z"
    }
   },
   "outputs": [],
   "source": [
    "import itertools\n",
    "import typing"
   ]
  },
  {
   "cell_type": "code",
   "execution_count": 1206,
   "id": "4b81d029d472165",
   "metadata": {
    "ExecuteTime": {
     "end_time": "2025-09-02T20:54:24.634628Z",
     "start_time": "2025-09-02T20:54:24.632871Z"
    }
   },
   "outputs": [],
   "source": [
    "# 46\n",
    "# can be done with itertools\n",
    "\n",
    "\n",
    "def permute(nums: list[int]) -> list[list[int]]:\n",
    "    return [list(x) for x in itertools.permutations(nums, len(set(nums)))]"
   ]
  },
  {
   "cell_type": "code",
   "execution_count": 1207,
   "id": "b3ab0b254894eaad",
   "metadata": {
    "ExecuteTime": {
     "end_time": "2025-09-02T20:54:24.643342Z",
     "start_time": "2025-09-02T20:54:24.641274Z"
    }
   },
   "outputs": [],
   "source": [
    "# without itertools.permutations method, used backtracking\n",
    "\n",
    "\n",
    "def permute(nums: list[int]) -> list[list[int]]:\n",
    "    res, path = [], []\n",
    "\n",
    "    def backtrack() -> None:\n",
    "        if len(path) == len(nums):\n",
    "            res.append(path.copy())\n",
    "            return None\n",
    "\n",
    "        for n in nums:\n",
    "            if n not in path:\n",
    "                path.append(n)\n",
    "                backtrack()\n",
    "                path.pop()\n",
    "        return None\n",
    "\n",
    "    backtrack()\n",
    "    return res"
   ]
  },
  {
   "cell_type": "code",
   "execution_count": 1208,
   "id": "11cc4d6e058ca90e",
   "metadata": {
    "ExecuteTime": {
     "end_time": "2025-09-02T20:54:24.652575Z",
     "start_time": "2025-09-02T20:54:24.650789Z"
    }
   },
   "outputs": [
    {
     "data": {
      "text/plain": [
       "[[2, 3, 5], [2, 5, 3], [3, 2, 5], [3, 5, 2], [5, 2, 3], [5, 3, 2]]"
      ]
     },
     "execution_count": 1208,
     "metadata": {},
     "output_type": "execute_result"
    }
   ],
   "source": [
    "permute([2, 3, 5])"
   ]
  },
  {
   "cell_type": "code",
   "execution_count": 1209,
   "id": "7b14e10220d6c739",
   "metadata": {
    "ExecuteTime": {
     "end_time": "2025-09-02T20:54:24.667044Z",
     "start_time": "2025-09-02T20:54:24.665013Z"
    }
   },
   "outputs": [],
   "source": [
    "# 78\n",
    "\n",
    "\n",
    "def subsets(nums: list[int]) -> list[list[int]]:\n",
    "    res = []\n",
    "\n",
    "    def backtrack(idx: int = 0, path: list[int] = []):\n",
    "        if idx >= len(nums):\n",
    "            res.append(path[:])\n",
    "            return None\n",
    "        # take num[idx]\n",
    "        path.append(nums[idx])\n",
    "        backtrack(idx + 1)\n",
    "        path.pop()\n",
    "\n",
    "        # don't take num[idx]\n",
    "        backtrack(idx + 1)\n",
    "        return None\n",
    "\n",
    "    backtrack()\n",
    "    return res"
   ]
  },
  {
   "cell_type": "code",
   "execution_count": 1210,
   "id": "370be97018edb56d",
   "metadata": {
    "ExecuteTime": {
     "end_time": "2025-09-02T20:54:24.680512Z",
     "start_time": "2025-09-02T20:54:24.678730Z"
    }
   },
   "outputs": [
    {
     "data": {
      "text/plain": [
       "[[1, 2, 3], [1, 2], [1, 3], [1], [2, 3], [2], [3], []]"
      ]
     },
     "execution_count": 1210,
     "metadata": {},
     "output_type": "execute_result"
    }
   ],
   "source": [
    "subsets([1, 2, 3])"
   ]
  },
  {
   "cell_type": "code",
   "execution_count": 1211,
   "id": "4fca71cecef59190",
   "metadata": {
    "ExecuteTime": {
     "end_time": "2025-09-02T20:54:24.755322Z",
     "start_time": "2025-09-02T20:54:24.753368Z"
    }
   },
   "outputs": [],
   "source": [
    "# 39\n",
    "\n",
    "\n",
    "def combination_sum(candidates: list[int], target: int) -> list[list[int]]:\n",
    "    res = []\n",
    "\n",
    "    def backtrack(s: int, idx: int = 0, path: list[int] = []) -> None:\n",
    "        if s == target:\n",
    "            res.append(path[:])\n",
    "            return None\n",
    "\n",
    "        if idx >= len(candidates):\n",
    "            return None\n",
    "\n",
    "        path.append(candidates[idx])\n",
    "        if s + candidates[idx] <= target:\n",
    "            backtrack(s + candidates[idx], idx)\n",
    "\n",
    "        path.pop()\n",
    "        backtrack(s, idx + 1)\n",
    "        return None\n",
    "\n",
    "    backtrack(0)\n",
    "    return res"
   ]
  },
  {
   "cell_type": "code",
   "execution_count": 1212,
   "id": "e1582e68fc5079a1",
   "metadata": {
    "ExecuteTime": {
     "end_time": "2025-09-02T20:54:24.763084Z",
     "start_time": "2025-09-02T20:54:24.761358Z"
    }
   },
   "outputs": [
    {
     "data": {
      "text/plain": [
       "[[2, 2, 3], [7]]"
      ]
     },
     "execution_count": 1212,
     "metadata": {},
     "output_type": "execute_result"
    }
   ],
   "source": [
    "combination_sum([2, 3, 6, 7], target=7)"
   ]
  },
  {
   "cell_type": "code",
   "execution_count": 1213,
   "id": "64c2254b8e9706e6",
   "metadata": {
    "ExecuteTime": {
     "end_time": "2025-09-02T20:54:24.778521Z",
     "start_time": "2025-09-02T20:54:24.776186Z"
    }
   },
   "outputs": [],
   "source": [
    "# 40\n",
    "\n",
    "\n",
    "def combination_sum_2(candidates: list[int], target: int) -> list[list[int]]:\n",
    "    candidates.sort()\n",
    "    res = []\n",
    "    l = len(candidates)\n",
    "\n",
    "    def backtrack(s: int, idx: int = 0, path: list[int] = []) -> None:\n",
    "        if target == s:\n",
    "            res.append(path[:])\n",
    "            return None\n",
    "\n",
    "        if idx >= l or s > target:\n",
    "            return None\n",
    "\n",
    "        path.append(candidates[idx])\n",
    "        backtrack(s + candidates[idx], idx + 1)\n",
    "        path.pop()\n",
    "        while idx + 1 < l and candidates[idx] == candidates[idx + 1]:\n",
    "            idx += 1\n",
    "        backtrack(s, idx + 1)\n",
    "        return None\n",
    "\n",
    "    backtrack(0)\n",
    "    return res"
   ]
  },
  {
   "cell_type": "code",
   "execution_count": 1214,
   "id": "213020f46064d605",
   "metadata": {
    "ExecuteTime": {
     "end_time": "2025-09-02T20:54:24.786990Z",
     "start_time": "2025-09-02T20:54:24.785294Z"
    }
   },
   "outputs": [
    {
     "data": {
      "text/plain": [
       "[[1, 1, 6], [1, 2, 5], [1, 7], [2, 6]]"
      ]
     },
     "execution_count": 1214,
     "metadata": {},
     "output_type": "execute_result"
    }
   ],
   "source": [
    "combination_sum_2([10, 1, 2, 7, 6, 1, 5], 8)\n",
    "# combination_sum_2([2,5,2,1,2], 5)"
   ]
  },
  {
   "cell_type": "code",
   "execution_count": 1215,
   "id": "9ea2c7d4769cdf95",
   "metadata": {
    "ExecuteTime": {
     "end_time": "2025-09-02T20:54:24.801965Z",
     "start_time": "2025-09-02T20:54:24.799592Z"
    }
   },
   "outputs": [],
   "source": [
    "# 90\n",
    "\n",
    "\n",
    "def subsets_with_dup(nums: list[int]) -> list[list[int]]:\n",
    "    res = []\n",
    "    nums.sort()\n",
    "\n",
    "    def backtrack(idx: int, path: list[int] = []) -> None:\n",
    "        if len(nums) <= idx:\n",
    "            res.append(path[:])\n",
    "            return None\n",
    "\n",
    "        path.append(nums[idx])\n",
    "        backtrack(idx + 1)\n",
    "        path.pop()\n",
    "\n",
    "        while idx + 1 < len(nums) and nums[idx] == nums[idx + 1]:\n",
    "            idx += 1\n",
    "\n",
    "        backtrack(idx + 1)\n",
    "        return None\n",
    "\n",
    "    backtrack(0)\n",
    "    return res"
   ]
  },
  {
   "cell_type": "code",
   "execution_count": 1216,
   "id": "f54776ebb94ce511",
   "metadata": {
    "ExecuteTime": {
     "end_time": "2025-09-02T20:54:24.808464Z",
     "start_time": "2025-09-02T20:54:24.806772Z"
    }
   },
   "outputs": [
    {
     "data": {
      "text/plain": [
       "[[1, 2, 2], [1, 2], [1], [2, 2], [2], []]"
      ]
     },
     "execution_count": 1216,
     "metadata": {},
     "output_type": "execute_result"
    }
   ],
   "source": [
    "subsets_with_dup([1, 2, 2])"
   ]
  },
  {
   "cell_type": "code",
   "execution_count": 1217,
   "id": "23577e4b37294d39",
   "metadata": {
    "ExecuteTime": {
     "end_time": "2025-09-02T20:54:24.822535Z",
     "start_time": "2025-09-02T20:54:24.819861Z"
    }
   },
   "outputs": [],
   "source": [
    "# 79\n",
    "\n",
    "\n",
    "def find_start(word: str, board: list[list[str]]) -> typing.Generator[tuple[int, int]]:\n",
    "    for r in range(len(board)):\n",
    "        for c in range(len(board[0])):\n",
    "            if board[r][c] == word[0]:\n",
    "                yield r, c\n",
    "\n",
    "\n",
    "def exist(board: list[list[str]], word: str) -> bool:\n",
    "    if not board or not word:\n",
    "        return False\n",
    "    rows, cols = len(board), len(board[0])\n",
    "\n",
    "    def dfs(\n",
    "        row_: int, col_: int, idx: int = 0, path: set[tuple[int, int]] = set()\n",
    "    ) -> bool:\n",
    "        if len(path) == len(word):\n",
    "            return True\n",
    "        if (\n",
    "            not (0 <= row_ < rows and 0 <= col_ < cols)\n",
    "            or word[idx] != board[row_][col_]\n",
    "            or (row_, col_) in path\n",
    "        ):\n",
    "            return False\n",
    "\n",
    "        path.add((row_, col_))\n",
    "        found = (\n",
    "            dfs(row_, col_ + 1, idx + 1)\n",
    "            or dfs(row_, col_ - 1, idx + 1)\n",
    "            or dfs(row_ + 1, col_, idx + 1)\n",
    "            or dfs(row_ - 1, col_, idx + 1)\n",
    "        )\n",
    "        path.remove((row_, col_))\n",
    "        return found\n",
    "\n",
    "    for sr, sc in find_start(word, board):\n",
    "        if dfs(row_=sr, col_=sc):\n",
    "            return True\n",
    "    return False"
   ]
  },
  {
   "cell_type": "code",
   "execution_count": 1218,
   "id": "93b0a113bc40d28e",
   "metadata": {
    "ExecuteTime": {
     "end_time": "2025-09-02T20:54:24.829356Z",
     "start_time": "2025-09-02T20:54:24.827689Z"
    }
   },
   "outputs": [
    {
     "data": {
      "text/plain": [
       "True"
      ]
     },
     "execution_count": 1218,
     "metadata": {},
     "output_type": "execute_result"
    }
   ],
   "source": [
    "exist([[\"C\", \"A\", \"A\"], [\"A\", \"A\", \"A\"], [\"B\", \"C\", \"D\"]], \"AAB\")"
   ]
  },
  {
   "cell_type": "code",
   "execution_count": 1219,
   "id": "44adccfe16881c6",
   "metadata": {
    "ExecuteTime": {
     "end_time": "2025-09-02T20:54:24.845755Z",
     "start_time": "2025-09-02T20:54:24.844075Z"
    }
   },
   "outputs": [],
   "source": [
    "# 131 - not finished\n",
    "\n",
    "\n",
    "def partition(s: str) -> list[list[str]]:\n",
    "    res = []\n",
    "\n",
    "    def backtrack(idx: int = 0, path: list[str] = []) -> None:\n",
    "        if len(s) <= idx:\n",
    "            res.append(path[:])\n",
    "            return\n",
    "\n",
    "        for j in range(idx, len(s)):\n",
    "            if s[idx : j + 1] == s[idx : j + 1][::-1]:\n",
    "                path.append(s[idx : j + 1])\n",
    "                backtrack(j + 1)\n",
    "                path.pop()\n",
    "\n",
    "    backtrack()\n",
    "    return res"
   ]
  },
  {
   "cell_type": "code",
   "execution_count": 1220,
   "id": "8799ac05b04df792",
   "metadata": {
    "ExecuteTime": {
     "end_time": "2025-09-02T20:54:24.853392Z",
     "start_time": "2025-09-02T20:54:24.851826Z"
    }
   },
   "outputs": [
    {
     "data": {
      "text/plain": [
       "[['a', 'a', 'b'], ['aa', 'b']]"
      ]
     },
     "execution_count": 1220,
     "metadata": {},
     "output_type": "execute_result"
    }
   ],
   "source": [
    "partition(\"aab\")"
   ]
  },
  {
   "cell_type": "code",
   "execution_count": 1221,
   "id": "4b11f19a4eb682b7",
   "metadata": {
    "ExecuteTime": {
     "end_time": "2025-09-02T20:54:24.866793Z",
     "start_time": "2025-09-02T20:54:24.864610Z"
    }
   },
   "outputs": [],
   "source": [
    "# 17\n",
    "\n",
    "\n",
    "def letter_combinations(digits: str) -> list[str]:\n",
    "    if not digits:\n",
    "        return []\n",
    "    data = {\n",
    "        \"2\": \"abc\",\n",
    "        \"3\": \"def\",\n",
    "        \"4\": \"ghi\",\n",
    "        \"5\": \"jkl\",\n",
    "        \"6\": \"mno\",\n",
    "        \"7\": \"pqrs\",\n",
    "        \"8\": \"tuv\",\n",
    "        \"9\": \"wxyz\",\n",
    "    }\n",
    "    res = []\n",
    "\n",
    "    def backtrack(idx: int = 0, path: list[str] = []) -> None:\n",
    "        if idx >= len(digits):\n",
    "            res.append(\"\".join(path[:]))\n",
    "            return None\n",
    "\n",
    "        for i in data[digits[idx]]:\n",
    "            path.append(i)\n",
    "            backtrack(idx + 1)\n",
    "            path.pop()\n",
    "\n",
    "        return None\n",
    "\n",
    "    backtrack()\n",
    "    return res"
   ]
  },
  {
   "cell_type": "code",
   "execution_count": 1222,
   "id": "d70a1732480e4981",
   "metadata": {
    "ExecuteTime": {
     "end_time": "2025-09-02T20:54:24.873313Z",
     "start_time": "2025-09-02T20:54:24.871615Z"
    }
   },
   "outputs": [
    {
     "data": {
      "text/plain": [
       "['ad', 'ae', 'af', 'bd', 'be', 'bf', 'cd', 'ce', 'cf']"
      ]
     },
     "execution_count": 1222,
     "metadata": {},
     "output_type": "execute_result"
    }
   ],
   "source": [
    "letter_combinations(digits=\"23\")"
   ]
  },
  {
   "cell_type": "code",
   "execution_count": 1223,
   "id": "a4c52a8141a23df9",
   "metadata": {
    "ExecuteTime": {
     "end_time": "2025-09-02T20:54:24.887505Z",
     "start_time": "2025-09-02T20:54:24.884791Z"
    }
   },
   "outputs": [],
   "source": [
    "# 51. N Queens\n",
    "\n",
    "\n",
    "def solve_n_queens(n: int) -> list[list[str]]:\n",
    "    if not n:\n",
    "        return []\n",
    "    QUEEN, TILE = \"Q\", \".\"\n",
    "    board = [[TILE for _ in range(n)] for _ in range(n)]\n",
    "    res = []\n",
    "\n",
    "    def safe(row: int, col: int) -> bool:\n",
    "        # col\n",
    "        for r in range(row):\n",
    "            if board[r][col] == QUEEN:\n",
    "                return False\n",
    "\n",
    "        # diag up-left\n",
    "        r, c = row - 1, col - 1\n",
    "        while r >= 0 and c >= 0:\n",
    "            if board[r][c] == QUEEN:\n",
    "                return False\n",
    "            r -= 1\n",
    "            c -= 1\n",
    "\n",
    "        # diag up-right\n",
    "        r, c = row - 1, col + 1\n",
    "        while r >= 0 and c < n:\n",
    "            if board[r][c] == QUEEN:\n",
    "                return False\n",
    "            r -= 1\n",
    "            c += 1\n",
    "        return True\n",
    "\n",
    "    def backtrack(row: int = 0) -> None:\n",
    "        if row == n:\n",
    "            res.append([\"\".join(board[r]) for r in range(n)])\n",
    "            return\n",
    "\n",
    "        for col in range(n):\n",
    "            if safe(row, col):\n",
    "                board[row][col] = QUEEN\n",
    "                backtrack(row + 1)\n",
    "                board[row][col] = TILE\n",
    "\n",
    "    backtrack()\n",
    "\n",
    "    return res"
   ]
  },
  {
   "cell_type": "code",
   "execution_count": 1224,
   "id": "e003f686b7278f25",
   "metadata": {
    "ExecuteTime": {
     "end_time": "2025-09-02T20:54:24.894854Z",
     "start_time": "2025-09-02T20:54:24.892683Z"
    }
   },
   "outputs": [],
   "source": [
    "# 51 - optimal with sets\n",
    "\n",
    "\n",
    "def solve_n_queens(n: int) -> list[list[str]]:\n",
    "    if not n:\n",
    "        return []\n",
    "    QUEEN, TILE = \"Q\", \".\"\n",
    "    board = [[TILE for _ in range(n)] for _ in range(n)]\n",
    "    res = []\n",
    "    cols = set()\n",
    "    up_diag = set()\n",
    "    down_diag = set()\n",
    "\n",
    "    def backtrack(row: int = 0):\n",
    "        if row == n:\n",
    "            res.append([\"\".join(board[r]) for r in range(n)])\n",
    "            return\n",
    "\n",
    "        for col in range(n):\n",
    "            if col in cols or (row + col) in down_diag or (row - col) in up_diag:\n",
    "                continue\n",
    "\n",
    "            board[row][col] = QUEEN\n",
    "            cols.add(col)\n",
    "            up_diag.add(row - col)\n",
    "            down_diag.add(row + col)\n",
    "\n",
    "            backtrack(row + 1)\n",
    "\n",
    "            down_diag.remove(row + col)\n",
    "            up_diag.remove(row - col)\n",
    "            cols.remove(col)\n",
    "            board[row][col] = TILE\n",
    "\n",
    "    backtrack()\n",
    "    return res"
   ]
  },
  {
   "cell_type": "code",
   "execution_count": 1225,
   "id": "c726354afe50191c",
   "metadata": {
    "ExecuteTime": {
     "end_time": "2025-09-02T20:54:24.904124Z",
     "start_time": "2025-09-02T20:54:24.902362Z"
    }
   },
   "outputs": [
    {
     "data": {
      "text/plain": [
       "[['.Q..', '...Q', 'Q...', '..Q.'], ['..Q.', 'Q...', '...Q', '.Q..']]"
      ]
     },
     "execution_count": 1225,
     "metadata": {},
     "output_type": "execute_result"
    }
   ],
   "source": [
    "solve_n_queens(n=4)"
   ]
  }
 ],
 "metadata": {
  "kernelspec": {
   "display_name": "Python 3",
   "language": "python",
   "name": "python3"
  },
  "language_info": {
   "codemirror_mode": {
    "name": "ipython",
    "version": 2
   },
   "file_extension": ".py",
   "mimetype": "text/x-python",
   "name": "python",
   "nbconvert_exporter": "python",
   "pygments_lexer": "ipython2",
   "version": "2.7.6"
  }
 },
 "nbformat": 4,
 "nbformat_minor": 5
}
