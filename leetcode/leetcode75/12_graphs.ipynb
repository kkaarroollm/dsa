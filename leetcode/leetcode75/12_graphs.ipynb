{
 "cells": [
  {
   "cell_type": "code",
   "execution_count": 1,
   "id": "56c7848eff222c42",
   "metadata": {
    "ExecuteTime": {
     "end_time": "2025-08-21T20:35:16.604921Z",
     "start_time": "2025-08-21T20:35:16.602751Z"
    }
   },
   "outputs": [],
   "source": [
    "from collections import deque, defaultdict"
   ]
  },
  {
   "cell_type": "code",
   "execution_count": 2,
   "id": "initial_id",
   "metadata": {
    "ExecuteTime": {
     "end_time": "2025-08-21T20:35:16.681859Z",
     "start_time": "2025-08-21T20:35:16.680279Z"
    },
    "collapsed": true
   },
   "outputs": [],
   "source": [
    "# 841\n",
    "\n",
    "\n",
    "def can_visit_all_rooms(rooms: list[list[int]]) -> bool:\n",
    "    if not rooms:\n",
    "        return False\n",
    "    queue = deque([0])\n",
    "    visited = [False] * len(rooms)\n",
    "\n",
    "    while queue:\n",
    "        room_number = queue.popleft()\n",
    "        if room_number < len(rooms) and not visited[room_number]:\n",
    "            visited[room_number] = True\n",
    "            queue.extend(rooms[room_number])\n",
    "    return all(visited)"
   ]
  },
  {
   "cell_type": "code",
   "execution_count": 3,
   "id": "a4289fbc8cecfd74",
   "metadata": {
    "ExecuteTime": {
     "end_time": "2025-08-21T20:35:16.693867Z",
     "start_time": "2025-08-21T20:35:16.691095Z"
    }
   },
   "outputs": [
    {
     "data": {
      "text/plain": [
       "True"
      ]
     },
     "execution_count": 3,
     "metadata": {},
     "output_type": "execute_result"
    }
   ],
   "source": [
    "can_visit_all_rooms(rooms=[[1], [2], [3], []])"
   ]
  },
  {
   "cell_type": "code",
   "execution_count": 4,
   "id": "302ef8509285d889",
   "metadata": {
    "ExecuteTime": {
     "end_time": "2025-08-21T20:35:16.746507Z",
     "start_time": "2025-08-21T20:35:16.744667Z"
    }
   },
   "outputs": [],
   "source": [
    "# 547\n",
    "\n",
    "\n",
    "def find_circle_num(is_connected: list[list[int]]) -> int:\n",
    "    lc = len(is_connected)\n",
    "    visited = set()\n",
    "    provinces = 0\n",
    "\n",
    "    def dfs(city) -> None:\n",
    "        for conn in range(lc):\n",
    "            if is_connected[city][conn] == 1 and conn not in visited:\n",
    "                visited.add(conn)\n",
    "                dfs(conn)\n",
    "        return\n",
    "\n",
    "    for c in range(lc):\n",
    "        if c not in visited:\n",
    "            visited.add(c)\n",
    "            provinces += 1\n",
    "            dfs(c)\n",
    "\n",
    "    return provinces"
   ]
  },
  {
   "cell_type": "code",
   "execution_count": 5,
   "id": "d5ca22ee0f53c28b",
   "metadata": {
    "ExecuteTime": {
     "end_time": "2025-08-21T20:35:16.759831Z",
     "start_time": "2025-08-21T20:35:16.757942Z"
    }
   },
   "outputs": [
    {
     "data": {
      "text/plain": [
       "1"
      ]
     },
     "execution_count": 5,
     "metadata": {},
     "output_type": "execute_result"
    }
   ],
   "source": [
    "find_circle_num(is_connected=[[1, 0, 0, 1], [0, 1, 1, 0], [0, 1, 1, 1], [1, 0, 1, 1]])"
   ]
  },
  {
   "cell_type": "code",
   "execution_count": 6,
   "id": "89cda7247d4b61d9",
   "metadata": {
    "ExecuteTime": {
     "end_time": "2025-08-21T20:35:16.779771Z",
     "start_time": "2025-08-21T20:35:16.777814Z"
    }
   },
   "outputs": [],
   "source": [
    "# 1466\n",
    "\n",
    "\n",
    "def min_reorder(n: int, connections: list[list[int]]) -> int:\n",
    "    adj_dct = defaultdict(list[tuple])\n",
    "    visited = set()\n",
    "    stk = [0]\n",
    "    reroutes = 0\n",
    "\n",
    "    for u, v in connections:\n",
    "        adj_dct[u].append((v, 1))\n",
    "        adj_dct[v].append((u, 0))\n",
    "\n",
    "    while stk:\n",
    "        node = stk.pop()\n",
    "\n",
    "        if node in visited:\n",
    "            continue\n",
    "        visited.add(node)\n",
    "\n",
    "        for nei, flip in adj_dct[node]:\n",
    "            if nei not in visited:\n",
    "                reroutes += flip\n",
    "                stk.append(nei)\n",
    "\n",
    "    return reroutes"
   ]
  },
  {
   "cell_type": "code",
   "execution_count": 7,
   "id": "b9d050fd8a8df94e",
   "metadata": {
    "ExecuteTime": {
     "end_time": "2025-08-21T20:35:16.790989Z",
     "start_time": "2025-08-21T20:35:16.789012Z"
    }
   },
   "outputs": [
    {
     "data": {
      "text/plain": [
       "3"
      ]
     },
     "execution_count": 7,
     "metadata": {},
     "output_type": "execute_result"
    }
   ],
   "source": [
    "min_reorder(n=6, connections=[[0, 1], [1, 3], [2, 3], [4, 0], [4, 5]])"
   ]
  },
  {
   "cell_type": "code",
   "execution_count": 8,
   "id": "319e883e66b02d0b",
   "metadata": {
    "ExecuteTime": {
     "end_time": "2025-08-21T20:35:16.811487Z",
     "start_time": "2025-08-21T20:35:16.808963Z"
    }
   },
   "outputs": [],
   "source": [
    "# 399\n",
    "# in the dict, i'd keep lists of divisor and the value of the equation\n",
    "\n",
    "\n",
    "def calc_equation(\n",
    "    equations: list[list[str]], values: list[float], queries: list[list[str]]\n",
    ") -> list[float]:\n",
    "    adj_matrix = defaultdict(list)\n",
    "\n",
    "    for i, eq in enumerate(equations):\n",
    "        dividend, divisor = eq\n",
    "        adj_matrix[dividend].append([divisor, values[i]])\n",
    "        adj_matrix[divisor].append([dividend, 1 / values[i]])\n",
    "\n",
    "    def bfs(source, target):\n",
    "        # source is the dividend and target is divisor. the task here is to find a path and return multiplication of all edges\n",
    "        if source not in adj_matrix or target not in adj_matrix:\n",
    "            return -1\n",
    "\n",
    "        # to keep track of the score, it's needed to keep the score in the queue\n",
    "        queue: deque[tuple] = deque()\n",
    "        queue.append((source, 1))\n",
    "        visited = set()\n",
    "        visited.add(source)\n",
    "\n",
    "        while queue:\n",
    "            div, res = queue.popleft()\n",
    "\n",
    "            if div == target:\n",
    "                return res\n",
    "\n",
    "            for nei, weight in adj_matrix[div]:\n",
    "                if nei not in visited:\n",
    "                    queue.append((nei, weight * res))\n",
    "                    visited.add(nei)\n",
    "        return -1\n",
    "\n",
    "    return [bfs(q[0], q[1]) for q in queries]"
   ]
  },
  {
   "cell_type": "code",
   "execution_count": 9,
   "id": "b5c017bf93ac4900",
   "metadata": {
    "ExecuteTime": {
     "end_time": "2025-08-21T20:35:16.826424Z",
     "start_time": "2025-08-21T20:35:16.824073Z"
    }
   },
   "outputs": [
    {
     "data": {
      "text/plain": [
       "[6.0, 0.5, -1, 1, -1]"
      ]
     },
     "execution_count": 9,
     "metadata": {},
     "output_type": "execute_result"
    }
   ],
   "source": [
    "calc_equation(\n",
    "    equations=[[\"a\", \"b\"], [\"b\", \"c\"]],\n",
    "    values=[2.0, 3.0],\n",
    "    queries=[[\"a\", \"c\"], [\"b\", \"a\"], [\"a\", \"e\"], [\"a\", \"a\"], [\"x\", \"x\"]],\n",
    ")"
   ]
  }
 ],
 "metadata": {
  "kernelspec": {
   "display_name": "Python 3",
   "language": "python",
   "name": "python3"
  },
  "language_info": {
   "codemirror_mode": {
    "name": "ipython",
    "version": 2
   },
   "file_extension": ".py",
   "mimetype": "text/x-python",
   "name": "python",
   "nbconvert_exporter": "python",
   "pygments_lexer": "ipython2",
   "version": "2.7.6"
  }
 },
 "nbformat": 4,
 "nbformat_minor": 5
}
