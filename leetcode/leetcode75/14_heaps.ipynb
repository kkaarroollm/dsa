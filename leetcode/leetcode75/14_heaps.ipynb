{
 "cells": [
  {
   "cell_type": "code",
   "execution_count": 30,
   "id": "e0dd8b156ce49e20",
   "metadata": {
    "ExecuteTime": {
     "end_time": "2025-08-29T22:42:59.778270Z",
     "start_time": "2025-08-29T22:42:59.773577Z"
    }
   },
   "outputs": [],
   "source": [
    "import random\n",
    "import heapq"
   ]
  },
  {
   "cell_type": "code",
   "execution_count": 31,
   "id": "initial_id",
   "metadata": {
    "ExecuteTime": {
     "end_time": "2025-08-29T22:42:59.844137Z",
     "start_time": "2025-08-29T22:42:59.841091Z"
    },
    "collapsed": true
   },
   "outputs": [],
   "source": [
    "# 215 without sorting/ heapq as heap is O(n log n) -> quick select - avg O(n)\n",
    "# not passing leetcode problem with lamuto partition\n",
    "\n",
    "\n",
    "def find_kth_largest(nums: list[int], k: int) -> int:\n",
    "    k = len(nums) - k\n",
    "\n",
    "    def partition(low: int, high: int) -> int:\n",
    "        p = random.randint(low, high)\n",
    "        nums[p], nums[high] = nums[high], nums[p]\n",
    "        pivot, i = nums[high], low\n",
    "\n",
    "        for j in range(low, high):\n",
    "            if nums[j] <= pivot:\n",
    "                nums[i], nums[j] = nums[j], nums[i]\n",
    "                i += 1\n",
    "        nums[i], nums[high] = nums[high], nums[i]\n",
    "\n",
    "        if i == k:\n",
    "            return nums[i]\n",
    "        elif i < k:\n",
    "            return partition(i + 1, high)\n",
    "        return partition(low, i - 1)\n",
    "\n",
    "    return partition(0, len(nums) - 1)"
   ]
  },
  {
   "cell_type": "code",
   "execution_count": 32,
   "id": "1db2379b2cc5338c",
   "metadata": {
    "ExecuteTime": {
     "end_time": "2025-08-29T22:42:59.862134Z",
     "start_time": "2025-08-29T22:42:59.858895Z"
    }
   },
   "outputs": [],
   "source": [
    "# hoare partition\n",
    "\n",
    "\n",
    "def find_kth_largest(nums: list[int], k: int) -> int:\n",
    "    k = len(nums) - k\n",
    "    low, high = 0, len(nums) - 1\n",
    "\n",
    "    def partition(low: int, high: int) -> int:\n",
    "        p = random.randint(low, high)\n",
    "        pivot = nums[p]\n",
    "\n",
    "        i, j = low - 1, high + 1\n",
    "        while True:\n",
    "            i += 1\n",
    "            while nums[i] < pivot:\n",
    "                i += 1\n",
    "            j -= 1\n",
    "            while nums[j] > pivot:\n",
    "                j -= 1\n",
    "            if i >= j:\n",
    "                return j\n",
    "            nums[i], nums[j] = nums[j], nums[i]\n",
    "\n",
    "    while low < high:\n",
    "        p = partition(low, high)\n",
    "        if k <= p:\n",
    "            high = p\n",
    "        else:\n",
    "            low = p + 1\n",
    "\n",
    "    return nums[low]"
   ]
  },
  {
   "cell_type": "code",
   "execution_count": 33,
   "id": "3340299fe2f1e64f",
   "metadata": {
    "ExecuteTime": {
     "end_time": "2025-08-29T22:42:59.879994Z",
     "start_time": "2025-08-29T22:42:59.874726Z"
    }
   },
   "outputs": [
    {
     "data": {
      "text/plain": [
       "5"
      ]
     },
     "execution_count": 33,
     "metadata": {},
     "output_type": "execute_result"
    }
   ],
   "source": [
    "find_kth_largest(nums=[3, 2, 1, 5, 6, 4], k=2)"
   ]
  },
  {
   "cell_type": "code",
   "execution_count": null,
   "id": "4be0d15e332f7d7f",
   "metadata": {},
   "outputs": [],
   "source": [
    "# 2336\n",
    "\n",
    "\n",
    "class SmallestInfiniteSet:\n",
    "    def __init__(self):\n",
    "        self._min_heap = []\n",
    "        self._current = 1\n",
    "        self._added_back = set()\n",
    "\n",
    "    def popSmallest(self) -> int:\n",
    "        if self._min_heap:\n",
    "            sm = heapq.heappop(self._min_heap)\n",
    "            self._added_back.remove(sm)\n",
    "            return sm\n",
    "        sm = self._current\n",
    "        self._current += 1\n",
    "        return sm\n",
    "\n",
    "    def addBack(self, num: int) -> None:\n",
    "        if num < self._current and num not in self._added_back:\n",
    "            heapq.heappush(self._min_heap, num)\n",
    "            self._added_back.add(num)"
   ]
  },
  {
   "cell_type": "code",
   "execution_count": null,
   "id": "bd11c3b54386c634",
   "metadata": {},
   "outputs": [],
   "source": [
    "# Your SmallestInfiniteSet object will be instantiated and called as such:\n",
    "# obj = SmallestInfiniteSet()\n",
    "# param_1 = obj.popSmallest()\n",
    "# obj.addBack(num)"
   ]
  }
 ],
 "metadata": {
  "kernelspec": {
   "display_name": "Python 3",
   "language": "python",
   "name": "python3"
  },
  "language_info": {
   "codemirror_mode": {
    "name": "ipython",
    "version": 2
   },
   "file_extension": ".py",
   "mimetype": "text/x-python",
   "name": "python",
   "nbconvert_exporter": "python",
   "pygments_lexer": "ipython2",
   "version": "2.7.6"
  }
 },
 "nbformat": 4,
 "nbformat_minor": 5
}
