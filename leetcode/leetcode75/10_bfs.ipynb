{
 "cells": [
  {
   "cell_type": "code",
   "execution_count": 27,
   "id": "initial_id",
   "metadata": {
    "ExecuteTime": {
     "end_time": "2025-08-19T17:41:43.652230Z",
     "start_time": "2025-08-19T17:41:43.649208Z"
    },
    "collapsed": true
   },
   "outputs": [],
   "source": [
    "import os\n",
    "import sys\n",
    "from collections import deque, defaultdict\n",
    "\n",
    "\n",
    "module_path = os.path.abspath(os.path.join(\"../..\"))\n",
    "if module_path not in sys.path:\n",
    "    sys.path.append(module_path)"
   ]
  },
  {
   "cell_type": "code",
   "execution_count": 28,
   "id": "c23a41f9b7c52d9",
   "metadata": {
    "ExecuteTime": {
     "end_time": "2025-08-19T17:41:43.669364Z",
     "start_time": "2025-08-19T17:41:43.667086Z"
    }
   },
   "outputs": [],
   "source": [
    "from structures.tree import tree_root"
   ]
  },
  {
   "cell_type": "code",
   "execution_count": 29,
   "id": "27a379a2ac20e62f",
   "metadata": {
    "ExecuteTime": {
     "end_time": "2025-08-19T17:41:43.704019Z",
     "start_time": "2025-08-19T17:41:43.702337Z"
    }
   },
   "outputs": [],
   "source": [
    "class TreeNode:\n",
    "    def __init__(self, val=0, left=None, right=None):\n",
    "        self.val = val\n",
    "        self.left = left\n",
    "        self.right = right"
   ]
  },
  {
   "cell_type": "code",
   "execution_count": 30,
   "id": "17c27c56217c26e8",
   "metadata": {
    "ExecuteTime": {
     "end_time": "2025-08-19T17:41:43.727372Z",
     "start_time": "2025-08-19T17:41:43.725047Z"
    }
   },
   "outputs": [],
   "source": [
    "# 199\n",
    "\n",
    "\n",
    "def right_side_view(root: TreeNode | None) -> list[int]:\n",
    "    if not root:\n",
    "        return []\n",
    "\n",
    "    res = []\n",
    "    queue: deque[tuple[TreeNode, int]] = deque()\n",
    "    queue.append((root, 0))\n",
    "\n",
    "    while queue:\n",
    "        node, level = queue.popleft()\n",
    "        if len(res) == level:\n",
    "            res.append(node.val)\n",
    "\n",
    "        if node.right:\n",
    "            queue.append((node.right, level + 1))\n",
    "        if node.left:\n",
    "            queue.append((node.left, level + 1))\n",
    "\n",
    "    return res"
   ]
  },
  {
   "cell_type": "code",
   "execution_count": 31,
   "id": "9b5ce2f1fc6b9448",
   "metadata": {
    "ExecuteTime": {
     "end_time": "2025-08-19T17:41:43.745138Z",
     "start_time": "2025-08-19T17:41:43.743068Z"
    }
   },
   "outputs": [
    {
     "data": {
      "text/plain": [
       "[1, 3, 7, 15]"
      ]
     },
     "execution_count": 31,
     "metadata": {},
     "output_type": "execute_result"
    }
   ],
   "source": [
    "right_side_view(tree_root)"
   ]
  },
  {
   "cell_type": "code",
   "execution_count": 32,
   "id": "3a8445655aa28a51",
   "metadata": {
    "ExecuteTime": {
     "end_time": "2025-08-19T17:41:43.771338Z",
     "start_time": "2025-08-19T17:41:43.769083Z"
    }
   },
   "outputs": [],
   "source": [
    "# 1161\n",
    "\n",
    "\n",
    "def max_level_sum(root: TreeNode | None) -> int:\n",
    "    sums = defaultdict(int)\n",
    "    queue: deque[tuple[TreeNode, int]] = deque()\n",
    "    queue.append((root, 0))\n",
    "\n",
    "    while queue:\n",
    "        node, level = queue.popleft()\n",
    "        sums[level] += node.val\n",
    "\n",
    "        if node.right:\n",
    "            queue.append((node.right, level + 1))\n",
    "        if node.left:\n",
    "            queue.append((node.left, level + 1))\n",
    "\n",
    "    return max(sums.items(), key=lambda kv: (kv[1], -kv[0]))[0]"
   ]
  },
  {
   "cell_type": "code",
   "execution_count": null,
   "id": "8cf914a92fd0378b",
   "metadata": {},
   "outputs": [],
   "source": [
    "# 1161, other way\n",
    "\n",
    "\n",
    "def max_level_sum(root: TreeNode | None) -> int:\n",
    "    if not root:\n",
    "        return 0\n",
    "    queue = deque()\n",
    "    queue.append(root)\n",
    "    level = best_level = 1\n",
    "    best_sum = float(\"-inf\")\n",
    "\n",
    "    while queue:\n",
    "        curr_sum = 0\n",
    "        for _ in range(len(queue)):\n",
    "            node = queue.popleft()\n",
    "            curr_sum += node.val\n",
    "            if node.left:\n",
    "                queue.append(node.left)\n",
    "            if node.right:\n",
    "                queue.append(node.right)\n",
    "\n",
    "        if curr_sum > best_sum:\n",
    "            best_sum = curr_sum\n",
    "            best_level = level\n",
    "        level += 1\n",
    "\n",
    "    return best_level"
   ]
  },
  {
   "cell_type": "code",
   "execution_count": 33,
   "id": "89c7361c3c64256a",
   "metadata": {
    "ExecuteTime": {
     "end_time": "2025-08-19T17:41:43.793596Z",
     "start_time": "2025-08-19T17:41:43.791786Z"
    }
   },
   "outputs": [
    {
     "data": {
      "text/plain": [
       "3"
      ]
     },
     "execution_count": 33,
     "metadata": {},
     "output_type": "execute_result"
    }
   ],
   "source": [
    "max_level_sum(tree_root)"
   ]
  }
 ],
 "metadata": {
  "kernelspec": {
   "display_name": "Python 3",
   "language": "python",
   "name": "python3"
  },
  "language_info": {
   "codemirror_mode": {
    "name": "ipython",
    "version": 2
   },
   "file_extension": ".py",
   "mimetype": "text/x-python",
   "name": "python",
   "nbconvert_exporter": "python",
   "pygments_lexer": "ipython2",
   "version": "2.7.6"
  }
 },
 "nbformat": 4,
 "nbformat_minor": 5
}
