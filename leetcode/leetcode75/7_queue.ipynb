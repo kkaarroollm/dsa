{
 "cells": [
  {
   "cell_type": "code",
   "execution_count": 1,
   "id": "e5a5a8110442c100",
   "metadata": {
    "ExecuteTime": {
     "end_time": "2025-08-07T08:34:36.165033Z",
     "start_time": "2025-08-07T08:34:36.161849Z"
    }
   },
   "outputs": [],
   "source": [
    "import collections"
   ]
  },
  {
   "cell_type": "code",
   "execution_count": 2,
   "id": "initial_id",
   "metadata": {
    "ExecuteTime": {
     "end_time": "2025-08-07T08:34:36.246036Z",
     "start_time": "2025-08-07T08:34:36.244481Z"
    },
    "collapsed": true
   },
   "outputs": [],
   "source": [
    "# 933\n",
    "\n",
    "\n",
    "class RecentCounter:\n",
    "    def __init__(self):\n",
    "        self.times = collections.deque()\n",
    "\n",
    "    def ping(self, t: int) -> int:\n",
    "        self.times.append(t)\n",
    "        while self.times and self.times[0] < t - 3000:\n",
    "            self.times.popleft()\n",
    "        return len(self.times)"
   ]
  },
  {
   "cell_type": "code",
   "execution_count": 3,
   "id": "3f6f95f5b9dfa482",
   "metadata": {
    "ExecuteTime": {
     "end_time": "2025-08-07T08:34:36.252334Z",
     "start_time": "2025-08-07T08:34:36.250534Z"
    }
   },
   "outputs": [],
   "source": [
    "# 649\n",
    "\n",
    "\n",
    "def predict_party_victory(senate: str) -> str:\n",
    "    queue = collections.deque()\n",
    "    for s in senate:\n",
    "        queue.append(s)\n",
    "\n",
    "    ban_next_radiant = 0\n",
    "    ban_next_dire = 0\n",
    "\n",
    "    while \"R\" in queue and \"D\" in queue:\n",
    "        voter = queue.popleft()\n",
    "        if voter == \"R\":\n",
    "            if not ban_next_radiant:\n",
    "                ban_next_dire += 1\n",
    "                queue.append(voter)\n",
    "            else:\n",
    "                ban_next_radiant -= 1\n",
    "\n",
    "        elif voter == \"D\":\n",
    "            if not ban_next_dire:\n",
    "                ban_next_radiant += 1\n",
    "                queue.append(voter)\n",
    "            else:\n",
    "                ban_next_dire -= 1\n",
    "\n",
    "    win = queue.popleft()\n",
    "    return \"Dire\" if win == \"D\" else \"Radiant\""
   ]
  },
  {
   "cell_type": "code",
   "execution_count": 4,
   "id": "42a0c17912edc26d",
   "metadata": {
    "ExecuteTime": {
     "end_time": "2025-08-07T08:34:36.261394Z",
     "start_time": "2025-08-07T08:34:36.258712Z"
    }
   },
   "outputs": [
    {
     "data": {
      "text/plain": [
       "'Dire'"
      ]
     },
     "execution_count": 4,
     "metadata": {},
     "output_type": "execute_result"
    }
   ],
   "source": [
    "predict_party_victory(senate=\"DDRRR\")"
   ]
  }
 ],
 "metadata": {
  "kernelspec": {
   "display_name": "Python 3",
   "language": "python",
   "name": "python3"
  },
  "language_info": {
   "codemirror_mode": {
    "name": "ipython",
    "version": 2
   },
   "file_extension": ".py",
   "mimetype": "text/x-python",
   "name": "python",
   "nbconvert_exporter": "python",
   "pygments_lexer": "ipython2",
   "version": "2.7.6"
  }
 },
 "nbformat": 4,
 "nbformat_minor": 5
}
