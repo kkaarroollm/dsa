{
 "cells": [
  {
   "cell_type": "code",
   "execution_count": 59,
   "id": "4de49ec3e4154184",
   "metadata": {
    "ExecuteTime": {
     "end_time": "2025-08-12T10:44:01.133479Z",
     "start_time": "2025-08-12T10:44:01.130865Z"
    }
   },
   "outputs": [],
   "source": [
    "import collections"
   ]
  },
  {
   "cell_type": "code",
   "execution_count": 60,
   "id": "initial_id",
   "metadata": {
    "ExecuteTime": {
     "end_time": "2025-08-12T10:44:01.153017Z",
     "start_time": "2025-08-12T10:44:01.150530Z"
    },
    "collapsed": true
   },
   "outputs": [],
   "source": [
    "class TreeNode:\n",
    "    def __init__(self, val=0, left=None, right=None):\n",
    "        self.val = val\n",
    "        self.left = left\n",
    "        self.right = right"
   ]
  },
  {
   "cell_type": "code",
   "execution_count": 61,
   "id": "a58448378b4b070f",
   "metadata": {
    "ExecuteTime": {
     "end_time": "2025-08-12T10:44:01.173007Z",
     "start_time": "2025-08-12T10:44:01.170027Z"
    }
   },
   "outputs": [],
   "source": [
    "def create_example_tree():\n",
    "    nodes = [TreeNode(i) for i in range(1, 11)]\n",
    "\n",
    "    nodes[0].left = nodes[1]\n",
    "    nodes[0].right = nodes[2]\n",
    "    nodes[1].left = nodes[3]\n",
    "    nodes[1].right = nodes[4]\n",
    "    nodes[2].left = nodes[5]\n",
    "    nodes[2].right = nodes[6]\n",
    "    nodes[3].left = nodes[7]\n",
    "    nodes[3].right = nodes[8]\n",
    "    nodes[4].left = nodes[9]\n",
    "\n",
    "    return nodes[0]\n",
    "\n",
    "\n",
    "tree = create_example_tree()"
   ]
  },
  {
   "cell_type": "code",
   "execution_count": 62,
   "id": "1283fd70c0988fa6",
   "metadata": {
    "ExecuteTime": {
     "end_time": "2025-08-12T10:44:01.183381Z",
     "start_time": "2025-08-12T10:44:01.181553Z"
    }
   },
   "outputs": [],
   "source": [
    "# 104\n",
    "\n",
    "\n",
    "def max_depth1(root: TreeNode | None) -> int:\n",
    "    if not root:\n",
    "        return 0\n",
    "    return 1 + max(max_depth(root.left), max_depth(root.right))"
   ]
  },
  {
   "cell_type": "code",
   "execution_count": 63,
   "id": "71b73245d5a17312",
   "metadata": {
    "ExecuteTime": {
     "end_time": "2025-08-12T10:44:01.193818Z",
     "start_time": "2025-08-12T10:44:01.191621Z"
    }
   },
   "outputs": [],
   "source": [
    "# 104 iterative\n",
    "\n",
    "\n",
    "def max_depth(root: TreeNode | None) -> int:\n",
    "    stk = [(root, 1)]\n",
    "    res = 0\n",
    "\n",
    "    while stk:\n",
    "        node, depth = stk.pop()\n",
    "        if node:\n",
    "            res = max(res, depth)\n",
    "            stk.append((node.left, depth + 1))\n",
    "            stk.append((node.right, depth + 1))\n",
    "    return res"
   ]
  },
  {
   "cell_type": "code",
   "execution_count": 64,
   "id": "7a81c3917779acd8",
   "metadata": {
    "ExecuteTime": {
     "end_time": "2025-08-12T10:44:01.213987Z",
     "start_time": "2025-08-12T10:44:01.211393Z"
    }
   },
   "outputs": [
    {
     "data": {
      "text/plain": [
       "4"
      ]
     },
     "execution_count": 64,
     "metadata": {},
     "output_type": "execute_result"
    }
   ],
   "source": [
    "max_depth1(tree)"
   ]
  },
  {
   "cell_type": "code",
   "execution_count": 65,
   "id": "aee65377053a6b34",
   "metadata": {
    "ExecuteTime": {
     "end_time": "2025-08-12T10:44:01.235511Z",
     "start_time": "2025-08-12T10:44:01.232917Z"
    }
   },
   "outputs": [],
   "source": [
    "# 872\n",
    "\n",
    "\n",
    "def leaf_similar(root1: TreeNode | None, root2: TreeNode | None) -> bool:\n",
    "    def collect_leaves(node: TreeNode, leaves: list) -> list:\n",
    "        if not node:\n",
    "            return []\n",
    "        if not (node.left or node.right):\n",
    "            leaves.append(node.val)\n",
    "\n",
    "        if node.left:\n",
    "            collect_leaves(node.left, leaves)\n",
    "        if node.right:\n",
    "            collect_leaves(node.right, leaves)\n",
    "        return leaves\n",
    "\n",
    "    return collect_leaves(root1, []) == collect_leaves(root2, [])"
   ]
  },
  {
   "cell_type": "code",
   "execution_count": 66,
   "id": "297cab09f543b272",
   "metadata": {
    "ExecuteTime": {
     "end_time": "2025-08-12T10:44:01.248592Z",
     "start_time": "2025-08-12T10:44:01.246169Z"
    }
   },
   "outputs": [],
   "source": [
    "# 872 iterative\n",
    "\n",
    "\n",
    "def leaf_similar(root1: TreeNode | None, root2: TreeNode | None) -> bool:\n",
    "    def collect_leaves(root: TreeNode) -> list:\n",
    "        stk, leaves = [root], []\n",
    "\n",
    "        while stk:\n",
    "            node = stk.pop()\n",
    "            if not (node.left or node.right):\n",
    "                leaves.append(node.val)\n",
    "            if node.left:\n",
    "                stk.append(node.left)\n",
    "            if node.right:\n",
    "                stk.append(node.right)\n",
    "        return leaves\n",
    "\n",
    "    return collect_leaves(root1) == collect_leaves(root2)"
   ]
  },
  {
   "cell_type": "code",
   "execution_count": 67,
   "id": "d2422427a8ae3f79",
   "metadata": {
    "ExecuteTime": {
     "end_time": "2025-08-12T10:44:01.258615Z",
     "start_time": "2025-08-12T10:44:01.255962Z"
    }
   },
   "outputs": [],
   "source": [
    "# 1448\n",
    "\n",
    "\n",
    "def good_nodes(root: TreeNode) -> int:\n",
    "    count: int = 0\n",
    "\n",
    "    def dfs(node: TreeNode, max_val: int):\n",
    "        nonlocal count\n",
    "        if node.val >= max_val:\n",
    "            count += 1\n",
    "            max_val = max(node.val, max_val)\n",
    "        if node.left:\n",
    "            dfs(node.left, max_val)\n",
    "        if node.right:\n",
    "            dfs(node.right, max_val)\n",
    "        return count\n",
    "\n",
    "    return dfs(root, root.val)"
   ]
  },
  {
   "cell_type": "code",
   "execution_count": 68,
   "id": "4c3c762e3657c7b1",
   "metadata": {
    "ExecuteTime": {
     "end_time": "2025-08-12T10:44:01.268427Z",
     "start_time": "2025-08-12T10:44:01.266443Z"
    }
   },
   "outputs": [
    {
     "data": {
      "text/plain": [
       "10"
      ]
     },
     "execution_count": 68,
     "metadata": {},
     "output_type": "execute_result"
    }
   ],
   "source": [
    "good_nodes(tree)"
   ]
  },
  {
   "cell_type": "code",
   "execution_count": 69,
   "id": "efd7d3d5fc81626d",
   "metadata": {
    "ExecuteTime": {
     "end_time": "2025-08-12T10:44:01.290486Z",
     "start_time": "2025-08-12T10:44:01.287707Z"
    }
   },
   "outputs": [],
   "source": [
    "# 437 - pretty not efficient, exponential big o\n",
    "\n",
    "\n",
    "def path_sum(root: TreeNode | None, target_sum: int) -> int:\n",
    "    count = 0\n",
    "\n",
    "    def helper(node: TreeNode, curr_sum: int):\n",
    "        nonlocal count\n",
    "        if not node:\n",
    "            return\n",
    "        helper(node.left, curr_sum + node.val)\n",
    "        helper(node.right, curr_sum + node.val)\n",
    "        if curr_sum + node.val == target_sum:\n",
    "            count += 1\n",
    "\n",
    "    def dfs(node: TreeNode):\n",
    "        if not node:\n",
    "            return\n",
    "        helper(node, 0)\n",
    "        dfs(node.left)\n",
    "        dfs(node.right)\n",
    "\n",
    "    dfs(root)\n",
    "    return count"
   ]
  },
  {
   "cell_type": "code",
   "execution_count": 70,
   "id": "f2260d94e2f3cc80",
   "metadata": {
    "ExecuteTime": {
     "end_time": "2025-08-12T10:44:01.304267Z",
     "start_time": "2025-08-12T10:44:01.301796Z"
    }
   },
   "outputs": [],
   "source": [
    "# O(n), check prefix in the list\n",
    "def path_sum(root: TreeNode | None, target_sum: int) -> int:\n",
    "    prefixes = collections.defaultdict(int)\n",
    "    prefixes[0] = 1\n",
    "    total = 0\n",
    "\n",
    "    def dfs(node: TreeNode, curr_sum: int):\n",
    "        nonlocal total\n",
    "\n",
    "        if not node:\n",
    "            return\n",
    "\n",
    "        curr_sum += node.val\n",
    "        total += prefixes[curr_sum - target_sum]  # curr_sum - prev_sum = target_sum\n",
    "        prefixes[curr_sum] += 1\n",
    "\n",
    "        dfs(node.left, curr_sum)\n",
    "        dfs(node.right, curr_sum)\n",
    "\n",
    "        prefixes[curr_sum] -= 1\n",
    "\n",
    "    dfs(root, 0)\n",
    "    return total"
   ]
  },
  {
   "cell_type": "code",
   "execution_count": 71,
   "id": "f7df5a74cb4bd0ac",
   "metadata": {
    "ExecuteTime": {
     "end_time": "2025-08-12T10:44:01.314913Z",
     "start_time": "2025-08-12T10:44:01.312886Z"
    }
   },
   "outputs": [],
   "source": [
    "def longest_zig_zag(root: TreeNode | None) -> int:\n",
    "    # start, left, right = -1, 0, 1\n",
    "    longest = 0\n",
    "\n",
    "    def dfs(node: TreeNode, child: int, curr_sum: int = 0):\n",
    "        nonlocal longest\n",
    "        if not node:\n",
    "            return\n",
    "\n",
    "        longest = max(longest, curr_sum)\n",
    "        if node.left:\n",
    "            dfs(node.left, 0, curr_sum + 1 if child == 1 else 1)\n",
    "        if node.right:\n",
    "            dfs(node.right, 1, curr_sum + 1 if child == 1 else 1)\n",
    "\n",
    "    dfs(root, -1)\n",
    "    return longest"
   ]
  },
  {
   "cell_type": "code",
   "execution_count": 72,
   "id": "ec88cf90b5438292",
   "metadata": {
    "ExecuteTime": {
     "end_time": "2025-08-12T10:44:01.324870Z",
     "start_time": "2025-08-12T10:44:01.322831Z"
    }
   },
   "outputs": [
    {
     "data": {
      "text/plain": [
       "2"
      ]
     },
     "execution_count": 72,
     "metadata": {},
     "output_type": "execute_result"
    }
   ],
   "source": [
    "longest_zig_zag(tree)"
   ]
  },
  {
   "cell_type": "code",
   "execution_count": 91,
   "id": "54f94f73ebd9b231",
   "metadata": {
    "ExecuteTime": {
     "end_time": "2025-08-12T18:58:55.025765Z",
     "start_time": "2025-08-12T18:58:55.022784Z"
    }
   },
   "outputs": [],
   "source": [
    "# 236\n",
    "\n",
    "\n",
    "def lowest_common_ancestor(root: TreeNode, p: TreeNode, q: TreeNode) -> TreeNode:\n",
    "    ancestor: TreeNode = TreeNode(-1)\n",
    "\n",
    "    def dfs(node: TreeNode) -> bool:\n",
    "        if not node:\n",
    "            return False\n",
    "\n",
    "        left = dfs(node.left)\n",
    "        right = dfs(node.right)\n",
    "        curr_node = node == p or node == q\n",
    "\n",
    "        if (left and right) or (curr_node and left) or (curr_node and right):\n",
    "            nonlocal ancestor\n",
    "            ancestor = node\n",
    "\n",
    "        return left or right or curr_node\n",
    "\n",
    "    dfs(root)\n",
    "    return ancestor"
   ]
  },
  {
   "cell_type": "code",
   "execution_count": 92,
   "id": "d1ea738b07f01475",
   "metadata": {
    "ExecuteTime": {
     "end_time": "2025-08-12T18:58:56.358432Z",
     "start_time": "2025-08-12T18:58:56.356285Z"
    }
   },
   "outputs": [],
   "source": [
    "x, y = TreeNode(2), TreeNode(9)\n",
    "lowest_common_ancestor(tree, x, y)"
   ]
  }
 ],
 "metadata": {
  "kernelspec": {
   "display_name": "Python 3",
   "language": "python",
   "name": "python3"
  },
  "language_info": {
   "codemirror_mode": {
    "name": "ipython",
    "version": 2
   },
   "file_extension": ".py",
   "mimetype": "text/x-python",
   "name": "python",
   "nbconvert_exporter": "python",
   "pygments_lexer": "ipython2",
   "version": "2.7.6"
  }
 },
 "nbformat": 4,
 "nbformat_minor": 5
}
