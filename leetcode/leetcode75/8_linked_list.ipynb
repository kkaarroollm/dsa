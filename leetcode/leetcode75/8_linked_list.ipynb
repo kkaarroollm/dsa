{
 "cells": [
  {
   "cell_type": "code",
   "execution_count": 1,
   "id": "initial_id",
   "metadata": {
    "ExecuteTime": {
     "end_time": "2025-08-10T18:25:39.205314Z",
     "start_time": "2025-08-10T18:25:39.202491Z"
    },
    "collapsed": true
   },
   "outputs": [],
   "source": [
    "class ListNode:\n",
    "    def __init__(self, val=0, next_=None):\n",
    "        self.val = val\n",
    "        self.next = next_\n",
    "\n",
    "    def __str__(self):\n",
    "        return str(self.val)"
   ]
  },
  {
   "cell_type": "code",
   "execution_count": 2,
   "id": "aaeb0cae5f6c88f2",
   "metadata": {
    "ExecuteTime": {
     "end_time": "2025-08-10T18:25:39.345734Z",
     "start_time": "2025-08-10T18:25:39.344208Z"
    }
   },
   "outputs": [],
   "source": [
    "def create_linked_list(values) -> ListNode | None:\n",
    "    if not values:\n",
    "        return None\n",
    "\n",
    "    head = ListNode(values[0])\n",
    "    current = head\n",
    "\n",
    "    for val in values[1:]:\n",
    "        current.next = ListNode(val)\n",
    "        current = current.next\n",
    "\n",
    "    return head"
   ]
  },
  {
   "cell_type": "code",
   "execution_count": 3,
   "id": "a4527ca6df304a4a",
   "metadata": {
    "ExecuteTime": {
     "end_time": "2025-08-10T18:25:39.353095Z",
     "start_time": "2025-08-10T18:25:39.351378Z"
    }
   },
   "outputs": [],
   "source": [
    "# 2095\n",
    "\n",
    "\n",
    "def delete_middle(head: ListNode | None) -> ListNode | None:\n",
    "    if not (head and head.next):\n",
    "        return None\n",
    "    slow, fast = head, head\n",
    "    prev = None\n",
    "\n",
    "    while fast and fast.next:\n",
    "        prev = slow\n",
    "        slow = slow.next\n",
    "        fast = fast.next.next\n",
    "\n",
    "    prev.next = slow.next\n",
    "    return head"
   ]
  },
  {
   "cell_type": "code",
   "execution_count": 4,
   "id": "5fe86afffb69e5c5",
   "metadata": {
    "ExecuteTime": {
     "end_time": "2025-08-10T18:25:39.360279Z",
     "start_time": "2025-08-10T18:25:39.357828Z"
    }
   },
   "outputs": [
    {
     "data": {
      "text/plain": [
       "'2'"
      ]
     },
     "execution_count": 4,
     "metadata": {},
     "output_type": "execute_result"
    }
   ],
   "source": [
    "head = create_linked_list([2, 1])\n",
    "delete_middle(head).__str__()"
   ]
  },
  {
   "cell_type": "code",
   "execution_count": 5,
   "id": "14fa0a445bc404b7",
   "metadata": {
    "ExecuteTime": {
     "end_time": "2025-08-10T18:25:39.375533Z",
     "start_time": "2025-08-10T18:25:39.373900Z"
    }
   },
   "outputs": [],
   "source": [
    "def odd_even_list(head: ListNode | None) -> ListNode | None:\n",
    "    while not (head and head.next):\n",
    "        return head\n",
    "\n",
    "    odd = head\n",
    "    even = even_head = head.next\n",
    "\n",
    "    while even and even.next:\n",
    "        odd.next = even.next\n",
    "        odd = even.next\n",
    "\n",
    "        even.next = odd.next\n",
    "        even = odd.next\n",
    "\n",
    "    odd.next = even_head\n",
    "\n",
    "    return head"
   ]
  },
  {
   "cell_type": "code",
   "execution_count": 6,
   "id": "662b9e3c3db17a66",
   "metadata": {
    "ExecuteTime": {
     "end_time": "2025-08-10T18:25:39.384764Z",
     "start_time": "2025-08-10T18:25:39.383173Z"
    }
   },
   "outputs": [
    {
     "name": "stdout",
     "output_type": "stream",
     "text": [
      "1\n",
      "3\n",
      "5\n",
      "2\n",
      "4\n"
     ]
    }
   ],
   "source": [
    "head = create_linked_list([1, 2, 3, 4, 5])\n",
    "x = odd_even_list(head)\n",
    "while x:\n",
    "    print(x.val)\n",
    "    x = x.next"
   ]
  },
  {
   "cell_type": "code",
   "execution_count": 7,
   "id": "279d857ad627884b",
   "metadata": {
    "ExecuteTime": {
     "end_time": "2025-08-10T18:25:39.398125Z",
     "start_time": "2025-08-10T18:25:39.396084Z"
    }
   },
   "outputs": [],
   "source": [
    "# 206\n",
    "\n",
    "\n",
    "def reverse_list(head: ListNode | None) -> ListNode | None:\n",
    "    if not (head and head.next):\n",
    "        return head\n",
    "\n",
    "    prev = None\n",
    "    curr = head\n",
    "\n",
    "    while curr:\n",
    "        next_node = curr.next\n",
    "        curr.next = prev\n",
    "        prev = curr\n",
    "        curr = next_node\n",
    "\n",
    "    return prev"
   ]
  },
  {
   "cell_type": "code",
   "execution_count": 8,
   "id": "528ea2e65044dd60",
   "metadata": {
    "ExecuteTime": {
     "end_time": "2025-08-10T18:25:39.405793Z",
     "start_time": "2025-08-10T18:25:39.403723Z"
    }
   },
   "outputs": [],
   "source": [
    "# 206 recursive\n",
    "\n",
    "\n",
    "def reverse_list(head: ListNode | None) -> ListNode | None:\n",
    "    if not (head and head.next):\n",
    "        return head\n",
    "\n",
    "    new_head = reverse_list(head.next)\n",
    "    head.next.next = head\n",
    "    head.next = None\n",
    "    return new_head"
   ]
  },
  {
   "cell_type": "code",
   "execution_count": 9,
   "id": "dc575cf6b918ddca",
   "metadata": {
    "ExecuteTime": {
     "end_time": "2025-08-10T18:25:39.414133Z",
     "start_time": "2025-08-10T18:25:39.412292Z"
    }
   },
   "outputs": [
    {
     "name": "stdout",
     "output_type": "stream",
     "text": [
      "5\n",
      "4\n",
      "3\n",
      "2\n",
      "1\n"
     ]
    }
   ],
   "source": [
    "head = create_linked_list([1, 2, 3, 4, 5])\n",
    "x = reverse_list(head)\n",
    "while x:\n",
    "    print(x.val)\n",
    "    x = x.next"
   ]
  },
  {
   "cell_type": "code",
   "execution_count": 10,
   "id": "14de9884e8501f68",
   "metadata": {
    "ExecuteTime": {
     "end_time": "2025-08-10T18:25:39.428265Z",
     "start_time": "2025-08-10T18:25:39.426525Z"
    }
   },
   "outputs": [],
   "source": [
    "# 2130, not efficient\n",
    "\n",
    "\n",
    "def pair_sum(head: ListNode | None) -> int:\n",
    "    stk = []\n",
    "    max_pair = float(\"-inf\")\n",
    "    head_copy = head\n",
    "\n",
    "    while head:\n",
    "        stk.append(head)\n",
    "        head = head.next\n",
    "\n",
    "    while head_copy:\n",
    "        stk_node = stk.pop()\n",
    "        max_pair = max(max_pair, stk_node.val + head_copy.val)\n",
    "        head_copy = head_copy.next\n",
    "\n",
    "    return max_pair"
   ]
  },
  {
   "cell_type": "code",
   "execution_count": 11,
   "id": "abb7c1da6cedeabe",
   "metadata": {
    "ExecuteTime": {
     "end_time": "2025-08-10T18:25:39.439565Z",
     "start_time": "2025-08-10T18:25:39.437180Z"
    }
   },
   "outputs": [],
   "source": [
    "# 2130 with slow and fast pointers\n",
    "# 1. find a middle element, check whether odd or even count of nodes\n",
    "# 2. reverse second pair of the linkedlist\n",
    "# 3. compare first and second val from both halves, slow and middle\n",
    "\n",
    "# 3, 4, 5\n",
    "# 3.next = None, prev = 4\n",
    "# 4.next = 4, prev = 3\n",
    "\n",
    "\n",
    "def pair_sum(head: ListNode | None) -> int:\n",
    "    slow, fast = head, head\n",
    "\n",
    "    while fast and fast.next:\n",
    "        slow = slow.next\n",
    "        fast = fast.next.next\n",
    "\n",
    "    if fast:\n",
    "        slow = slow.next\n",
    "\n",
    "    prev, curr = None, slow\n",
    "\n",
    "    while curr:\n",
    "        new_node = curr.next  # 4, 5, 6\n",
    "        curr.next = prev  # 3.next = None, 4.next = 3, 5.next = 4\n",
    "        prev = curr  # prev = 3, 4, 5\n",
    "        curr = new_node  # curr = 4, 5, 6\n",
    "\n",
    "    right = prev\n",
    "    left = head\n",
    "    max_sum = float(\"-inf\")\n",
    "    while right:\n",
    "        max_sum = max(left.val + right.val, max_sum)\n",
    "        right = right.next\n",
    "        left = left.next\n",
    "\n",
    "    return max_sum"
   ]
  },
  {
   "cell_type": "code",
   "execution_count": 12,
   "id": "3b33d6281568471a",
   "metadata": {
    "ExecuteTime": {
     "end_time": "2025-08-10T18:25:39.449967Z",
     "start_time": "2025-08-10T18:25:39.448041Z"
    }
   },
   "outputs": [
    {
     "data": {
      "text/plain": [
       "6"
      ]
     },
     "execution_count": 12,
     "metadata": {},
     "output_type": "execute_result"
    }
   ],
   "source": [
    "head = create_linked_list([1, 2, 3, 4, 5])\n",
    "pair_sum(head)"
   ]
  }
 ],
 "metadata": {
  "kernelspec": {
   "display_name": "Python 3",
   "language": "python",
   "name": "python3"
  },
  "language_info": {
   "codemirror_mode": {
    "name": "ipython",
    "version": 2
   },
   "file_extension": ".py",
   "mimetype": "text/x-python",
   "name": "python",
   "nbconvert_exporter": "python",
   "pygments_lexer": "ipython2",
   "version": "2.7.6"
  }
 },
 "nbformat": 4,
 "nbformat_minor": 5
}
