{
 "cells": [
  {
   "cell_type": "code",
   "execution_count": 67,
   "id": "b783cb0c0d3a92f7",
   "metadata": {
    "ExecuteTime": {
     "end_time": "2025-08-28T14:47:51.065533Z",
     "start_time": "2025-08-28T14:47:51.063714Z"
    }
   },
   "outputs": [],
   "source": [
    "import collections"
   ]
  },
  {
   "cell_type": "code",
   "execution_count": 68,
   "id": "initial_id",
   "metadata": {
    "ExecuteTime": {
     "end_time": "2025-08-28T14:47:51.125790Z",
     "start_time": "2025-08-28T14:47:51.124087Z"
    },
    "collapsed": true
   },
   "outputs": [],
   "source": [
    "# 2215\n",
    "def find_difference(nums1: list[int], nums2: list[int]) -> list[list[int]]:\n",
    "    s1, s2 = set(nums1), set(nums2)\n",
    "    return [list(s1 - s2), list(s2 - s1)]"
   ]
  },
  {
   "cell_type": "code",
   "execution_count": 69,
   "id": "97f0bb2aebf37eb7",
   "metadata": {
    "ExecuteTime": {
     "end_time": "2025-08-28T14:47:51.132652Z",
     "start_time": "2025-08-28T14:47:51.130471Z"
    }
   },
   "outputs": [
    {
     "data": {
      "text/plain": [
       "[[1, 3], [4, 6]]"
      ]
     },
     "execution_count": 69,
     "metadata": {},
     "output_type": "execute_result"
    }
   ],
   "source": [
    "find_difference(nums1=[1, 2, 3], nums2=[2, 4, 6])"
   ]
  },
  {
   "cell_type": "code",
   "execution_count": 70,
   "id": "4369917111926272",
   "metadata": {
    "ExecuteTime": {
     "end_time": "2025-08-28T14:47:51.150306Z",
     "start_time": "2025-08-28T14:47:51.148621Z"
    }
   },
   "outputs": [],
   "source": [
    "# 1207\n",
    "def unique_occurrences(arr: list[int]) -> bool:\n",
    "    dct = {}\n",
    "    for i in range(len(arr)):\n",
    "        dct[arr[i]] = 1 + dct.get(arr[i], 0)\n",
    "\n",
    "    return len(set(dct.values())) == len(dct.values())"
   ]
  },
  {
   "cell_type": "code",
   "execution_count": 71,
   "id": "5fc612260ccaf6d8",
   "metadata": {
    "ExecuteTime": {
     "end_time": "2025-08-28T14:47:51.159201Z",
     "start_time": "2025-08-28T14:47:51.157477Z"
    }
   },
   "outputs": [
    {
     "data": {
      "text/plain": [
       "True"
      ]
     },
     "execution_count": 71,
     "metadata": {},
     "output_type": "execute_result"
    }
   ],
   "source": [
    "unique_occurrences([1, 2, 2, 1, 1, 3])"
   ]
  },
  {
   "cell_type": "code",
   "execution_count": 72,
   "id": "b40b540f7a53a3f9",
   "metadata": {
    "ExecuteTime": {
     "end_time": "2025-08-28T14:47:51.170733Z",
     "start_time": "2025-08-28T14:47:51.169115Z"
    }
   },
   "outputs": [],
   "source": [
    "# 448\n",
    "def find_disappeared_numbers(nums: list[int]) -> list[int]:\n",
    "    n = len(nums)\n",
    "\n",
    "    for i in range(n):\n",
    "        idx = abs(nums[i]) - 1\n",
    "        nums[idx] = -(abs(nums[idx]))\n",
    "\n",
    "    return [i + 1 for i in range(n) if nums[i] > 0]"
   ]
  },
  {
   "cell_type": "code",
   "execution_count": 73,
   "id": "73a700b8a5614f37",
   "metadata": {
    "ExecuteTime": {
     "end_time": "2025-08-28T14:47:51.180386Z",
     "start_time": "2025-08-28T14:47:51.178585Z"
    }
   },
   "outputs": [
    {
     "data": {
      "text/plain": [
       "[5, 6]"
      ]
     },
     "execution_count": 73,
     "metadata": {},
     "output_type": "execute_result"
    }
   ],
   "source": [
    "find_disappeared_numbers([4, 3, 2, 7, 8, 2, 3, 1])"
   ]
  },
  {
   "cell_type": "code",
   "execution_count": 74,
   "id": "a8375f2f9cb0f3af",
   "metadata": {
    "ExecuteTime": {
     "end_time": "2025-08-28T14:47:51.194258Z",
     "start_time": "2025-08-28T14:47:51.192497Z"
    }
   },
   "outputs": [],
   "source": [
    "# 2353\n",
    "\n",
    "\n",
    "def equal_pairs(grid: list[list[int]]) -> int:\n",
    "    dct = {}\n",
    "    pairs = 0\n",
    "    n = len(grid)\n",
    "\n",
    "    for row in grid:\n",
    "        dct[tuple(row)] = 1 + dct.get(tuple(row), 0)\n",
    "\n",
    "    for col in range(n):\n",
    "        column = tuple(grid[r][col] for r in range(n))\n",
    "        if column in dct:\n",
    "            pairs += dct[column]\n",
    "    return pairs"
   ]
  },
  {
   "cell_type": "code",
   "execution_count": 75,
   "id": "69931cb3f5650ff7",
   "metadata": {
    "ExecuteTime": {
     "end_time": "2025-08-28T14:47:51.203627Z",
     "start_time": "2025-08-28T14:47:51.201851Z"
    }
   },
   "outputs": [
    {
     "data": {
      "text/plain": [
       "1"
      ]
     },
     "execution_count": 75,
     "metadata": {},
     "output_type": "execute_result"
    }
   ],
   "source": [
    "equal_pairs(grid=[[3, 2, 1], [1, 7, 6], [2, 7, 7]])"
   ]
  },
  {
   "cell_type": "code",
   "execution_count": 76,
   "id": "b624357e00c0a18d",
   "metadata": {
    "ExecuteTime": {
     "end_time": "2025-08-28T14:47:51.218118Z",
     "start_time": "2025-08-28T14:47:51.216076Z"
    }
   },
   "outputs": [],
   "source": [
    "# 1657\n",
    "# operation 1 - swap 2 elements\n",
    "# operation 2 - swap every letter with another, vice versa\n",
    "\n",
    "\n",
    "def close_strings(word1: str, word2: str) -> bool:\n",
    "    if len(word1) != len(word2):\n",
    "        return False\n",
    "\n",
    "    c1, c2 = collections.Counter(word1), collections.Counter(word2)\n",
    "\n",
    "    if set(c1.keys()) != set(c2.keys()):\n",
    "        return False\n",
    "\n",
    "    return sorted(c1.values()) == sorted(c2.values())"
   ]
  },
  {
   "cell_type": "code",
   "execution_count": 77,
   "id": "482077d8efcfe392",
   "metadata": {
    "ExecuteTime": {
     "end_time": "2025-08-28T14:47:51.232200Z",
     "start_time": "2025-08-28T14:47:51.230229Z"
    }
   },
   "outputs": [
    {
     "data": {
      "text/plain": [
       "True"
      ]
     },
     "execution_count": 77,
     "metadata": {},
     "output_type": "execute_result"
    }
   ],
   "source": [
    "close_strings(\"abc\", \"bca\")"
   ]
  }
 ],
 "metadata": {
  "kernelspec": {
   "display_name": "Python 3",
   "language": "python",
   "name": "python3"
  },
  "language_info": {
   "codemirror_mode": {
    "name": "ipython",
    "version": 2
   },
   "file_extension": ".py",
   "mimetype": "text/x-python",
   "name": "python",
   "nbconvert_exporter": "python",
   "pygments_lexer": "ipython2",
   "version": "2.7.6"
  }
 },
 "nbformat": 4,
 "nbformat_minor": 5
}
