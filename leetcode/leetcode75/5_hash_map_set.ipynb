{
 "cells": [
  {
   "cell_type": "code",
   "execution_count": 32,
   "id": "b783cb0c0d3a92f7",
   "metadata": {
    "ExecuteTime": {
     "end_time": "2025-08-04T17:04:08.682588Z",
     "start_time": "2025-08-04T17:04:08.680171Z"
    }
   },
   "outputs": [],
   "source": [
    "import collections"
   ]
  },
  {
   "cell_type": "code",
   "execution_count": 4,
   "id": "initial_id",
   "metadata": {
    "ExecuteTime": {
     "end_time": "2025-08-04T13:12:51.856868Z",
     "start_time": "2025-08-04T13:12:51.854761Z"
    },
    "collapsed": true
   },
   "outputs": [],
   "source": [
    "# 2215\n",
    "def find_difference(nums1: list[int], nums2: list[int]) -> list[list[int]]:\n",
    "    s1, s2 = set(nums1), set(nums2)\n",
    "    return [list(s1 - s2), list(s2 - s1)]"
   ]
  },
  {
   "cell_type": "code",
   "execution_count": 5,
   "id": "97f0bb2aebf37eb7",
   "metadata": {
    "ExecuteTime": {
     "end_time": "2025-08-04T13:12:53.028846Z",
     "start_time": "2025-08-04T13:12:53.025564Z"
    }
   },
   "outputs": [
    {
     "data": {
      "text/plain": [
       "[[1, 3], [4, 6]]"
      ]
     },
     "execution_count": 5,
     "metadata": {},
     "output_type": "execute_result"
    }
   ],
   "source": [
    "find_difference(nums1=[1, 2, 3], nums2=[2, 4, 6])"
   ]
  },
  {
   "cell_type": "code",
   "execution_count": 6,
   "id": "4369917111926272",
   "metadata": {
    "ExecuteTime": {
     "end_time": "2025-08-04T13:16:47.657095Z",
     "start_time": "2025-08-04T13:16:47.655011Z"
    }
   },
   "outputs": [],
   "source": [
    "# 1207\n",
    "def unique_occurrences(arr: list[int]) -> bool:\n",
    "    dct = {}\n",
    "    for i in range(len(arr)):\n",
    "        dct[arr[i]] = 1 + dct.get(arr[i], 0)\n",
    "\n",
    "    return len(set(dct.values())) == len(dct.values())"
   ]
  },
  {
   "cell_type": "code",
   "execution_count": 7,
   "id": "5fc612260ccaf6d8",
   "metadata": {
    "ExecuteTime": {
     "end_time": "2025-08-04T13:16:48.614153Z",
     "start_time": "2025-08-04T13:16:48.611317Z"
    }
   },
   "outputs": [
    {
     "data": {
      "text/plain": [
       "True"
      ]
     },
     "execution_count": 7,
     "metadata": {},
     "output_type": "execute_result"
    }
   ],
   "source": [
    "unique_occurrences([1, 2, 2, 1, 1, 3])"
   ]
  },
  {
   "cell_type": "code",
   "execution_count": 26,
   "id": "b40b540f7a53a3f9",
   "metadata": {
    "ExecuteTime": {
     "end_time": "2025-08-04T14:28:38.800188Z",
     "start_time": "2025-08-04T14:28:38.797180Z"
    }
   },
   "outputs": [],
   "source": [
    "# 448\n",
    "def find_disappeared_numbers(nums: list[int]) -> list[int]:\n",
    "    n = len(nums)\n",
    "\n",
    "    for i in range(n):\n",
    "        idx = abs(nums[i]) - 1\n",
    "        nums[idx] = -(abs(nums[idx]))\n",
    "\n",
    "    return [i + 1 for i in range(n) if nums[i] > 0]"
   ]
  },
  {
   "cell_type": "code",
   "execution_count": 27,
   "id": "73a700b8a5614f37",
   "metadata": {
    "ExecuteTime": {
     "end_time": "2025-08-04T14:28:39.747262Z",
     "start_time": "2025-08-04T14:28:39.744393Z"
    }
   },
   "outputs": [
    {
     "data": {
      "text/plain": [
       "[5, 6]"
      ]
     },
     "execution_count": 27,
     "metadata": {},
     "output_type": "execute_result"
    }
   ],
   "source": [
    "find_disappeared_numbers([4, 3, 2, 7, 8, 2, 3, 1])"
   ]
  },
  {
   "cell_type": "code",
   "execution_count": 35,
   "id": "a8375f2f9cb0f3af",
   "metadata": {
    "ExecuteTime": {
     "end_time": "2025-08-04T18:25:45.308026Z",
     "start_time": "2025-08-04T18:25:45.305096Z"
    }
   },
   "outputs": [],
   "source": [
    "# 2353\n",
    "\n",
    "\n",
    "def equal_pairs(grid: list[list[int]]) -> int:\n",
    "    dct = {}\n",
    "    pairs = 0\n",
    "    n = len(grid)\n",
    "\n",
    "    for row in grid:\n",
    "        dct[tuple(row)] = 1 + dct.get(tuple(row), 0)\n",
    "\n",
    "    for col in range(n):\n",
    "        column = tuple(grid[r][col] for r in range(n))\n",
    "        if column in dct:\n",
    "            pairs += dct[column]\n",
    "    return pairs"
   ]
  },
  {
   "cell_type": "code",
   "execution_count": 36,
   "id": "69931cb3f5650ff7",
   "metadata": {
    "ExecuteTime": {
     "end_time": "2025-08-04T18:25:46.280958Z",
     "start_time": "2025-08-04T18:25:46.278120Z"
    }
   },
   "outputs": [
    {
     "data": {
      "text/plain": [
       "1"
      ]
     },
     "execution_count": 36,
     "metadata": {},
     "output_type": "execute_result"
    }
   ],
   "source": [
    "equal_pairs(grid=[[3, 2, 1], [1, 7, 6], [2, 7, 7]])"
   ]
  }
 ],
 "metadata": {
  "kernelspec": {
   "display_name": "Python 3",
   "language": "python",
   "name": "python3"
  },
  "language_info": {
   "codemirror_mode": {
    "name": "ipython",
    "version": 2
   },
   "file_extension": ".py",
   "mimetype": "text/x-python",
   "name": "python",
   "nbconvert_exporter": "python",
   "pygments_lexer": "ipython2",
   "version": "2.7.6"
  }
 },
 "nbformat": 4,
 "nbformat_minor": 5
}
