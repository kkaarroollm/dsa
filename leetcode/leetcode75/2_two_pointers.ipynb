{
 "cells": [
  {
   "cell_type": "code",
   "id": "initial_id",
   "metadata": {
    "collapsed": true,
    "ExecuteTime": {
     "end_time": "2025-07-29T21:24:54.454404Z",
     "start_time": "2025-07-29T21:24:54.452236Z"
    }
   },
   "source": [
    "import collections\n",
    "\n",
    "\n",
    "def move_zeroes(nums: list[int]) -> None:\n",
    "    j = 0\n",
    "    for i in range(len(nums)):\n",
    "        if nums[i] != 0:\n",
    "            nums[j], nums[i] = nums[i], nums[j]\n",
    "            j += 1\n",
    "    return None"
   ],
   "outputs": [],
   "execution_count": 1
  },
  {
   "cell_type": "code",
   "id": "70e47c21c3af72f0",
   "metadata": {
    "ExecuteTime": {
     "end_time": "2025-07-29T21:24:54.498475Z",
     "start_time": "2025-07-29T21:24:54.496813Z"
    }
   },
   "source": [
    "nums = [0, 1, 0, 3, 12]\n",
    "nums1 = [1]\n",
    "move_zeroes(nums1)"
   ],
   "outputs": [],
   "execution_count": 2
  },
  {
   "cell_type": "code",
   "id": "4e036e409249aa3a",
   "metadata": {
    "ExecuteTime": {
     "end_time": "2025-07-29T21:24:54.509860Z",
     "start_time": "2025-07-29T21:24:54.507644Z"
    }
   },
   "source": [
    "# 392\n",
    "def is_subsequence(s: str, t: str) -> bool:\n",
    "    i, j = 0, 0\n",
    "    while i < len(t) and j < len(s):\n",
    "        if s[j] == t[i]:\n",
    "            j += 1\n",
    "        i += 1\n",
    "    return len(s) == j"
   ],
   "outputs": [],
   "execution_count": 3
  },
  {
   "cell_type": "code",
   "id": "564b1b2983432f07",
   "metadata": {
    "ExecuteTime": {
     "end_time": "2025-07-29T21:24:54.518796Z",
     "start_time": "2025-07-29T21:24:54.516250Z"
    }
   },
   "source": [
    "s1 = \"abc\"\n",
    "t1 = \"ahbgdc\"\n",
    "s2 = \"\"\n",
    "t2 = \"ahbgdc\"\n",
    "is_subsequence(s1, t1)"
   ],
   "outputs": [
    {
     "data": {
      "text/plain": [
       "True"
      ]
     },
     "execution_count": 4,
     "metadata": {},
     "output_type": "execute_result"
    }
   ],
   "execution_count": 4
  },
  {
   "cell_type": "code",
   "id": "9db4c778397c3a34",
   "metadata": {
    "ExecuteTime": {
     "end_time": "2025-07-29T21:24:54.538465Z",
     "start_time": "2025-07-29T21:24:54.536305Z"
    }
   },
   "source": [
    "# 11\n",
    "def max_area(height: list[int]) -> int:\n",
    "    start, end = 0, len(height) - 1\n",
    "    l = r = 0\n",
    "    max_a = 0\n",
    "\n",
    "    while start <= end:\n",
    "        if height[end] > r:\n",
    "            r = height[end]\n",
    "\n",
    "        if height[start] > l:\n",
    "            l = height[start]\n",
    "\n",
    "        max_a = max(max_a, (end - start) * min(l, r))\n",
    "\n",
    "        if l > r:\n",
    "            end -= 1\n",
    "        else:\n",
    "            start += 1\n",
    "\n",
    "    return max_a"
   ],
   "outputs": [],
   "execution_count": 5
  },
  {
   "cell_type": "code",
   "id": "c82315e1324461ec",
   "metadata": {
    "ExecuteTime": {
     "end_time": "2025-07-29T21:24:54.545193Z",
     "start_time": "2025-07-29T21:24:54.543318Z"
    }
   },
   "source": [
    "height_ = [1, 8, 6, 2, 5, 4, 8, 3, 7]\n",
    "\n",
    "max_area(height_)"
   ],
   "outputs": [
    {
     "data": {
      "text/plain": [
       "49"
      ]
     },
     "execution_count": 6,
     "metadata": {},
     "output_type": "execute_result"
    }
   ],
   "execution_count": 6
  },
  {
   "cell_type": "code",
   "id": "737b45361a6f7e86",
   "metadata": {
    "ExecuteTime": {
     "end_time": "2025-07-29T21:24:54.557393Z",
     "start_time": "2025-07-29T21:24:54.555579Z"
    }
   },
   "source": [
    "# 1679\n",
    "# ULTRA NOT OPTIMAL / TIME LIMIT EXCEEDED. not for leetcode\n",
    "def max_operations(nums: list[int], k: int) -> int:\n",
    "    i, j, c = 1, 0, 0\n",
    "\n",
    "    while i < len(nums) and j < len(nums):\n",
    "        if nums[i] + nums[j] == k:\n",
    "            del nums[j], nums[i - 1]\n",
    "            c += 1\n",
    "            i = j\n",
    "        if i == len(nums) - 1:\n",
    "            j += 1\n",
    "            i = j\n",
    "        i += 1\n",
    "    return c"
   ],
   "outputs": [],
   "execution_count": 7
  },
  {
   "cell_type": "code",
   "id": "d7f406b5a7e2ffd4",
   "metadata": {
    "ExecuteTime": {
     "end_time": "2025-07-29T21:24:54.563544Z",
     "start_time": "2025-07-29T21:24:54.561906Z"
    }
   },
   "source": [
    "def max_operations(nums: list[int], k: int) -> int:\n",
    "    dct = collections.defaultdict(int)\n",
    "    c = 0\n",
    "    for num in nums:\n",
    "        if (k - num) in dct and dct[k - num] > 0:\n",
    "            c += 1\n",
    "            dct[k - num] -= 1\n",
    "        else:\n",
    "            dct[num] += 1\n",
    "    return c"
   ],
   "outputs": [],
   "execution_count": 8
  },
  {
   "cell_type": "code",
   "id": "8256d3ea37a18630",
   "metadata": {
    "ExecuteTime": {
     "end_time": "2025-07-29T21:24:54.569215Z",
     "start_time": "2025-07-29T21:24:54.567507Z"
    }
   },
   "source": [
    "# nums = [2,2,2,3,1,1,4,1]\n",
    "nums = [1, 2, 3, 4]\n",
    "k = 4\n",
    "max_operations(nums, k)"
   ],
   "outputs": [
    {
     "data": {
      "text/plain": [
       "1"
      ]
     },
     "execution_count": 9,
     "metadata": {},
     "output_type": "execute_result"
    }
   ],
   "execution_count": 9
  }
 ],
 "metadata": {
  "kernelspec": {
   "display_name": "Python 3",
   "language": "python",
   "name": "python3"
  },
  "language_info": {
   "codemirror_mode": {
    "name": "ipython",
    "version": 2
   },
   "file_extension": ".py",
   "mimetype": "text/x-python",
   "name": "python",
   "nbconvert_exporter": "python",
   "pygments_lexer": "ipython2",
   "version": "2.7.6"
  }
 },
 "nbformat": 4,
 "nbformat_minor": 5
}
