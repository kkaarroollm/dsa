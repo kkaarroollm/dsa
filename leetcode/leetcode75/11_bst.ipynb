{
 "cells": [
  {
   "cell_type": "code",
   "execution_count": 84,
   "id": "60e51d51fec1aa16",
   "metadata": {
    "ExecuteTime": {
     "end_time": "2025-08-20T16:00:02.788898Z",
     "start_time": "2025-08-20T16:00:02.786724Z"
    }
   },
   "outputs": [],
   "source": [
    "class TreeNode:\n",
    "    def __init__(self, val=0, left=None, right=None):\n",
    "        self.val = val\n",
    "        self.left = left\n",
    "        self.right = right"
   ]
  },
  {
   "cell_type": "code",
   "execution_count": 85,
   "id": "initial_id",
   "metadata": {
    "ExecuteTime": {
     "end_time": "2025-08-20T16:00:02.848258Z",
     "start_time": "2025-08-20T16:00:02.846355Z"
    },
    "collapsed": true
   },
   "outputs": [],
   "source": [
    "# 700\n",
    "\n",
    "\n",
    "def search_bst(root: TreeNode | None, val: int) -> TreeNode | None:\n",
    "    sub_root = None\n",
    "\n",
    "    def dfs(node: TreeNode):\n",
    "        nonlocal sub_root\n",
    "        if not node:\n",
    "            return\n",
    "        value = node.val\n",
    "        if value == val:\n",
    "            sub_root = node\n",
    "            return\n",
    "\n",
    "        if val > value:\n",
    "            dfs(node.right)\n",
    "        if val < value:\n",
    "            dfs(node.left)\n",
    "\n",
    "    dfs(root)\n",
    "\n",
    "    return sub_root"
   ]
  },
  {
   "cell_type": "code",
   "execution_count": 86,
   "id": "fa5d7e4f09790693",
   "metadata": {
    "ExecuteTime": {
     "end_time": "2025-08-20T16:00:02.865012Z",
     "start_time": "2025-08-20T16:00:02.862678Z"
    }
   },
   "outputs": [],
   "source": [
    "# 450\n",
    "# 2 inner methods: search and delete with tree conversion to maintain it's balanced\n",
    "\n",
    "\n",
    "def delete_node(root: TreeNode | None, key: int) -> TreeNode | None:\n",
    "    if not root:\n",
    "        return None\n",
    "\n",
    "    if root.val > key:\n",
    "        root.left = delete_node(root.left, key)\n",
    "    elif root.val < key:\n",
    "        root.right = delete_node(root.right, key)\n",
    "    else:\n",
    "        if not root.left:\n",
    "            return root.right\n",
    "        elif not root.right:\n",
    "            return root.left\n",
    "\n",
    "        curr = root.right\n",
    "        while curr.left:\n",
    "            curr = curr.left\n",
    "        root.val = curr.val\n",
    "        root.right = delete_node(root.right, root.val)\n",
    "    return root"
   ]
  },
  {
   "cell_type": "code",
   "execution_count": 87,
   "id": "7c8c4d0b21f2a152",
   "metadata": {
    "ExecuteTime": {
     "end_time": "2025-08-20T16:00:02.879349Z",
     "start_time": "2025-08-20T16:00:02.877578Z"
    }
   },
   "outputs": [
    {
     "name": "stdout",
     "output_type": "stream",
     "text": [
      "5\n",
      "4\n",
      "2\n",
      "6\n",
      "7\n"
     ]
    }
   ],
   "source": [
    "root = TreeNode(5)\n",
    "root.left = TreeNode(3)\n",
    "root.right = TreeNode(6)\n",
    "root.left.left = TreeNode(2)\n",
    "root.left.right = TreeNode(4)\n",
    "root.right.right = TreeNode(7)\n",
    "root_2 = TreeNode(0)\n",
    "ans = delete_node(root, 3)\n",
    "\n",
    "\n",
    "def dfs(node):\n",
    "    if not node:\n",
    "        return\n",
    "    print(node.val)\n",
    "    if node.left:\n",
    "        dfs(node.left)\n",
    "    if node.right:\n",
    "        dfs(node.right)\n",
    "\n",
    "\n",
    "dfs(ans)"
   ]
  }
 ],
 "metadata": {
  "kernelspec": {
   "display_name": "Python 3",
   "language": "python",
   "name": "python3"
  },
  "language_info": {
   "codemirror_mode": {
    "name": "ipython",
    "version": 2
   },
   "file_extension": ".py",
   "mimetype": "text/x-python",
   "name": "python",
   "nbconvert_exporter": "python",
   "pygments_lexer": "ipython2",
   "version": "2.7.6"
  }
 },
 "nbformat": 4,
 "nbformat_minor": 5
}
