{
 "cells": [
  {
   "cell_type": "code",
   "id": "43907a8213c27f68",
   "metadata": {
    "ExecuteTime": {
     "end_time": "2025-08-28T20:30:15.952165Z",
     "start_time": "2025-08-28T20:30:15.949025Z"
    }
   },
   "source": [
    "from collections import deque\n",
    "from typing import Final"
   ],
   "outputs": [],
   "execution_count": 1
  },
  {
   "cell_type": "code",
   "id": "initial_id",
   "metadata": {
    "collapsed": true,
    "ExecuteTime": {
     "end_time": "2025-08-28T20:30:16.029351Z",
     "start_time": "2025-08-28T20:30:16.026843Z"
    }
   },
   "source": [
    "# 1926\n",
    "\n",
    "\n",
    "def nearest_exit(maze: list[list[str]], entrance: list[int]) -> int:\n",
    "    WALL: Final[str] = \"+\"\n",
    "    PATH: Final[str] = \".\"\n",
    "    DIRECTIONS: Final[set[tuple[int, int]]] = {(-1, 0), (1, 0), (0, 1), (0, -1)}\n",
    "\n",
    "    steps = -1\n",
    "    m, n = len(maze), len(maze[0])\n",
    "\n",
    "    q = deque()\n",
    "    q.append((entrance[0], entrance[1]))\n",
    "    visited = set()\n",
    "\n",
    "    def is_exit(r: int, c: int):\n",
    "        return (\n",
    "            maze[r][c] == PATH\n",
    "            and (r in (0, m - 1) or c in (0, n - 1))\n",
    "            and [r, c] != entrance\n",
    "        )\n",
    "\n",
    "    while q:\n",
    "        steps += 1\n",
    "        for _ in range(len(q)):\n",
    "            r0, c0 = q.popleft()\n",
    "            if is_exit(r0, c0):\n",
    "                return steps\n",
    "            for dr, dc in DIRECTIONS:\n",
    "                r, c = r0 + dr, c0 + dc\n",
    "                if (\n",
    "                    0 <= r < m\n",
    "                    and 0 <= c < n\n",
    "                    and maze[r][c] != WALL\n",
    "                    and (r, c) not in visited\n",
    "                ):\n",
    "                    visited.add((r, c))\n",
    "                    q.append((r, c))\n",
    "    return -1"
   ],
   "outputs": [],
   "execution_count": 2
  },
  {
   "cell_type": "code",
   "id": "b98d26994f7e918e",
   "metadata": {
    "ExecuteTime": {
     "end_time": "2025-08-28T20:30:16.036515Z",
     "start_time": "2025-08-28T20:30:16.033897Z"
    }
   },
   "source": [
    "# maze = [\n",
    "#     [\"+\", \"+\", \".\", \"+\"],\n",
    "#     [\".\", \".\", \".\", \"+\"],\n",
    "#     [\"+\", \"+\", \"+\", \".\"]\n",
    "# ]\n",
    "# entrance = [1, 2]\n",
    "maze = [[\"+\", \"+\", \"+\"], [\".\", \".\", \".\"], [\"+\", \"+\", \"+\"]]\n",
    "entrance = [1, 0]\n",
    "\n",
    "nearest_exit(maze, entrance)"
   ],
   "outputs": [
    {
     "data": {
      "text/plain": [
       "2"
      ]
     },
     "execution_count": 3,
     "metadata": {},
     "output_type": "execute_result"
    }
   ],
   "execution_count": 3
  },
  {
   "cell_type": "code",
   "id": "d0efd16fe75ad926",
   "metadata": {
    "ExecuteTime": {
     "end_time": "2025-08-28T20:30:16.040910Z",
     "start_time": "2025-08-28T20:30:16.038441Z"
    }
   },
   "source": [
    "# 994\n",
    "\n",
    "\n",
    "def oranges_rotting(grid: list[list[int]]) -> int:\n",
    "    DIRECTIONS: Final[set[tuple[int, int]]] = {(-1, 0), (1, 0), (0, 1), (0, -1)}\n",
    "    FRESH: Final[int] = 1\n",
    "    ROTTEN: Final[int] = 2\n",
    "\n",
    "    m, n = len(grid), len(grid[0])\n",
    "    rotten: set[tuple[int, int]] = set()\n",
    "    fresh_oranges: int = 0\n",
    "    minutes = -1\n",
    "\n",
    "    for i in range(m):\n",
    "        for j in range(n):\n",
    "            if grid[i][j] == ROTTEN:\n",
    "                rotten.add((i, j))\n",
    "            elif grid[i][j] == FRESH:\n",
    "                fresh_oranges += 1\n",
    "\n",
    "    if not fresh_oranges:\n",
    "        return 0\n",
    "\n",
    "    q = deque()\n",
    "    while rotten:\n",
    "        q.append(rotten.pop())\n",
    "    visited = set()\n",
    "\n",
    "    while q:\n",
    "        for _ in range(len(q)):\n",
    "            r0, c0 = q.popleft()\n",
    "            visited.add((r0, c0))\n",
    "\n",
    "            for dr, dc in DIRECTIONS:\n",
    "                r, c = r0 + dr, c0 + dc\n",
    "                if (\n",
    "                    0 <= r < m\n",
    "                    and 0 <= c < n\n",
    "                    and grid[r][c] == FRESH\n",
    "                    and (r, c) not in visited\n",
    "                ):\n",
    "                    grid[r][c] = ROTTEN\n",
    "                    fresh_oranges -= 1\n",
    "                    q.append((r, c))\n",
    "        minutes += 1\n",
    "    return -1 if fresh_oranges else minutes"
   ],
   "outputs": [],
   "execution_count": 4
  },
  {
   "cell_type": "code",
   "id": "bab288377636ea48",
   "metadata": {
    "ExecuteTime": {
     "end_time": "2025-08-28T20:30:16.051776Z",
     "start_time": "2025-08-28T20:30:16.049778Z"
    }
   },
   "source": [
    "grid = [[2, 1, 1], [0, 1, 1], [1, 0, 1]]\n",
    "# [[2,1,1],[1,1,0],[0,1,1]]\n",
    "oranges_rotting(grid=[[2, 1, 1], [1, 1, 1], [0, 1, 2]])"
   ],
   "outputs": [
    {
     "data": {
      "text/plain": [
       "2"
      ]
     },
     "execution_count": 5,
     "metadata": {},
     "output_type": "execute_result"
    }
   ],
   "execution_count": 5
  }
 ],
 "metadata": {
  "kernelspec": {
   "display_name": "Python 3",
   "language": "python",
   "name": "python3"
  },
  "language_info": {
   "codemirror_mode": {
    "name": "ipython",
    "version": 2
   },
   "file_extension": ".py",
   "mimetype": "text/x-python",
   "name": "python",
   "nbconvert_exporter": "python",
   "pygments_lexer": "ipython2",
   "version": "2.7.6"
  }
 },
 "nbformat": 4,
 "nbformat_minor": 5
}
