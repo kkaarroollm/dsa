{
 "cells": [
  {
   "cell_type": "code",
   "execution_count": 5,
   "id": "initial_id",
   "metadata": {
    "ExecuteTime": {
     "end_time": "2025-07-27T13:03:40.334228Z",
     "start_time": "2025-07-27T13:03:40.330731Z"
    },
    "collapsed": true
   },
   "outputs": [],
   "source": [
    "import collections\n",
    "\n",
    "\n",
    "# 1768\n",
    "# better to use on lists\n",
    "\n",
    "\n",
    "def merge_alternately(word1: str, word2: str) -> str:\n",
    "    p1, p2 = 0, 0\n",
    "    res = \"\"\n",
    "\n",
    "    while p1 < len(word1) and p2 < len(word2):\n",
    "        if p1 <= p2:\n",
    "            res += word1[p1]\n",
    "            p1 += 1\n",
    "        else:\n",
    "            res += word2[p2]\n",
    "            p2 += 1\n",
    "\n",
    "    while p1 < len(word1):\n",
    "        res += word1[p1]\n",
    "        p1 += 1\n",
    "\n",
    "    while p2 < len(word2):\n",
    "        res += word2[p2]\n",
    "        p2 += 1\n",
    "\n",
    "    return res"
   ]
  },
  {
   "cell_type": "code",
   "execution_count": 7,
   "id": "45e848d942e3d1d2",
   "metadata": {
    "ExecuteTime": {
     "end_time": "2025-07-27T13:04:06.339212Z",
     "start_time": "2025-07-27T13:04:06.335983Z"
    }
   },
   "outputs": [
    {
     "data": {
      "text/plain": [
       "'apbqrs'"
      ]
     },
     "execution_count": 7,
     "metadata": {},
     "output_type": "execute_result"
    }
   ],
   "source": [
    "word1 = \"ab\"\n",
    "word2 = \"pqrs\"\n",
    "merge_alternately(word1, word2)"
   ]
  },
  {
   "cell_type": "code",
   "execution_count": 58,
   "id": "1612cecda79d6620",
   "metadata": {
    "ExecuteTime": {
     "end_time": "2025-07-27T16:26:21.880616Z",
     "start_time": "2025-07-27T16:26:21.876757Z"
    }
   },
   "outputs": [],
   "source": [
    "# 1071\n",
    "def gcd_of_strings(str1: str, str2: str) -> str:\n",
    "    l1, l2 = len(str1), len(str2)  # l1 > l2\n",
    "\n",
    "    def is_divisor(x: int):\n",
    "        if l1 % x == 0 and l2 % x == 0:\n",
    "            f1, f2 = l1 // x, l2 // x\n",
    "            return str1[:x] * f1 == str1 and str1[:x] * f2 == str2\n",
    "        return False\n",
    "\n",
    "    for x in range(l1, 0, -1):\n",
    "        if is_divisor(x):\n",
    "            return str1[:x]\n",
    "    return \"\""
   ]
  },
  {
   "cell_type": "code",
   "execution_count": 59,
   "id": "ee77a22139560447",
   "metadata": {
    "ExecuteTime": {
     "end_time": "2025-07-27T16:26:22.871710Z",
     "start_time": "2025-07-27T16:26:22.868451Z"
    }
   },
   "outputs": [
    {
     "data": {
      "text/plain": [
       "'ABAB'"
      ]
     },
     "execution_count": 59,
     "metadata": {},
     "output_type": "execute_result"
    }
   ],
   "source": [
    "s1 = \"ABABABAB\"\n",
    "s2 = \"ABAB\"\n",
    "\n",
    "gcd_of_strings(s1, s2)"
   ]
  },
  {
   "cell_type": "code",
   "execution_count": 60,
   "id": "23ef0db9b7667a58",
   "metadata": {
    "ExecuteTime": {
     "end_time": "2025-07-27T16:31:08.478590Z",
     "start_time": "2025-07-27T16:31:08.475955Z"
    }
   },
   "outputs": [],
   "source": [
    "# 1431\n",
    "def kids_with_candies(candies: list[int], extra_candies: int) -> list[bool]:\n",
    "    max_kid = max(candies)\n",
    "    l = len(candies)\n",
    "    res = [0] * l\n",
    "    for i in range(l):\n",
    "        res[i] = candies[i] + extra_candies >= max_kid\n",
    "    return res"
   ]
  },
  {
   "cell_type": "code",
   "execution_count": 61,
   "id": "8aed0a62ced0c9fc",
   "metadata": {
    "ExecuteTime": {
     "end_time": "2025-07-27T16:31:09.459532Z",
     "start_time": "2025-07-27T16:31:09.456142Z"
    }
   },
   "outputs": [
    {
     "data": {
      "text/plain": [
       "[True, True, True, False, True]"
      ]
     },
     "execution_count": 61,
     "metadata": {},
     "output_type": "execute_result"
    }
   ],
   "source": [
    "kids_with_candies([2, 3, 5, 1, 3], 3)"
   ]
  },
  {
   "cell_type": "code",
   "execution_count": 96,
   "id": "1e4cca5f081f405d",
   "metadata": {
    "ExecuteTime": {
     "end_time": "2025-07-27T16:59:40.715160Z",
     "start_time": "2025-07-27T16:59:40.711818Z"
    }
   },
   "outputs": [],
   "source": [
    "# 605\n",
    "\n",
    "\n",
    "def can_place_flowers(flowerbed: list[int], n: int) -> bool:\n",
    "    flowerbed_1 = [0] + flowerbed + [0]\n",
    "    counter = 0\n",
    "    for i in range(1, len(flowerbed) + 1):\n",
    "        if not (flowerbed_1[i - 1] or flowerbed_1[i] or flowerbed_1[i + 1]):\n",
    "            flowerbed_1[i] = 1\n",
    "            counter += 1\n",
    "    return counter >= n"
   ]
  },
  {
   "cell_type": "code",
   "execution_count": 97,
   "id": "54d00768f8271b9f",
   "metadata": {
    "ExecuteTime": {
     "end_time": "2025-07-27T16:59:41.627412Z",
     "start_time": "2025-07-27T16:59:41.617619Z"
    }
   },
   "outputs": [
    {
     "data": {
      "text/plain": [
       "True"
      ]
     },
     "execution_count": 97,
     "metadata": {},
     "output_type": "execute_result"
    }
   ],
   "source": [
    "f3 = [1, 0, 0, 0, 0, 1]\n",
    "f4 = [1, 0, 0, 0, 1, 0, 0]\n",
    "\n",
    "n4 = 2\n",
    "can_place_flowers(f4, n4)"
   ]
  },
  {
   "cell_type": "code",
   "execution_count": 114,
   "id": "f1a28bb640d3bfcb",
   "metadata": {
    "ExecuteTime": {
     "end_time": "2025-07-27T17:43:11.516965Z",
     "start_time": "2025-07-27T17:43:11.513872Z"
    }
   },
   "outputs": [],
   "source": [
    "# 345\n",
    "def reverse_vowels(s: str) -> str:\n",
    "    v = {\"a\", \"e\", \"i\", \"o\", \"u\"}\n",
    "    res = [*s]\n",
    "    vs = [i for i in s if i.lower() in v]\n",
    "    for i in range(len(res)):\n",
    "        if res[i].lower() in v:\n",
    "            res[i] = vs.pop()\n",
    "    return \"\".join(res)"
   ]
  },
  {
   "cell_type": "code",
   "execution_count": 124,
   "id": "959762761d1fba3d",
   "metadata": {
    "ExecuteTime": {
     "end_time": "2025-07-27T17:53:30.210260Z",
     "start_time": "2025-07-27T17:53:30.206183Z"
    }
   },
   "outputs": [],
   "source": [
    "# 345 - pointers\n",
    "def reverse_vowels_w(s: str) -> str:\n",
    "    v = {\"a\", \"e\", \"i\", \"o\", \"u\", \"A\", \"E\", \"I\", \"O\", \"U\"}\n",
    "    res = [*s]\n",
    "    st, e = 0, len(res) - 1\n",
    "\n",
    "    while st < e:\n",
    "        if res[st] not in v:\n",
    "            st += 1\n",
    "\n",
    "        if res[e] not in v:\n",
    "            e -= 1\n",
    "\n",
    "        if res[st] in v and res[e] in v:\n",
    "            res[st], res[e] = res[e], res[st]\n",
    "            st += 1\n",
    "            e -= 1\n",
    "\n",
    "    return \"\".join(res)"
   ]
  },
  {
   "cell_type": "code",
   "execution_count": 125,
   "id": "1db6b97d9bce5136",
   "metadata": {
    "ExecuteTime": {
     "end_time": "2025-07-27T17:53:31.724504Z",
     "start_time": "2025-07-27T17:53:31.720645Z"
    }
   },
   "outputs": [
    {
     "data": {
      "text/plain": [
       "'assinuE'"
      ]
     },
     "execution_count": 125,
     "metadata": {},
     "output_type": "execute_result"
    }
   ],
   "source": [
    "reverse_vowels_w(\"Essunia\")"
   ]
  },
  {
   "cell_type": "code",
   "execution_count": 195,
   "id": "e0cc98a3aa54a87a",
   "metadata": {
    "ExecuteTime": {
     "end_time": "2025-07-27T19:46:00.957304Z",
     "start_time": "2025-07-27T19:46:00.953198Z"
    }
   },
   "outputs": [],
   "source": [
    "# 151\n",
    "\n",
    "\n",
    "def reverse_words(s: str) -> str:\n",
    "    p1, p2 = len(s) - 1, len(s) - 1\n",
    "    stk = []\n",
    "\n",
    "    while p1 >= 0 and p2 >= 0:\n",
    "        while p1 >= 0 and s[p1] == \" \":\n",
    "            p1 -= 1\n",
    "\n",
    "        p2 = p1\n",
    "        while p2 >= 0 and s[p2] != \" \":\n",
    "            p2 -= 1\n",
    "\n",
    "        if p1 >= 0 or p2 >= 0:\n",
    "            stk.append(s[p2 + 1 : p1 + 1])\n",
    "            p1 = p2\n",
    "\n",
    "    return \" \".join(stk)"
   ]
  },
  {
   "cell_type": "code",
   "execution_count": 198,
   "id": "4f1869f189a3f4d7",
   "metadata": {
    "ExecuteTime": {
     "end_time": "2025-07-27T19:49:42.107886Z",
     "start_time": "2025-07-27T19:49:42.105914Z"
    }
   },
   "outputs": [],
   "source": [
    "# or with python methods\n",
    "\n",
    "\n",
    "def reverse_words(s: str) -> str:\n",
    "    normalized = s.strip()\n",
    "    return \" \".join(normalized.split()[::-1])"
   ]
  },
  {
   "cell_type": "code",
   "execution_count": 200,
   "id": "32d725cca6688161",
   "metadata": {
    "ExecuteTime": {
     "end_time": "2025-07-27T19:49:47.130306Z",
     "start_time": "2025-07-27T19:49:47.127307Z"
    }
   },
   "outputs": [
    {
     "data": {
      "text/plain": [
       "'blue is sky the'"
      ]
     },
     "execution_count": 200,
     "metadata": {},
     "output_type": "execute_result"
    }
   ],
   "source": [
    "s1 = \"the sky is blue\"\n",
    "s2 = \"  hello world  \"\n",
    "s3 = \"a good   example\"\n",
    "reverse_words(s1)"
   ]
  },
  {
   "cell_type": "code",
   "execution_count": 233,
   "id": "f4662cbd6120171c",
   "metadata": {
    "ExecuteTime": {
     "end_time": "2025-07-28T09:17:31.124257Z",
     "start_time": "2025-07-28T09:17:31.121413Z"
    }
   },
   "outputs": [],
   "source": [
    "# 238\n",
    "# [1.[1, 2, 3, 4].1]\n",
    "# current = prefix * postfix\n",
    "# prefix: [1, 1, 2, 6]\n",
    "# [24, 12, 8, 6]\n",
    "\n",
    "\n",
    "def product_except_self(nums: list[int]) -> list[int]:\n",
    "    prefix, postfix = 1, 1\n",
    "    res = [prefix]\n",
    "\n",
    "    for i in range(1, len(nums)):\n",
    "        res.append(prefix * nums[i - 1])\n",
    "        prefix *= nums[i - 1]\n",
    "\n",
    "    for i in range(len(nums) - 1, -1, -1):\n",
    "        res[i] *= postfix\n",
    "        postfix *= nums[i]\n",
    "\n",
    "    return res"
   ]
  },
  {
   "cell_type": "code",
   "execution_count": 234,
   "id": "acf3957d5b2439d",
   "metadata": {
    "ExecuteTime": {
     "end_time": "2025-07-28T09:17:32.129866Z",
     "start_time": "2025-07-28T09:17:32.126953Z"
    }
   },
   "outputs": [
    {
     "data": {
      "text/plain": [
       "[24, 12, 8, 6]"
      ]
     },
     "execution_count": 234,
     "metadata": {},
     "output_type": "execute_result"
    }
   ],
   "source": [
    "x = [1, 2, 3, 4]\n",
    "product_except_self(x)"
   ]
  },
  {
   "cell_type": "code",
   "execution_count": 274,
   "id": "c650494135de0a0f",
   "metadata": {
    "ExecuteTime": {
     "end_time": "2025-07-28T12:23:15.810488Z",
     "start_time": "2025-07-28T12:23:15.807946Z"
    }
   },
   "outputs": [],
   "source": [
    "# 334\n",
    "#             i  j\n",
    "# [20,100,10,12,5,30]\n",
    "#        i j\n",
    "# [2,1,5,0,4,6]\n",
    "\n",
    "\n",
    "def increasing_triplet(nums: list[int]) -> bool:\n",
    "    i = float(\"inf\")\n",
    "    j = float(\"inf\")\n",
    "\n",
    "    for n in nums:\n",
    "        if n <= i:\n",
    "            i = n\n",
    "        elif n <= j:\n",
    "            j = n\n",
    "        else:\n",
    "            return True\n",
    "    return False"
   ]
  },
  {
   "cell_type": "code",
   "execution_count": 273,
   "id": "add970217af59b69",
   "metadata": {
    "ExecuteTime": {
     "end_time": "2025-07-28T12:22:21.625909Z",
     "start_time": "2025-07-28T12:22:21.623087Z"
    }
   },
   "outputs": [
    {
     "data": {
      "text/plain": [
       "False"
      ]
     },
     "execution_count": 273,
     "metadata": {},
     "output_type": "execute_result"
    }
   ],
   "source": [
    "n1 = [1, 2, 3, 4, 5]\n",
    "n2 = [5, 4, 3, 2, 1]\n",
    "n3 = [2, 1, 5, 0, 4, 6]\n",
    "w = [20, 100, 10, 12, 5, 30]  # true\n",
    "w2 = [6, 7, 1, 2]\n",
    "\n",
    "increasing_triplet(w2)"
   ]
  },
  {
   "cell_type": "code",
   "execution_count": 378,
   "id": "f3a8e01e698b8822",
   "metadata": {
    "ExecuteTime": {
     "end_time": "2025-07-28T15:54:58.401521Z",
     "start_time": "2025-07-28T15:54:58.397830Z"
    }
   },
   "outputs": [],
   "source": [
    "# 443\n",
    "# output [\"a\",\"2\",\"b\",\"2\",\"c\",\"3\"], [\"a\",\"b\",\"1\",\"2\"]\n",
    "# return length of the compressed array\n",
    "\n",
    "\n",
    "def compress(chars: list[str]) -> int:\n",
    "    l = len(chars)\n",
    "    p1, p2, res = 0, 0, 0\n",
    "    next_ = 0\n",
    "\n",
    "    while p1 <= l - 1 and p2 <= l - 1:\n",
    "        while p1 <= l - 1 and chars[p1] == chars[p2]:\n",
    "            p1 += 1\n",
    "\n",
    "        c = p1 - p2\n",
    "        ls = len(str(c))\n",
    "        chars[next_] = chars[p1 - 1]\n",
    "\n",
    "        if c > 1:\n",
    "            for i in range(ls):\n",
    "                chars[next_ + 1 + i] = str(c)[i]\n",
    "        next_ = next_ + 1 + ls if c > 1 else next_ + 1\n",
    "\n",
    "        res += ls + 1 if c > 1 else ls\n",
    "        p2 = p1\n",
    "\n",
    "    return res"
   ]
  },
  {
   "cell_type": "code",
   "execution_count": 379,
   "id": "3a6c2e9ec9c6bf4f",
   "metadata": {
    "ExecuteTime": {
     "end_time": "2025-07-28T15:55:00.480765Z",
     "start_time": "2025-07-28T15:55:00.476605Z"
    }
   },
   "outputs": [
    {
     "name": "stdout",
     "output_type": "stream",
     "text": [
      "['a', '3', 'b', '2', 'a', '2', 'a']\n"
     ]
    },
    {
     "data": {
      "text/plain": [
       "6"
      ]
     },
     "execution_count": 379,
     "metadata": {},
     "output_type": "execute_result"
    }
   ],
   "source": [
    "chars1 = [\"a\", \"a\", \"b\", \"b\", \"c\", \"c\", \"c\"]\n",
    "chars2 = [\"a\", \"b\", \"b\", \"b\", \"b\", \"b\", \"b\", \"b\", \"b\", \"b\", \"b\", \"b\", \"b\"]\n",
    "chars3 = [\"a\"]\n",
    "w1 = [\"a\", \"a\", \"a\", \"b\", \"b\", \"a\", \"a\"]\n",
    "compress(w1)"
   ]
  }
 ],
 "metadata": {
  "kernelspec": {
   "display_name": "Python 3",
   "language": "python",
   "name": "python3"
  },
  "language_info": {
   "codemirror_mode": {
    "name": "ipython",
    "version": 2
   },
   "file_extension": ".py",
   "mimetype": "text/x-python",
   "name": "python",
   "nbconvert_exporter": "python",
   "pygments_lexer": "ipython2",
   "version": "2.7.6"
  }
 },
 "nbformat": 4,
 "nbformat_minor": 5
}
