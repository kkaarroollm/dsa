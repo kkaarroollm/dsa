{
 "cells": [
  {
   "cell_type": "code",
   "execution_count": 2,
   "id": "initial_id",
   "metadata": {
    "ExecuteTime": {
     "end_time": "2025-08-06T22:49:17.788117Z",
     "start_time": "2025-08-06T22:49:17.785409Z"
    },
    "collapsed": true
   },
   "outputs": [],
   "source": [
    "# 2390\n",
    "\n",
    "\n",
    "def remove_stars(s: str) -> str:\n",
    "    res = []\n",
    "    for i in s:\n",
    "        if i == \"*\":\n",
    "            res.pop()\n",
    "        else:\n",
    "            res.append(i)\n",
    "    return \"\".join(res)"
   ]
  },
  {
   "cell_type": "code",
   "execution_count": 3,
   "id": "af5387a5ea4b579",
   "metadata": {
    "ExecuteTime": {
     "end_time": "2025-08-06T22:49:17.810465Z",
     "start_time": "2025-08-06T22:49:17.806561Z"
    }
   },
   "outputs": [
    {
     "data": {
      "text/plain": [
       "'lecoe'"
      ]
     },
     "execution_count": 3,
     "metadata": {},
     "output_type": "execute_result"
    }
   ],
   "source": [
    "remove_stars(s=\"leet**cod*e\")"
   ]
  },
  {
   "cell_type": "code",
   "execution_count": 4,
   "id": "37d7ca669363518e",
   "metadata": {
    "ExecuteTime": {
     "end_time": "2025-08-06T22:49:17.843747Z",
     "start_time": "2025-08-06T22:49:17.841056Z"
    }
   },
   "outputs": [],
   "source": [
    "def asteroid_collision(asteroids: list[int]) -> list[int]:\n",
    "    stck = []\n",
    "\n",
    "    for ast in asteroids:\n",
    "        while stck and stck[-1] > 0 > ast:\n",
    "            diff = ast + stck[-1]\n",
    "            if diff < 0:\n",
    "                stck.pop()\n",
    "            elif diff > 0:\n",
    "                ast = 0\n",
    "            else:\n",
    "                ast = 0\n",
    "                stck.pop()\n",
    "        if ast:\n",
    "            stck.append(ast)\n",
    "\n",
    "    return stck"
   ]
  },
  {
   "cell_type": "code",
   "execution_count": 5,
   "id": "22d3d80aac4a21bb",
   "metadata": {
    "ExecuteTime": {
     "end_time": "2025-08-06T22:49:17.854290Z",
     "start_time": "2025-08-06T22:49:17.852191Z"
    }
   },
   "outputs": [
    {
     "data": {
      "text/plain": [
       "[5, 10]"
      ]
     },
     "execution_count": 5,
     "metadata": {},
     "output_type": "execute_result"
    }
   ],
   "source": [
    "asteroid_collision(asteroids=[5, 10, -5])"
   ]
  },
  {
   "cell_type": "code",
   "execution_count": 6,
   "id": "37bd313bb3be95fb",
   "metadata": {
    "ExecuteTime": {
     "end_time": "2025-08-06T22:49:17.872303Z",
     "start_time": "2025-08-06T22:49:17.869149Z"
    }
   },
   "outputs": [],
   "source": [
    "def decode_string(s: str) -> str:\n",
    "    stck = []\n",
    "\n",
    "    for i in range(len(s)):\n",
    "        if s[i] == \"]\":\n",
    "            part = \"\"\n",
    "            while stck[-1] != \"[\":\n",
    "                part += stck.pop()\n",
    "            stck.pop()\n",
    "            multi = \"\"\n",
    "            while stck and 48 <= ord(stck[-1]) <= 57:\n",
    "                multi += stck.pop()\n",
    "            for l in int(multi[::-1]) * part[::-1]:\n",
    "                stck.append(l)\n",
    "        else:\n",
    "            stck.append(s[i])\n",
    "\n",
    "    return \"\".join(stck)"
   ]
  },
  {
   "cell_type": "code",
   "execution_count": 7,
   "id": "4fb0fd3324a92260",
   "metadata": {
    "ExecuteTime": {
     "end_time": "2025-08-06T22:49:17.882406Z",
     "start_time": "2025-08-06T22:49:17.879898Z"
    }
   },
   "outputs": [
    {
     "data": {
      "text/plain": [
       "'abcabccdcdcdef'"
      ]
     },
     "execution_count": 7,
     "metadata": {},
     "output_type": "execute_result"
    }
   ],
   "source": [
    "decode_string(\"2[abc]3[cd]ef\")  # 3[a2[c]]"
   ]
  }
 ],
 "metadata": {
  "kernelspec": {
   "display_name": "Python 3",
   "language": "python",
   "name": "python3"
  },
  "language_info": {
   "codemirror_mode": {
    "name": "ipython",
    "version": 2
   },
   "file_extension": ".py",
   "mimetype": "text/x-python",
   "name": "python",
   "nbconvert_exporter": "python",
   "pygments_lexer": "ipython2",
   "version": "2.7.6"
  }
 },
 "nbformat": 4,
 "nbformat_minor": 5
}
