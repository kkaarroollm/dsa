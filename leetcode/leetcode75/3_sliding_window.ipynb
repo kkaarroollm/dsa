{
 "cells": [
  {
   "cell_type": "code",
   "execution_count": 1,
   "id": "initial_id",
   "metadata": {
    "ExecuteTime": {
     "end_time": "2025-07-29T21:25:14.395026Z",
     "start_time": "2025-07-29T21:25:14.392193Z"
    },
    "collapsed": true
   },
   "outputs": [],
   "source": [
    "# 643\n",
    "\n",
    "\n",
    "def find_max_average(nums: list[int], k: int) -> float:\n",
    "    i, j = 0, k\n",
    "    curr_sum = sum(nums[i:j])\n",
    "    max_avg = curr_sum / k\n",
    "\n",
    "    while j < len(nums):\n",
    "        curr_sum = curr_sum - nums[i] + nums[j]\n",
    "        max_avg = max(max_avg, curr_sum / k)\n",
    "        j += 1\n",
    "        i += 1\n",
    "    return max_avg"
   ]
  },
  {
   "cell_type": "code",
   "execution_count": 2,
   "id": "dd98239c2e9e17d6",
   "metadata": {
    "ExecuteTime": {
     "end_time": "2025-07-29T21:25:14.447350Z",
     "start_time": "2025-07-29T21:25:14.445548Z"
    }
   },
   "outputs": [],
   "source": [
    "# with a for loop\n",
    "\n",
    "\n",
    "def find_max_average(nums: list[int], k: int) -> float:\n",
    "    curr_sum = 0\n",
    "\n",
    "    for i in range(k):\n",
    "        curr_sum += nums[i]\n",
    "\n",
    "    max_avg = curr_sum / k\n",
    "\n",
    "    for i in range(k, len(nums)):\n",
    "        curr_sum = curr_sum - nums[i - k] + nums[i]\n",
    "        max_avg = max(max_avg, curr_sum / k)\n",
    "    return max_avg"
   ]
  },
  {
   "cell_type": "code",
   "execution_count": 3,
   "id": "ce4e95fad111383f",
   "metadata": {
    "ExecuteTime": {
     "end_time": "2025-07-29T21:25:14.455402Z",
     "start_time": "2025-07-29T21:25:14.452100Z"
    }
   },
   "outputs": [
    {
     "data": {
      "text/plain": [
       "-1.0"
      ]
     },
     "execution_count": 3,
     "metadata": {},
     "output_type": "execute_result"
    }
   ],
   "source": [
    "n = [1, 12, -5, -6, 50, 3]\n",
    "x = 4\n",
    "n1 = [-1]\n",
    "x1 = 1\n",
    "n2 = [1, 3, 1, 4, 2]\n",
    "x2 = 4\n",
    "find_max_average(n1, x1)"
   ]
  },
  {
   "cell_type": "code",
   "execution_count": 4,
   "id": "2609f791095d23c4",
   "metadata": {
    "ExecuteTime": {
     "end_time": "2025-07-29T21:25:14.463162Z",
     "start_time": "2025-07-29T21:25:14.461304Z"
    }
   },
   "outputs": [],
   "source": [
    "# 1456\n",
    "\n",
    "\n",
    "def max_vowels(s: str, k: int) -> int:\n",
    "    v = {\"a\", \"e\", \"i\", \"o\", \"u\"}\n",
    "    mv = 0\n",
    "\n",
    "    for i in range(k):\n",
    "        if s[i] in v:\n",
    "            mv += 1\n",
    "\n",
    "    curr_mv = mv\n",
    "    for i in range(k, len(s)):\n",
    "        curr_mv = curr_mv + (s[i] in v) - (s[i - k] in v)\n",
    "        mv = max(mv, curr_mv)\n",
    "\n",
    "    return mv"
   ]
  },
  {
   "cell_type": "code",
   "execution_count": 5,
   "id": "7f8d8346554a0ed8",
   "metadata": {
    "ExecuteTime": {
     "end_time": "2025-07-29T21:25:14.474278Z",
     "start_time": "2025-07-29T21:25:14.471610Z"
    }
   },
   "outputs": [
    {
     "data": {
      "text/plain": [
       "2"
      ]
     },
     "execution_count": 5,
     "metadata": {},
     "output_type": "execute_result"
    }
   ],
   "source": [
    "max_vowels(\"leetcode\", 3)"
   ]
  },
  {
   "cell_type": "code",
   "execution_count": 6,
   "id": "7674f791ec814883",
   "metadata": {
    "ExecuteTime": {
     "end_time": "2025-07-29T21:25:14.481484Z",
     "start_time": "2025-07-29T21:25:14.479796Z"
    }
   },
   "outputs": [],
   "source": [
    "# 1004\n",
    "# prefix sum ? sliding window ?\n",
    "\n",
    "\n",
    "def longest_ones(nums: list[int], k: int) -> int:\n",
    "    i = j = 0\n",
    "    mv = 0\n",
    "    zeros = 0\n",
    "\n",
    "    while j < len(nums):\n",
    "        if nums[j] == 0:\n",
    "            zeros += 1\n",
    "\n",
    "        while zeros > k:\n",
    "            if nums[i] == 0:\n",
    "                zeros -= 1\n",
    "            i += 1\n",
    "\n",
    "        mv = max(mv, j - i + 1)\n",
    "        j += 1\n",
    "\n",
    "    return mv"
   ]
  },
  {
   "cell_type": "code",
   "execution_count": 7,
   "id": "131e1734281f5738",
   "metadata": {
    "ExecuteTime": {
     "end_time": "2025-07-29T21:25:14.494716Z",
     "start_time": "2025-07-29T21:25:14.492992Z"
    }
   },
   "outputs": [
    {
     "data": {
      "text/plain": [
       "6"
      ]
     },
     "execution_count": 7,
     "metadata": {},
     "output_type": "execute_result"
    }
   ],
   "source": [
    "longest_ones([0, 0, 0, 0, 0, 0, 1, 1, 1, 1, 0], k=2)"
   ]
  }
 ],
 "metadata": {
  "kernelspec": {
   "display_name": "Python 3",
   "language": "python",
   "name": "python3"
  },
  "language_info": {
   "codemirror_mode": {
    "name": "ipython",
    "version": 2
   },
   "file_extension": ".py",
   "mimetype": "text/x-python",
   "name": "python",
   "nbconvert_exporter": "python",
   "pygments_lexer": "ipython2",
   "version": "2.7.6"
  }
 },
 "nbformat": 4,
 "nbformat_minor": 5
}
