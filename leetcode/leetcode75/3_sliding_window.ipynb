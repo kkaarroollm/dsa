{
 "cells": [
  {
   "cell_type": "code",
   "id": "initial_id",
   "metadata": {
    "collapsed": true,
    "ExecuteTime": {
     "start_time": "2025-08-03T22:53:09.252601Z"
    }
   },
   "source": [
    "# 643\n",
    "\n",
    "\n",
    "def find_max_average(nums: list[int], k: int) -> float:\n",
    "    i, j = 0, k\n",
    "    curr_sum = sum(nums[i:j])\n",
    "    max_avg = curr_sum / k\n",
    "\n",
    "    while j < len(nums):\n",
    "        curr_sum = curr_sum - nums[i] + nums[j]\n",
    "        max_avg = max(max_avg, curr_sum / k)\n",
    "        j += 1\n",
    "        i += 1\n",
    "    return max_avg"
   ],
   "outputs": [],
   "execution_count": 20
  },
  {
   "cell_type": "code",
   "id": "dd98239c2e9e17d6",
   "metadata": {
    "ExecuteTime": {
     "end_time": "2025-08-03T22:52:56.617177Z",
     "start_time": "2025-08-03T22:52:56.615672Z"
    }
   },
   "source": [
    "# with a for loop\n",
    "\n",
    "\n",
    "def find_max_average(nums: list[int], k: int) -> float:\n",
    "    curr_sum = 0\n",
    "\n",
    "    for i in range(k):\n",
    "        curr_sum += nums[i]\n",
    "\n",
    "    max_avg = curr_sum / k\n",
    "\n",
    "    for i in range(k, len(nums)):\n",
    "        curr_sum = curr_sum - nums[i - k] + nums[i]\n",
    "        max_avg = max(max_avg, curr_sum / k)\n",
    "    return max_avg"
   ],
   "outputs": [],
   "execution_count": 11
  },
  {
   "cell_type": "code",
   "id": "ce4e95fad111383f",
   "metadata": {
    "ExecuteTime": {
     "end_time": "2025-08-03T22:52:56.623483Z",
     "start_time": "2025-08-03T22:52:56.621591Z"
    }
   },
   "source": [
    "n = [1, 12, -5, -6, 50, 3]\n",
    "x = 4\n",
    "n1 = [-1]\n",
    "x1 = 1\n",
    "n2 = [1, 3, 1, 4, 2]\n",
    "x2 = 4\n",
    "find_max_average(n1, x1)"
   ],
   "outputs": [
    {
     "data": {
      "text/plain": [
       "-1.0"
      ]
     },
     "execution_count": 12,
     "metadata": {},
     "output_type": "execute_result"
    }
   ],
   "execution_count": 12
  },
  {
   "cell_type": "code",
   "id": "2609f791095d23c4",
   "metadata": {
    "ExecuteTime": {
     "end_time": "2025-08-03T22:52:56.629716Z",
     "start_time": "2025-08-03T22:52:56.628005Z"
    }
   },
   "source": [
    "# 1456\n",
    "\n",
    "\n",
    "def max_vowels(s: str, k: int) -> int:\n",
    "    v = {\"a\", \"e\", \"i\", \"o\", \"u\"}\n",
    "    mv = 0\n",
    "\n",
    "    for i in range(k):\n",
    "        if s[i] in v:\n",
    "            mv += 1\n",
    "\n",
    "    curr_mv = mv\n",
    "    for i in range(k, len(s)):\n",
    "        curr_mv = curr_mv + (s[i] in v) - (s[i - k] in v)\n",
    "        mv = max(mv, curr_mv)\n",
    "\n",
    "    return mv"
   ],
   "outputs": [],
   "execution_count": 13
  },
  {
   "cell_type": "code",
   "id": "7f8d8346554a0ed8",
   "metadata": {
    "ExecuteTime": {
     "end_time": "2025-08-03T22:52:56.636873Z",
     "start_time": "2025-08-03T22:52:56.634927Z"
    }
   },
   "source": [
    "max_vowels(\"leetcode\", 3)"
   ],
   "outputs": [
    {
     "data": {
      "text/plain": [
       "2"
      ]
     },
     "execution_count": 14,
     "metadata": {},
     "output_type": "execute_result"
    }
   ],
   "execution_count": 14
  },
  {
   "cell_type": "code",
   "id": "7674f791ec814883",
   "metadata": {
    "ExecuteTime": {
     "end_time": "2025-08-03T22:52:56.644750Z",
     "start_time": "2025-08-03T22:52:56.642776Z"
    }
   },
   "source": [
    "# 1004\n",
    "# prefix sum ? sliding window ?\n",
    "\n",
    "\n",
    "def longest_ones(nums: list[int], k: int) -> int:\n",
    "    i = j = 0\n",
    "    mv = 0\n",
    "    zeros = 0\n",
    "\n",
    "    while j < len(nums):\n",
    "        if nums[j] == 0:\n",
    "            zeros += 1\n",
    "\n",
    "        while zeros > k:\n",
    "            if nums[i] == 0:\n",
    "                zeros -= 1\n",
    "            i += 1\n",
    "\n",
    "        mv = max(mv, j - i + 1)\n",
    "        j += 1\n",
    "\n",
    "    return mv"
   ],
   "outputs": [],
   "execution_count": 15
  },
  {
   "cell_type": "code",
   "id": "131e1734281f5738",
   "metadata": {
    "ExecuteTime": {
     "end_time": "2025-08-03T22:52:56.651721Z",
     "start_time": "2025-08-03T22:52:56.649704Z"
    }
   },
   "source": [
    "longest_ones([0, 0, 0, 0, 0, 0, 1, 1, 1, 1, 0], k=2)"
   ],
   "outputs": [
    {
     "data": {
      "text/plain": [
       "6"
      ]
     },
     "execution_count": 16,
     "metadata": {},
     "output_type": "execute_result"
    }
   ],
   "execution_count": 16
  },
  {
   "metadata": {
    "ExecuteTime": {
     "end_time": "2025-08-03T22:52:56.662396Z",
     "start_time": "2025-08-03T22:52:56.660712Z"
    }
   },
   "cell_type": "code",
   "source": [
    "# 1493\n",
    "# nums = [0,1,1,1,0,1,1,0,1]\n",
    "\n",
    "\n",
    "def longest_substring_1493(nums: list[int]) -> int:\n",
    "    n = len(nums)\n",
    "    l = 0\n",
    "    zero_count = 0\n",
    "    max_seq = 0\n",
    "\n",
    "    for r in range(n):\n",
    "        if nums[r] == 0:\n",
    "            zero_count += 1\n",
    "\n",
    "        while zero_count > 1:\n",
    "            if nums[l] == 0:\n",
    "                zero_count -= 1\n",
    "            l += 1\n",
    "\n",
    "        max_seq = max(max_seq, r - l + 1)\n",
    "\n",
    "    return max_seq - 1"
   ],
   "id": "121b35cb8c58bc64",
   "outputs": [],
   "execution_count": 17
  },
  {
   "metadata": {
    "ExecuteTime": {
     "end_time": "2025-08-03T22:52:56.671122Z",
     "start_time": "2025-08-03T22:52:56.668488Z"
    }
   },
   "cell_type": "code",
   "source": "longest_substring_1493([0, 1, 1, 1, 0, 1, 1, 0, 1])",
   "id": "3f10ce32ccf18e33",
   "outputs": [
    {
     "data": {
      "text/plain": [
       "5"
      ]
     },
     "execution_count": 18,
     "metadata": {},
     "output_type": "execute_result"
    }
   ],
   "execution_count": 18
  }
 ],
 "metadata": {
  "kernelspec": {
   "display_name": "algorithms",
   "language": "python",
   "name": "algorithms"
  },
  "language_info": {
   "codemirror_mode": {
    "name": "ipython",
    "version": 2
   },
   "file_extension": ".py",
   "mimetype": "text/x-python",
   "name": "python",
   "nbconvert_exporter": "python",
   "pygments_lexer": "ipython2",
   "version": "2.7.6"
  }
 },
 "nbformat": 4,
 "nbformat_minor": 5
}
