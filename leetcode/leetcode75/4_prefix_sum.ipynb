{
 "cells": [
  {
   "cell_type": "code",
   "execution_count": 1,
   "id": "initial_id",
   "metadata": {
    "ExecuteTime": {
     "end_time": "2025-08-04T12:45:29.719335Z",
     "start_time": "2025-08-04T12:45:29.716204Z"
    },
    "collapsed": true
   },
   "outputs": [],
   "source": [
    "# 1732\n",
    "def largest_altitude(gain: list[int]) -> int:\n",
    "    max_amp, prefix_sum = 0, 0\n",
    "    for g in gain:\n",
    "        prefix_sum += g\n",
    "        max_amp = max(max_amp, prefix_sum)\n",
    "    return max_amp"
   ]
  },
  {
   "cell_type": "code",
   "execution_count": 2,
   "id": "4d62816a20fff9dd",
   "metadata": {
    "ExecuteTime": {
     "end_time": "2025-08-04T12:45:29.841434Z",
     "start_time": "2025-08-04T12:45:29.839074Z"
    }
   },
   "outputs": [
    {
     "data": {
      "text/plain": [
       "1"
      ]
     },
     "execution_count": 2,
     "metadata": {},
     "output_type": "execute_result"
    }
   ],
   "source": [
    "largest_altitude([-5, 1, 5, 0, -7])"
   ]
  },
  {
   "cell_type": "code",
   "execution_count": 3,
   "id": "6d985758039205fa",
   "metadata": {
    "ExecuteTime": {
     "end_time": "2025-08-04T12:45:29.854988Z",
     "start_time": "2025-08-04T12:45:29.852994Z"
    }
   },
   "outputs": [],
   "source": [
    "# 724 prefix/suffix\n",
    "def pivot_index(nums: list[int]) -> int:\n",
    "    n = len(nums)\n",
    "    prefix, suffix = [0], [0]\n",
    "\n",
    "    for i in range(n):\n",
    "        prefix.append(prefix[-1] + nums[i])\n",
    "\n",
    "    for i in range(n - 1, 0, -1):\n",
    "        suffix.append(suffix[-1] + nums[i])\n",
    "\n",
    "    for i in range(n):\n",
    "        if suffix[-(i + 1)] == prefix[i]:\n",
    "            return i\n",
    "    return -1"
   ]
  },
  {
   "cell_type": "code",
   "execution_count": 5,
   "id": "9514ed67fafbe2d5",
   "metadata": {
    "ExecuteTime": {
     "end_time": "2025-08-04T12:47:56.823169Z",
     "start_time": "2025-08-04T12:47:56.820341Z"
    }
   },
   "outputs": [],
   "source": [
    "# 724 just prefix\n",
    "def pivot_index(nums: list[int]) -> int:\n",
    "    n = len(nums)\n",
    "    total = sum(nums)\n",
    "    left_sum = 0\n",
    "\n",
    "    for i in range(n):\n",
    "        right_sum = total - left_sum - nums[i]\n",
    "        if left_sum == right_sum:\n",
    "            return i\n",
    "        left_sum += nums[i]\n",
    "    return -1"
   ]
  },
  {
   "cell_type": "code",
   "execution_count": 6,
   "id": "84bfff6441c06181",
   "metadata": {
    "ExecuteTime": {
     "end_time": "2025-08-04T12:47:58.179507Z",
     "start_time": "2025-08-04T12:47:58.177099Z"
    }
   },
   "outputs": [
    {
     "data": {
      "text/plain": [
       "0"
      ]
     },
     "execution_count": 6,
     "metadata": {},
     "output_type": "execute_result"
    }
   ],
   "source": [
    "pivot_index([2, -1, 1])"
   ]
  }
 ],
 "metadata": {
  "kernelspec": {
   "display_name": "Python 3",
   "language": "python",
   "name": "python3"
  },
  "language_info": {
   "codemirror_mode": {
    "name": "ipython",
    "version": 2
   },
   "file_extension": ".py",
   "mimetype": "text/x-python",
   "name": "python",
   "nbconvert_exporter": "python",
   "pygments_lexer": "ipython2",
   "version": "2.7.6"
  }
 },
 "nbformat": 4,
 "nbformat_minor": 5
}
