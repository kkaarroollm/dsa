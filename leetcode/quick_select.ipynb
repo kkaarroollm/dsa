{
 "cells": [
  {
   "cell_type": "code",
   "execution_count": 1,
   "id": "initial_id",
   "metadata": {
    "ExecuteTime": {
     "end_time": "2025-08-29T22:40:40.017302Z",
     "start_time": "2025-08-29T22:40:40.008916Z"
    },
    "collapsed": true
   },
   "outputs": [],
   "source": [
    "# Average: O(n), Worst: O(n^2)\n",
    "\n",
    "\n",
    "def partition_lomuto(arr: list[int], low: int, high: int) -> int:\n",
    "    \"\"\"\n",
    "    Lomuto partition scheme used in Quickselect/Quicksort.\n",
    "\n",
    "    Process:\n",
    "      - Choose the pivot as arr[high]\n",
    "      - Iterate through arr[low…high-1]\n",
    "      - Place elements <= pivot on the left\n",
    "      - Place elements > pivot on the right\n",
    "      - Finally put pivot in its correct position\n",
    "\n",
    "    Complexity:\n",
    "        Time: O(n) for this partition step\n",
    "        Space: O(1), in-place\n",
    "\n",
    "    :param arr: The list of elements to partition\n",
    "    :param low: Starting index of the subarray\n",
    "    :param high: Ending index of the subarray\n",
    "    :return: The final index of the pivot element\n",
    "    \"\"\"\n",
    "    pivot = arr[high]\n",
    "    i = low\n",
    "    for j in range(low, high):\n",
    "        if arr[j] <= pivot:\n",
    "            arr[i], arr[j] = arr[j], arr[i]\n",
    "            i += 1\n",
    "    arr[i], arr[high] = arr[high], arr[i]\n",
    "    return i\n",
    "\n",
    "\n",
    "def partition_hoare(arr: list[int], low: int, high: int) -> int:\n",
    "    \"\"\"\n",
    "    Hoare partition scheme used in Quickselect/Quicksort.\n",
    "\n",
    "    Process:\n",
    "      - Choose the pivot as arr[low]\n",
    "      - Use two indices i (from left) and j (from right)\n",
    "      - Move i right until arr[i] >= pivot\n",
    "      - Move j left until arr[j] <= pivot\n",
    "      - If i < j: swap arr[i] and arr[j]\n",
    "      - Stop when i >= j and return j\n",
    "\n",
    "    Note: Hoare partition does not guarantee the pivot\n",
    "          ends in its final sorted position, only that\n",
    "          all elements left <= pivot and right >= pivot.\n",
    "\n",
    "    Complexity:\n",
    "        Time: O(n)\n",
    "        Space: O(1), in-place\n",
    "\n",
    "    :param arr: The list of elements to partition\n",
    "    :param low: Starting index of the subarray\n",
    "    :param high: Ending index of the subarray\n",
    "    :return: Partition index (can be used for recursive calls)\n",
    "    \"\"\"\n",
    "\n",
    "    pivot = arr[low]\n",
    "    i, j = low - 1, high + 1\n",
    "    while True:\n",
    "        i += 1\n",
    "\n",
    "        while arr[i] < pivot:\n",
    "            i += 1\n",
    "\n",
    "        j -= 1\n",
    "        while arr[j] > pivot:\n",
    "            j -= 1\n",
    "\n",
    "        if i >= j:\n",
    "            return j\n",
    "\n",
    "        arr[i], arr[j] = arr[j], arr[i]\n",
    "\n",
    "\n",
    "def quick_select(arr: list[int], k: int, use_hoare: bool = False) -> int:\n",
    "    \"\"\"\n",
    "    Quickselect algorithm to find the k-th smallest element in an unsorted list.\n",
    "\n",
    "    - Picks a pivot and partitions the array.\n",
    "    - Narrows down search range until pivot index == k.\n",
    "    - Works in-place.\n",
    "\n",
    "    Complexity:\n",
    "        Average: O(n)\n",
    "        Worst:   O(n^2) (bad pivots each step)\n",
    "        Space:   O(1) in-place\n",
    "\n",
    "    :param arr: List of numbers\n",
    "    :param k: Index (0-based) of the k-th smallest element,\n",
    "    :param use_hoare: If True, use Hoare partition; otherwise Lomuto\n",
    "    :return: The k-th smallest element\n",
    "    \"\"\"\n",
    "    low, high = 0, len(arr) - 1\n",
    "    pivots = []\n",
    "\n",
    "    while low <= high:\n",
    "        if use_hoare:\n",
    "            pivot_idx = partition_hoare(arr, low, high)\n",
    "            pivots.append(pivot_idx)\n",
    "            if k <= pivot_idx:\n",
    "                high = pivot_idx\n",
    "            else:\n",
    "                low = pivot_idx + 1\n",
    "\n",
    "        # lomuto\n",
    "        pivot_idx = partition_lomuto(arr, low, high)\n",
    "        pivots.append(pivot_idx)\n",
    "        if pivot_idx < k:\n",
    "            low = pivot_idx + 1\n",
    "        else:\n",
    "            high = pivot_idx - 1\n",
    "\n",
    "    print(\"Pivots for Hoare: \" if use_hoare else \"Pivots for Lomuto: \", pivots)\n",
    "    return arr[low]"
   ]
  },
  {
   "cell_type": "code",
   "execution_count": 2,
   "id": "4413fab4b2ca92d1",
   "metadata": {
    "ExecuteTime": {
     "end_time": "2025-08-29T22:40:40.108664Z",
     "start_time": "2025-08-29T22:40:40.105538Z"
    }
   },
   "outputs": [
    {
     "name": "stdout",
     "output_type": "stream",
     "text": [
      "Pivots for Hoare:  [3, 2, 0, 1]\n",
      "Pivots for Lomuto:  [7, 4, 3, 2, 1]\n"
     ]
    },
    {
     "data": {
      "text/plain": [
       "(3, 3)"
      ]
     },
     "execution_count": 2,
     "metadata": {},
     "output_type": "execute_result"
    }
   ],
   "source": [
    "nums = [7, 30, 4, 3, 20, 15, 34, 53, 234, 645, -123, 34, -4, 23]\n",
    "k = 2\n",
    "quick_select(nums, k, use_hoare=True), quick_select(nums, k, use_hoare=False)"
   ]
  }
 ],
 "metadata": {
  "kernelspec": {
   "display_name": "Python 3",
   "language": "python",
   "name": "python3"
  },
  "language_info": {
   "codemirror_mode": {
    "name": "ipython",
    "version": 2
   },
   "file_extension": ".py",
   "mimetype": "text/x-python",
   "name": "python",
   "nbconvert_exporter": "python",
   "pygments_lexer": "ipython2",
   "version": "2.7.6"
  }
 },
 "nbformat": 4,
 "nbformat_minor": 5
}
