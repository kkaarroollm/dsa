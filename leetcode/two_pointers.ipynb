{
 "cells": [
  {
   "cell_type": "code",
   "id": "ac9b3a42bd734ad1",
   "metadata": {
    "ExecuteTime": {
     "end_time": "2025-08-28T20:29:26.911651Z",
     "start_time": "2025-08-28T20:29:26.908151Z"
    }
   },
   "source": [
    "from dataclasses import dataclass\n",
    "from collections import defaultdict, deque"
   ],
   "outputs": [],
   "execution_count": 1
  },
  {
   "cell_type": "code",
   "id": "e2f36208e24113e6",
   "metadata": {
    "ExecuteTime": {
     "end_time": "2025-08-28T20:29:26.982687Z",
     "start_time": "2025-08-28T20:29:26.980534Z"
    }
   },
   "source": [
    "@dataclass\n",
    "class ListNode:\n",
    "    val: int\n",
    "    next: \"ListNode | None\""
   ],
   "outputs": [],
   "execution_count": 2
  },
  {
   "cell_type": "code",
   "id": "initial_id",
   "metadata": {
    "collapsed": true,
    "ExecuteTime": {
     "end_time": "2025-08-28T20:29:26.988884Z",
     "start_time": "2025-08-28T20:29:26.987001Z"
    }
   },
   "source": [
    "# 160\n",
    "\n",
    "\n",
    "def get_intersection_node(headA: ListNode, headB: ListNode) -> ListNode | None:\n",
    "    if not headA or not headB:\n",
    "        return None\n",
    "    p1, p2 = headA, headB\n",
    "    while p1 != p2:\n",
    "        p1 = p1.next if p1 else headB\n",
    "        p2 = p2.next if p2 else headA\n",
    "\n",
    "    return p1"
   ],
   "outputs": [],
   "execution_count": 3
  },
  {
   "cell_type": "code",
   "id": "bf3548b692a37f53",
   "metadata": {
    "ExecuteTime": {
     "end_time": "2025-08-28T20:29:26.995045Z",
     "start_time": "2025-08-28T20:29:26.993049Z"
    }
   },
   "source": [
    "# 350\n",
    "\n",
    "\n",
    "def intersect(nums1: list[int], nums2: list[int]) -> list[int]:\n",
    "    dct = defaultdict(int)\n",
    "    ans = set()\n",
    "    for n in nums1:\n",
    "        dct[n] += 1\n",
    "\n",
    "    for n in nums2:\n",
    "        if n in dct and dct[n] > 0:\n",
    "            ans.add(n)\n",
    "            dct[n] -= 1\n",
    "    return list(ans)\n",
    "    # return list(set(nums1).intersection(set(nums2)))"
   ],
   "outputs": [],
   "execution_count": 4
  },
  {
   "cell_type": "code",
   "id": "d9cbea4e35da8716",
   "metadata": {
    "ExecuteTime": {
     "end_time": "2025-08-28T20:29:27.002381Z",
     "start_time": "2025-08-28T20:29:26.999438Z"
    }
   },
   "source": [
    "intersect(nums1=[4, 9, 5], nums2=[9, 4, 9, 8, 4])"
   ],
   "outputs": [
    {
     "data": {
      "text/plain": [
       "[9, 4]"
      ]
     },
     "execution_count": 5,
     "metadata": {},
     "output_type": "execute_result"
    }
   ],
   "execution_count": 5
  },
  {
   "cell_type": "code",
   "id": "d79ad0513878d928",
   "metadata": {
    "ExecuteTime": {
     "end_time": "2025-08-28T20:29:27.009157Z",
     "start_time": "2025-08-28T20:29:27.007213Z"
    }
   },
   "source": [
    "def find_content_children(g: list[int], s: list[int]) -> int:\n",
    "    # assume both are sorted\n",
    "    g.sort()\n",
    "    s.sort()\n",
    "\n",
    "    p1, p2 = len(g) - 1, len(s) - 1\n",
    "    ans = 0\n",
    "\n",
    "    while p1 > 0 and p2 > 0:\n",
    "        c = s[p2]\n",
    "        k = g[p1]\n",
    "        if k > c:\n",
    "            p1 -= 1\n",
    "            continue\n",
    "\n",
    "        ans += 1\n",
    "        p1 -= 1\n",
    "        p2 -= 1\n",
    "\n",
    "    return ans"
   ],
   "outputs": [],
   "execution_count": 6
  },
  {
   "cell_type": "code",
   "id": "a47ce0410f52ccd5",
   "metadata": {
    "ExecuteTime": {
     "end_time": "2025-08-28T20:29:27.016152Z",
     "start_time": "2025-08-28T20:29:27.014225Z"
    }
   },
   "source": [
    "find_content_children(g=[1, 2, 3], s=[1, 1])"
   ],
   "outputs": [
    {
     "data": {
      "text/plain": [
       "0"
      ]
     },
     "execution_count": 7,
     "metadata": {},
     "output_type": "execute_result"
    }
   ],
   "execution_count": 7
  },
  {
   "cell_type": "code",
   "id": "4767ac2eab3c132d",
   "metadata": {
    "ExecuteTime": {
     "end_time": "2025-08-28T20:29:27.021711Z",
     "start_time": "2025-08-28T20:29:27.020233Z"
    }
   },
   "source": [
    "# 541\n",
    "\n",
    "\n",
    "def reverse_str(s: str, k: int) -> str:\n",
    "    l = len(s)\n",
    "    lst = list(s)\n",
    "\n",
    "    for i in range(0, l, 2 * k):\n",
    "        lst[i : i + k] = lst[i : i + k][::-1]\n",
    "\n",
    "    return \"\".join(lst)"
   ],
   "outputs": [],
   "execution_count": 8
  },
  {
   "cell_type": "code",
   "id": "ba935448c42d15fb",
   "metadata": {
    "ExecuteTime": {
     "end_time": "2025-08-28T20:29:27.030194Z",
     "start_time": "2025-08-28T20:29:27.028404Z"
    }
   },
   "source": [
    "reverse_str(s=\"abcdefg\", k=8)"
   ],
   "outputs": [
    {
     "data": {
      "text/plain": [
       "'gfedcba'"
      ]
     },
     "execution_count": 9,
     "metadata": {},
     "output_type": "execute_result"
    }
   ],
   "execution_count": 9
  },
  {
   "cell_type": "code",
   "id": "60e4c126d03398ff",
   "metadata": {
    "ExecuteTime": {
     "end_time": "2025-08-28T20:29:27.036831Z",
     "start_time": "2025-08-28T20:29:27.035013Z"
    }
   },
   "source": [
    "# 290\n",
    "\n",
    "\n",
    "def word_pattern(pattern: str, s: str) -> bool:\n",
    "    s1 = s.split()\n",
    "    if len(set(pattern)) != len(set(s1)) or len(pattern) != len(s1):\n",
    "        return False\n",
    "\n",
    "    dct = {}\n",
    "    for i in range(len(s1)):\n",
    "        w1 = pattern[i]\n",
    "        if w1 not in dct:\n",
    "            dct[w1] = s1[i]\n",
    "\n",
    "        if dct[w1] != s1[i]:\n",
    "            return False\n",
    "\n",
    "    return True"
   ],
   "outputs": [],
   "execution_count": 10
  },
  {
   "cell_type": "code",
   "id": "5ec1ab87a1ff95cb",
   "metadata": {
    "ExecuteTime": {
     "end_time": "2025-08-28T20:29:27.043444Z",
     "start_time": "2025-08-28T20:29:27.041362Z"
    }
   },
   "source": [
    "def custom_split(strung: str, sep: str = \" \") -> list[str]:\n",
    "    res = []\n",
    "    current = \"\"\n",
    "\n",
    "    for c in strung:\n",
    "        if c == sep:\n",
    "            if current:\n",
    "                res.append(current)\n",
    "                current = \"\"\n",
    "        else:\n",
    "            current += c\n",
    "    if current:\n",
    "        res.append(current)\n",
    "    return res\n",
    "\n",
    "\n",
    "def word_pattern(pattern: str, s: str) -> bool:\n",
    "    w = s.split()\n",
    "    if len(pattern) != len(w):\n",
    "        return False\n",
    "\n",
    "    char_to_word, word_to_char = {}, {}\n",
    "\n",
    "    for i in range(len(pattern)):\n",
    "        w1 = pattern[i]\n",
    "        w2 = w[i]\n",
    "        if w1 in char_to_word and char_to_word[w1] != w2:\n",
    "            return False\n",
    "        if w2 in word_to_char and word_to_char[w2] != w1:\n",
    "            return False\n",
    "        char_to_word[w1] = w2\n",
    "        word_to_char[w2] = w1\n",
    "\n",
    "    return True"
   ],
   "outputs": [],
   "execution_count": 11
  },
  {
   "cell_type": "code",
   "id": "ad9a7b0246bd676e",
   "metadata": {
    "ExecuteTime": {
     "end_time": "2025-08-28T20:29:27.049505Z",
     "start_time": "2025-08-28T20:29:27.047640Z"
    }
   },
   "source": [
    "word_pattern(\"abba\", \"dog dog dog dog\")"
   ],
   "outputs": [
    {
     "data": {
      "text/plain": [
       "False"
      ]
     },
     "execution_count": 12,
     "metadata": {},
     "output_type": "execute_result"
    }
   ],
   "execution_count": 12
  },
  {
   "cell_type": "code",
   "id": "34db208c83fb1411",
   "metadata": {
    "ExecuteTime": {
     "end_time": "2025-08-28T20:29:27.056321Z",
     "start_time": "2025-08-28T20:29:27.054215Z"
    }
   },
   "source": [
    "# 524 XD!!\n",
    "\n",
    "\n",
    "def find_longest_word(s: str, dictionary: list[str]) -> str:\n",
    "    ans = \"\"\n",
    "\n",
    "    dct = {}\n",
    "    for w in dictionary:\n",
    "        dct[w] = (0, False)\n",
    "\n",
    "    for c in s:\n",
    "        for w in dictionary:\n",
    "            pointer, skip = dct[w]\n",
    "            if not skip and c == w[pointer]:\n",
    "                pointer = pointer + 1\n",
    "                dct[w] = (pointer, dct[w][1])\n",
    "\n",
    "            if not skip and pointer == len(w):\n",
    "                dct[w] = (pointer, True)\n",
    "                if not ans or len(w) > len(ans) or len(ans) == len(w) and w < ans:\n",
    "                    ans = w\n",
    "\n",
    "    return ans if ans else \"\""
   ],
   "outputs": [],
   "execution_count": 13
  },
  {
   "cell_type": "code",
   "id": "4202418b2c79d77b",
   "metadata": {
    "ExecuteTime": {
     "end_time": "2025-08-28T20:29:27.062487Z",
     "start_time": "2025-08-28T20:29:27.060689Z"
    }
   },
   "source": [
    "def find_longest_word(s: str, dictionary: list[str]) -> str:\n",
    "    def is_subsequence(w):\n",
    "        it = iter(s)\n",
    "        return all(c in it for c in w)\n",
    "\n",
    "    dictionary.sort(key=lambda x: (-len(x), x))\n",
    "\n",
    "    for word in dictionary:\n",
    "        if is_subsequence(word):\n",
    "            return word\n",
    "\n",
    "    return \"\""
   ],
   "outputs": [],
   "execution_count": 14
  },
  {
   "cell_type": "code",
   "id": "60f0c658bb98aaef",
   "metadata": {
    "ExecuteTime": {
     "end_time": "2025-08-28T20:29:27.067955Z",
     "start_time": "2025-08-28T20:29:27.066072Z"
    }
   },
   "source": [
    "find_longest_word(\"abpcplea\", [\"ale\", \"apple\", \"monkey\", \"plea\"])"
   ],
   "outputs": [
    {
     "data": {
      "text/plain": [
       "'apple'"
      ]
     },
     "execution_count": 15,
     "metadata": {},
     "output_type": "execute_result"
    }
   ],
   "execution_count": 15
  },
  {
   "cell_type": "code",
   "id": "79143c9949ea5d60",
   "metadata": {
    "ExecuteTime": {
     "end_time": "2025-08-28T20:29:27.075315Z",
     "start_time": "2025-08-28T20:29:27.072894Z"
    }
   },
   "source": [
    "# 80\n",
    "# at most twice same elements in the list\n",
    "\n",
    "def remove_duplicates(nums: list[int]) -> int:\n",
    "    l = len(nums)\n",
    "    if l <= 1:\n",
    "        return l\n",
    "\n",
    "    i, j = 1, 1\n",
    "\n",
    "    while i < l:\n",
    "        if nums[i] != nums[j - 1]:\n",
    "            nums[j] = nums[i]\n",
    "            j += 1\n",
    "        i += 1\n",
    "    return j\n",
    "\n",
    "\n",
    "def remove_duplicates_at_most_2(nums: list[int]) -> int:\n",
    "    l = len(nums)\n",
    "    if l <= 2:\n",
    "        return l\n",
    "\n",
    "    i, j = 2, 2\n",
    "\n",
    "    while i < l:\n",
    "        if nums[i] != nums[j - 2]:\n",
    "            nums[j] = nums[i]\n",
    "            j += 1\n",
    "        i += 1\n",
    "\n",
    "    return i"
   ],
   "outputs": [],
   "execution_count": 16
  },
  {
   "cell_type": "code",
   "id": "19db5afde2eab8c0",
   "metadata": {
    "ExecuteTime": {
     "end_time": "2025-08-28T20:29:27.081881Z",
     "start_time": "2025-08-28T20:29:27.079859Z"
    }
   },
   "source": [
    "remove_duplicates([0, 0, 1, 1, 1, 1, 2, 3, 3])"
   ],
   "outputs": [
    {
     "data": {
      "text/plain": [
       "4"
      ]
     },
     "execution_count": 17,
     "metadata": {},
     "output_type": "execute_result"
    }
   ],
   "execution_count": 17
  },
  {
   "cell_type": "code",
   "id": "3e59ac260f2d7bdc",
   "metadata": {
    "ExecuteTime": {
     "end_time": "2025-08-28T20:29:27.097568Z",
     "start_time": "2025-08-28T20:29:27.095658Z"
    }
   },
   "source": [
    "def merge_sorted_arrays(n1: list[int], n2: list[int]) -> list[int]:\n",
    "    p1, p2 = 0, 0\n",
    "    res = []\n",
    "\n",
    "    while p1 < len(n1) and p2 < len(n2):\n",
    "        if n1[p1] <= n2[p2]:\n",
    "            res.append(n1[p1])\n",
    "            p1 += 1\n",
    "        else:\n",
    "            res.append(n2[p2])\n",
    "            p2 += 1\n",
    "\n",
    "    while p1 < len(n1):\n",
    "        res.append(n1[p1])\n",
    "        p1 += 1\n",
    "\n",
    "    while p2 < len(n2):\n",
    "        res.append(n2[p2])\n",
    "        p2 += 1\n",
    "\n",
    "    return res"
   ],
   "outputs": [],
   "execution_count": 18
  },
  {
   "cell_type": "code",
   "id": "4f10959689eba619",
   "metadata": {
    "ExecuteTime": {
     "end_time": "2025-08-28T20:29:27.140708Z",
     "start_time": "2025-08-28T20:29:27.138360Z"
    }
   },
   "source": [
    "merge_sorted_arrays([1, 4, 54, 345], [1, 3, 7])"
   ],
   "outputs": [
    {
     "data": {
      "text/plain": [
       "[1, 1, 3, 4, 7, 54, 345]"
      ]
     },
     "execution_count": 19,
     "metadata": {},
     "output_type": "execute_result"
    }
   ],
   "execution_count": 19
  },
  {
   "cell_type": "code",
   "id": "79069815f926041b",
   "metadata": {
    "ExecuteTime": {
     "end_time": "2025-08-28T20:29:27.147355Z",
     "start_time": "2025-08-28T20:29:27.145689Z"
    }
   },
   "source": [
    "# 27\n",
    "\n",
    "\n",
    "def remove_element(nums: list[int], val: int) -> int:\n",
    "    if not nums:\n",
    "        return 0\n",
    "\n",
    "    i, j = 0, 0\n",
    "\n",
    "    while i < len(nums):\n",
    "        if nums[i] != val:\n",
    "            nums[j] = nums[i]\n",
    "            j += 1\n",
    "        i += 1\n",
    "\n",
    "    # j = 0\n",
    "    # for i in range(len(nums)):\n",
    "    #     if nums[i] != val:\n",
    "    #         nums[j] = nums[i]\n",
    "    #         j += 1\n",
    "\n",
    "    return j"
   ],
   "outputs": [],
   "execution_count": 20
  },
  {
   "cell_type": "code",
   "id": "d1350faf819b576e",
   "metadata": {
    "ExecuteTime": {
     "end_time": "2025-08-28T20:29:27.155897Z",
     "start_time": "2025-08-28T20:29:27.154151Z"
    }
   },
   "source": [
    "remove_element([0, 1, 2, 2, 3, 0, 4, 2], 2)"
   ],
   "outputs": [
    {
     "data": {
      "text/plain": [
       "5"
      ]
     },
     "execution_count": 21,
     "metadata": {},
     "output_type": "execute_result"
    }
   ],
   "execution_count": 21
  },
  {
   "cell_type": "code",
   "id": "286ed5398db05a3d",
   "metadata": {
    "ExecuteTime": {
     "end_time": "2025-08-28T20:29:27.161949Z",
     "start_time": "2025-08-28T20:29:27.160369Z"
    }
   },
   "source": [
    "def remove_nth_from_end(head: ListNode | None, n: int) -> ListNode | None:\n",
    "    if not head:\n",
    "        return None\n",
    "    slow, fast = head, head\n",
    "\n",
    "    for _ in range(n):\n",
    "        fast = fast.next\n",
    "\n",
    "    while fast:\n",
    "        slow = slow.next\n",
    "        fast = fast.next\n",
    "\n",
    "    slow.next = slow.next.next\n",
    "    return head"
   ],
   "outputs": [],
   "execution_count": 22
  },
  {
   "cell_type": "code",
   "id": "3dbaa9035bf03e78",
   "metadata": {
    "ExecuteTime": {
     "end_time": "2025-08-28T20:29:27.168932Z",
     "start_time": "2025-08-28T20:29:27.166740Z"
    }
   },
   "source": [
    "class ListNode:\n",
    "    def __init__(self, val=0, next=None):\n",
    "        self.val = val\n",
    "        self.next = next\n",
    "\n",
    "    def __repr__(self):\n",
    "        return f\"ListNode({self.val=})\"\n",
    "\n",
    "\n",
    "n1 = ListNode(1)\n",
    "n2 = ListNode(2)\n",
    "n3 = ListNode(3)\n",
    "n4 = ListNode(4)\n",
    "\n",
    "n1.next = n2\n",
    "n2.next = n3\n",
    "n3.next = n4\n",
    "n4.next = None\n",
    "\n",
    "head = n1\n",
    "\n",
    "remove_nth_from_end(head, 3)"
   ],
   "outputs": [
    {
     "data": {
      "text/plain": [
       "ListNode(self.val=1)"
      ]
     },
     "execution_count": 23,
     "metadata": {},
     "output_type": "execute_result"
    }
   ],
   "execution_count": 23
  },
  {
   "cell_type": "code",
   "id": "6da1809741879341",
   "metadata": {
    "ExecuteTime": {
     "end_time": "2025-08-28T20:29:27.178001Z",
     "start_time": "2025-08-28T20:29:27.175859Z"
    }
   },
   "source": [
    "# 3446\n",
    "\n",
    "def sort_matrix(grid: list[list[int]]) -> list[list[int]]:\n",
    "    n = len(grid)\n",
    "    up_diags, down_diags = [], []\n",
    "\n",
    "    for i in range(n):\n",
    "        diag = []\n",
    "        for j in range(n - i):\n",
    "            diag.append(grid[i + j][j])\n",
    "        diag.sort(reverse=True)\n",
    "        down_diags.append(diag)\n",
    "\n",
    "    for j in range(1, n):\n",
    "        diag = []\n",
    "        for i in range(n - j):\n",
    "            diag.append(grid[i][j + i])\n",
    "        diag.sort()\n",
    "        up_diags.append(diag)\n",
    "\n",
    "\n",
    "    for i in range(n):\n",
    "        for j in range(n - i):\n",
    "            grid[i + j][j] = down_diags[i][j]\n",
    "\n",
    "    for j in range(1, n):\n",
    "        for i in range(n - j):\n",
    "            grid[i][j + i] = up_diags[j - 1][i]\n",
    "    return grid\n"
   ],
   "outputs": [],
   "execution_count": 24
  }
 ],
 "metadata": {
  "kernelspec": {
   "display_name": "Python 3",
   "language": "python",
   "name": "python3"
  },
  "language_info": {
   "codemirror_mode": {
    "name": "ipython",
    "version": 2
   },
   "file_extension": ".py",
   "mimetype": "text/x-python",
   "name": "python",
   "nbconvert_exporter": "python",
   "pygments_lexer": "ipython2",
   "version": "2.7.6"
  }
 },
 "nbformat": 4,
 "nbformat_minor": 5
}
