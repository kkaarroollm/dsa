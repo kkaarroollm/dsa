{
 "cells": [
  {
   "cell_type": "code",
   "id": "98eeba615ecc02c4",
   "metadata": {
    "ExecuteTime": {
     "end_time": "2025-08-28T20:25:16.617819Z",
     "start_time": "2025-08-28T20:25:16.614707Z"
    }
   },
   "source": [
    "import os\n",
    "import sys\n",
    "\n",
    "module_path = os.path.abspath(os.path.join(\"..\"))\n",
    "if module_path not in sys.path:\n",
    "    sys.path.append(module_path)"
   ],
   "outputs": [],
   "execution_count": 1
  },
  {
   "cell_type": "code",
   "id": "initial_id",
   "metadata": {
    "collapsed": true,
    "ExecuteTime": {
     "end_time": "2025-08-28T20:25:16.684464Z",
     "start_time": "2025-08-28T20:25:16.681965Z"
    }
   },
   "source": [
    "from structures.tree import tree_root"
   ],
   "outputs": [],
   "execution_count": 2
  },
  {
   "cell_type": "code",
   "id": "392a88c868f655e",
   "metadata": {
    "ExecuteTime": {
     "end_time": "2025-08-28T20:25:16.690351Z",
     "start_time": "2025-08-28T20:25:16.688899Z"
    }
   },
   "source": [
    "class TreeNode:\n",
    "    def __init__(self, val=0, left=None, right=None):\n",
    "        self.val = val\n",
    "        self.left = left\n",
    "        self.right = right"
   ],
   "outputs": [],
   "execution_count": 3
  },
  {
   "cell_type": "code",
   "id": "1c6d5be1cacbbad4",
   "metadata": {
    "ExecuteTime": {
     "end_time": "2025-08-28T20:25:16.697030Z",
     "start_time": "2025-08-28T20:25:16.695099Z"
    }
   },
   "source": [
    "# 110\n",
    "\n",
    "\n",
    "def is_balanced(root: TreeNode | None) -> bool:\n",
    "    def height(node: TreeNode) -> int:\n",
    "        if not node:\n",
    "            return 0\n",
    "\n",
    "        left_h = height(node.left)\n",
    "        if left_h == -1:\n",
    "            return -1\n",
    "\n",
    "        right_h = height(node.right)\n",
    "        if right_h == -1:\n",
    "            return -1\n",
    "\n",
    "        if abs(left_h - right_h) > 1:\n",
    "            return -1\n",
    "\n",
    "        return 1 + max(left_h, right_h)\n",
    "\n",
    "    return height(root) != -1"
   ],
   "outputs": [],
   "execution_count": 4
  },
  {
   "cell_type": "code",
   "id": "ffb32a85be3b3f38",
   "metadata": {
    "ExecuteTime": {
     "end_time": "2025-08-28T20:25:16.702456Z",
     "start_time": "2025-08-28T20:25:16.700790Z"
    }
   },
   "source": [
    "# 111\n",
    "\n",
    "\n",
    "def min_depth(root: TreeNode | None) -> int:\n",
    "    def dfs(node: TreeNode):\n",
    "        if not node:\n",
    "            return 0\n",
    "\n",
    "        left = dfs(node.left)\n",
    "        right = dfs(node.right)\n",
    "        if not node.left:\n",
    "            return 1 + right\n",
    "        if not node.right:\n",
    "            return 1 + left\n",
    "\n",
    "        return 1 + min(left, right)\n",
    "\n",
    "    return dfs(root)"
   ],
   "outputs": [],
   "execution_count": 5
  },
  {
   "cell_type": "code",
   "id": "fef4b527a7fbd0b",
   "metadata": {
    "ExecuteTime": {
     "end_time": "2025-08-28T20:25:16.708362Z",
     "start_time": "2025-08-28T20:25:16.706628Z"
    }
   },
   "source": [
    "# 113\n",
    "\n",
    "\n",
    "def path_sum(root: TreeNode | None, target_sum: int) -> list[list[int]]:\n",
    "    paths = []\n",
    "\n",
    "    def dfs(node: TreeNode, path=[]):\n",
    "        if not node:\n",
    "            return\n",
    "\n",
    "        path.append(node.val)\n",
    "\n",
    "        dfs(node.left, path)\n",
    "        dfs(node.right, path)\n",
    "\n",
    "        if not (node.left or node.right) and sum(path) == target_sum:\n",
    "            paths.append(path.copy())\n",
    "        path.pop()\n",
    "\n",
    "    dfs(root)\n",
    "    return paths"
   ],
   "outputs": [],
   "execution_count": 6
  },
  {
   "cell_type": "code",
   "id": "5f7addb2803ce1e8",
   "metadata": {
    "ExecuteTime": {
     "end_time": "2025-08-28T20:25:16.714595Z",
     "start_time": "2025-08-28T20:25:16.712129Z"
    }
   },
   "source": [
    "path_sum(tree_root, 18)"
   ],
   "outputs": [
    {
     "data": {
      "text/plain": [
       "[[1, 2, 5, 10]]"
      ]
     },
     "execution_count": 7,
     "metadata": {},
     "output_type": "execute_result"
    }
   ],
   "execution_count": 7
  },
  {
   "cell_type": "code",
   "id": "ac1c0eb8fad8b5f",
   "metadata": {
    "ExecuteTime": {
     "end_time": "2025-08-28T20:25:16.718354Z",
     "start_time": "2025-08-28T20:25:16.716750Z"
    }
   },
   "source": [
    "# 114\n",
    "\n",
    "\n",
    "def flatten(root: TreeNode | None) -> None:\n",
    "    \"\"\"\n",
    "    Do not return anything, modify root in-place instead.\n",
    "    \"\"\"\n",
    "\n",
    "    prev = TreeNode(0)\n",
    "\n",
    "    def dfs(node: TreeNode):\n",
    "        nonlocal prev\n",
    "        if not node:\n",
    "            return\n",
    "        left, right = node.left, node.right\n",
    "\n",
    "        prev.right = node\n",
    "        node.left = None\n",
    "        prev = node\n",
    "\n",
    "        dfs(left)\n",
    "        dfs(right)\n",
    "\n",
    "    dfs(root)"
   ],
   "outputs": [],
   "execution_count": 8
  },
  {
   "metadata": {
    "ExecuteTime": {
     "end_time": "2025-08-28T20:25:16.736115Z",
     "start_time": "2025-08-28T20:25:16.734113Z"
    }
   },
   "cell_type": "code",
   "source": [
    "# 129\n",
    "\n",
    "\n",
    "def sum_numbers(root: TreeNode | None) -> int:\n",
    "    ans = 0\n",
    "\n",
    "    def dfs(node: TreeNode, path=[]):\n",
    "        nonlocal ans\n",
    "        if not node:\n",
    "            return\n",
    "\n",
    "        path.append(node.val)\n",
    "        dfs(node.left)\n",
    "        dfs(node.right)\n",
    "\n",
    "        if not (node.left or node.right):\n",
    "            power = len(path) - 1\n",
    "            sum_ = 0\n",
    "            for x in path:\n",
    "                sum_ += x * 10**power\n",
    "                power -= 1\n",
    "            ans += sum_\n",
    "\n",
    "        path.pop()\n",
    "\n",
    "    dfs(root)\n",
    "    return ans"
   ],
   "id": "7afe8565306861a1",
   "outputs": [],
   "execution_count": 9
  }
 ],
 "metadata": {
  "kernelspec": {
   "display_name": "Python 3",
   "language": "python",
   "name": "python3"
  },
  "language_info": {
   "codemirror_mode": {
    "name": "ipython",
    "version": 2
   },
   "file_extension": ".py",
   "mimetype": "text/x-python",
   "name": "python",
   "nbconvert_exporter": "python",
   "pygments_lexer": "ipython2",
   "version": "2.7.6"
  }
 },
 "nbformat": 4,
 "nbformat_minor": 5
}
