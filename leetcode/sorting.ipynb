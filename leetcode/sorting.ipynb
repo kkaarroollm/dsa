{
 "cells": [
  {
   "cell_type": "code",
   "execution_count": 229,
   "id": "3ac7fb8f694cad11",
   "metadata": {
    "ExecuteTime": {
     "end_time": "2025-08-30T20:44:39.264857Z",
     "start_time": "2025-08-30T20:44:39.258999Z"
    }
   },
   "outputs": [],
   "source": [
    "import random\n",
    "from dataclasses import dataclass"
   ]
  },
  {
   "cell_type": "code",
   "execution_count": 230,
   "id": "1162b30b817a82b1",
   "metadata": {
    "ExecuteTime": {
     "end_time": "2025-08-30T20:44:39.282301Z",
     "start_time": "2025-08-30T20:44:39.279454Z"
    }
   },
   "outputs": [],
   "source": [
    "@dataclass\n",
    "class ListNode:\n",
    "    val: int = 0\n",
    "    next: \"ListNode | None\" = None"
   ]
  },
  {
   "cell_type": "code",
   "execution_count": 231,
   "id": "initial_id",
   "metadata": {
    "ExecuteTime": {
     "end_time": "2025-08-30T20:44:39.295587Z",
     "start_time": "2025-08-30T20:44:39.292480Z"
    },
    "collapsed": true
   },
   "outputs": [],
   "source": [
    "# 75 with merge sort: space: O(n), time: O (n log n)\n",
    "\n",
    "\n",
    "def merge(left, right) -> list[int]:\n",
    "    result = []\n",
    "    i = j = 0\n",
    "\n",
    "    while i < len(left) and j < len(right):\n",
    "        if left[i] < right[i]:\n",
    "            result.append(left[i])\n",
    "            i += 1\n",
    "        else:\n",
    "            result.append(right[j])\n",
    "            j += 1\n",
    "\n",
    "    while i < len(left):\n",
    "        result.append(left[i])\n",
    "        i += 1\n",
    "\n",
    "    while j < len(right):\n",
    "        result.append(right[j])\n",
    "        j += 1\n",
    "    return result\n",
    "\n",
    "\n",
    "def sort_colors(nums: list[int]) -> list[int]:\n",
    "    if len(nums) <= 1:\n",
    "        return []\n",
    "\n",
    "    mid = len(nums) // 2\n",
    "    left = sort_colors(nums[:mid])\n",
    "    right = sort_colors(nums[mid:])\n",
    "    return merge(left, right)"
   ]
  },
  {
   "cell_type": "code",
   "execution_count": 232,
   "id": "886374a2beb8f416",
   "metadata": {
    "ExecuteTime": {
     "end_time": "2025-08-30T20:44:39.303664Z",
     "start_time": "2025-08-30T20:44:39.301328Z"
    }
   },
   "outputs": [],
   "source": [
    "# 75 quick sort\n",
    "\n",
    "\n",
    "def partition(arr: list[int], low: int, high: int):\n",
    "    p = random.randint(low, high)\n",
    "    arr[p], arr[high] = arr[high], arr[p]\n",
    "    pivot, i = arr[high], p\n",
    "\n",
    "    for j in range(low, high):\n",
    "        if arr[j] <= pivot:\n",
    "            arr[i], arr[j] = arr[j], arr[i]\n",
    "            i += 1\n",
    "    arr[i], arr[high] = arr[high], arr[i]\n",
    "    return i\n",
    "\n",
    "\n",
    "def sort_colors(nums: list[int], low: int = 0, high: int | None = None):\n",
    "    if not high:\n",
    "        high = len(nums) - 1\n",
    "\n",
    "    while low <= high:\n",
    "        pivot_idx = partition(nums, low, high)\n",
    "        sort_colors(nums, low, pivot_idx - 1)\n",
    "        sort_colors(nums, pivot_idx + 1, high)"
   ]
  },
  {
   "cell_type": "code",
   "execution_count": 233,
   "id": "f6544f89ac4bc507",
   "metadata": {
    "ExecuteTime": {
     "end_time": "2025-08-30T20:44:39.311831Z",
     "start_time": "2025-08-30T20:44:39.309672Z"
    }
   },
   "outputs": [],
   "source": [
    "# 75 one pass - dutch approach\n",
    "# Time: O(n), Space: O(1)\n",
    "\n",
    "\n",
    "def sort_colors(nums: list[int]) -> None:\n",
    "    low, high, mid = 0, len(nums) - 1, 0  # 0, 3, 0\n",
    "\n",
    "    while mid <= high:\n",
    "        if nums[mid] == 0:\n",
    "            nums[low], nums[mid] = nums[mid], nums[low]\n",
    "            mid += 1\n",
    "            low += 1\n",
    "        elif nums[mid] == 1:\n",
    "            mid += 1\n",
    "        else:\n",
    "            nums[mid], nums[high] = nums[high], nums[mid]\n",
    "            high -= 1"
   ]
  },
  {
   "cell_type": "code",
   "execution_count": 234,
   "id": "b87c8221d08aec07",
   "metadata": {
    "ExecuteTime": {
     "end_time": "2025-08-30T20:44:39.318889Z",
     "start_time": "2025-08-30T20:44:39.317125Z"
    }
   },
   "outputs": [],
   "source": [
    "sort_colors([2, 0, 2, 1, 1, 0])"
   ]
  },
  {
   "cell_type": "code",
   "execution_count": 235,
   "id": "f3544f6d6db9e95b",
   "metadata": {
    "ExecuteTime": {
     "end_time": "2025-08-30T20:44:39.327216Z",
     "start_time": "2025-08-30T20:44:39.324047Z"
    }
   },
   "outputs": [],
   "source": [
    "# 148\n",
    "# Expected time: O(n log n), space: O(1)\n",
    "\n",
    "\n",
    "def merge(left: ListNode, right: ListNode):\n",
    "    dummy = head = ListNode()\n",
    "\n",
    "    while left and right:\n",
    "        if left.val > right.val:\n",
    "            head.next = right\n",
    "            right = right.next\n",
    "        else:\n",
    "            head.next = left\n",
    "            left = left.next\n",
    "        head = head.next\n",
    "\n",
    "    head.next = left if left else right\n",
    "\n",
    "    return dummy.next\n",
    "\n",
    "\n",
    "def sort_list(head: ListNode | None) -> ListNode | None:\n",
    "    if not head or not head.next:\n",
    "        return head\n",
    "    slow, fast = head, head\n",
    "\n",
    "    while fast and fast.next:\n",
    "        slow = slow.next\n",
    "        fast = fast.next.next\n",
    "\n",
    "    mid = slow.next\n",
    "    mid.next = None\n",
    "\n",
    "    left = sort_list(head)\n",
    "    right = sort_list(mid)\n",
    "    return merge(left, right)"
   ]
  },
  {
   "cell_type": "code",
   "execution_count": 236,
   "id": "f956569b8123437e",
   "metadata": {
    "ExecuteTime": {
     "end_time": "2025-08-30T20:44:39.336287Z",
     "start_time": "2025-08-30T20:44:39.333649Z"
    }
   },
   "outputs": [],
   "source": [
    "# also can be done with sort() method built in. But i guess it's not the point\n",
    "\n",
    "\n",
    "def sort_list(head: ListNode | None) -> ListNode | None:\n",
    "    arr = []\n",
    "    node = head\n",
    "\n",
    "    while node:\n",
    "        arr.append(node.val)\n",
    "        node = node.next\n",
    "\n",
    "    arr.sort()\n",
    "    node = head\n",
    "\n",
    "    for i in range(len(arr)):\n",
    "        node.val = arr[i]\n",
    "        node = node.next\n",
    "\n",
    "    return head"
   ]
  },
  {
   "cell_type": "code",
   "execution_count": 237,
   "id": "1937db56ca77108a",
   "metadata": {
    "ExecuteTime": {
     "end_time": "2025-08-30T20:44:39.351350Z",
     "start_time": "2025-08-30T20:44:39.349670Z"
    }
   },
   "outputs": [],
   "source": [
    "# 387\n",
    "def first_uniq_char(s: str) -> int:\n",
    "    d = {}\n",
    "    for i in s:\n",
    "        d[i] = d.get(i, 0) + 1\n",
    "    return next((i for i, ch in enumerate(s) if d[ch] == 1), -1)"
   ]
  },
  {
   "cell_type": "code",
   "execution_count": 238,
   "id": "49fff025e83dd8e4",
   "metadata": {
    "ExecuteTime": {
     "end_time": "2025-08-30T20:44:39.397876Z",
     "start_time": "2025-08-30T20:44:39.395758Z"
    }
   },
   "outputs": [
    {
     "data": {
      "text/plain": [
       "0"
      ]
     },
     "execution_count": 238,
     "metadata": {},
     "output_type": "execute_result"
    }
   ],
   "source": [
    "first_uniq_char(\"leetcode\")"
   ]
  }
 ],
 "metadata": {
  "kernelspec": {
   "display_name": "Python 3",
   "language": "python",
   "name": "python3"
  },
  "language_info": {
   "codemirror_mode": {
    "name": "ipython",
    "version": 2
   },
   "file_extension": ".py",
   "mimetype": "text/x-python",
   "name": "python",
   "nbconvert_exporter": "python",
   "pygments_lexer": "ipython2",
   "version": "2.7.6"
  }
 },
 "nbformat": 4,
 "nbformat_minor": 5
}
