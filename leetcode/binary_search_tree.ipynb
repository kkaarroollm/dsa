{
 "cells": [
  {
   "cell_type": "code",
   "id": "8219bafa06f8bc9d",
   "metadata": {
    "ExecuteTime": {
     "end_time": "2025-08-28T20:24:33.211290Z",
     "start_time": "2025-08-28T20:24:33.207794Z"
    }
   },
   "source": [
    "import os\n",
    "import sys\n",
    "\n",
    "module_path = os.path.abspath(os.path.join(\"../..\"))\n",
    "if module_path not in sys.path:\n",
    "    sys.path.append(module_path)"
   ],
   "outputs": [],
   "execution_count": 1
  },
  {
   "cell_type": "code",
   "id": "4caa4a0b61df4994",
   "metadata": {
    "ExecuteTime": {
     "end_time": "2025-08-28T20:24:33.313761Z",
     "start_time": "2025-08-28T20:24:33.312234Z"
    }
   },
   "source": [
    "class TreeNode:\n",
    "    def __init__(self, val=0, left=None, right=None):\n",
    "        self.val = val\n",
    "        self.left = left\n",
    "        self.right = right"
   ],
   "outputs": [],
   "execution_count": 2
  },
  {
   "cell_type": "code",
   "id": "initial_id",
   "metadata": {
    "collapsed": true,
    "ExecuteTime": {
     "end_time": "2025-08-28T20:24:33.323265Z",
     "start_time": "2025-08-28T20:24:33.321267Z"
    }
   },
   "source": [
    "# 108\n",
    "# nums = [-10,-3,0,5,9]\n",
    "def sorted_array_to_bst(nums: list[int]) -> TreeNode | None:\n",
    "    def inner(left_ptr: int, right_ptr: int):\n",
    "        if left_ptr > right_ptr:\n",
    "            return None\n",
    "        mid_ptr = (left_ptr + right_ptr) // 2\n",
    "        root = TreeNode(\n",
    "            val=nums[mid_ptr],\n",
    "            left=inner(left_ptr, mid_ptr - 1),\n",
    "            right=inner(mid_ptr + 1, right_ptr),\n",
    "        )\n",
    "        return root\n",
    "\n",
    "    return inner(0, len(nums) - 1)"
   ],
   "outputs": [],
   "execution_count": 3
  },
  {
   "cell_type": "code",
   "id": "6bd963350cd0efac",
   "metadata": {
    "ExecuteTime": {
     "end_time": "2025-08-28T20:24:33.331494Z",
     "start_time": "2025-08-28T20:24:33.328275Z"
    }
   },
   "source": [
    "sorted_array_to_bst(nums=[-10, -3, 0, 5, 9])"
   ],
   "outputs": [
    {
     "data": {
      "text/plain": [
       "<__main__.TreeNode at 0x1068a69e0>"
      ]
     },
     "execution_count": 4,
     "metadata": {},
     "output_type": "execute_result"
    }
   ],
   "execution_count": 4
  },
  {
   "cell_type": "code",
   "id": "4054b6964bd2a7d8",
   "metadata": {
    "ExecuteTime": {
     "end_time": "2025-08-28T20:24:33.345979Z",
     "start_time": "2025-08-28T20:24:33.344113Z"
    }
   },
   "source": [
    "# 783\n",
    "\n",
    "# 1 case all left\n",
    "#\n",
    "\n",
    "def min_diff_in_bst(root: TreeNode | None) -> int | None:\n",
    "    prev, ans = None, float(\"inf\")\n",
    "\n",
    "    def dfs(node: TreeNode):\n",
    "        if not node:\n",
    "            return\n",
    "        nonlocal prev, ans\n",
    "        dfs(node.left)\n",
    "        if prev:\n",
    "            ans = min(ans, prev.val - node.val)\n",
    "        prev = node\n",
    "        dfs(node.right)\n",
    "\n",
    "    dfs(root)\n",
    "    return ans"
   ],
   "outputs": [],
   "execution_count": 5
  }
 ],
 "metadata": {
  "kernelspec": {
   "display_name": "Python 3",
   "language": "python",
   "name": "python3"
  },
  "language_info": {
   "codemirror_mode": {
    "name": "ipython",
    "version": 2
   },
   "file_extension": ".py",
   "mimetype": "text/x-python",
   "name": "python",
   "nbconvert_exporter": "python",
   "pygments_lexer": "ipython2",
   "version": "2.7.6"
  }
 },
 "nbformat": 4,
 "nbformat_minor": 5
}
