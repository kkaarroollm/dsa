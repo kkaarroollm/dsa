{
 "cells": [
  {
   "cell_type": "code",
   "execution_count": 1,
   "id": "initial_id",
   "metadata": {
    "ExecuteTime": {
     "end_time": "2025-07-30T11:03:54.986858Z",
     "start_time": "2025-07-30T11:03:54.984412Z"
    },
    "collapsed": true
   },
   "outputs": [],
   "source": [
    "def convert(s: str, num_rows: int) -> str:\n",
    "    if num_rows == 1 or num_rows >= len(s):\n",
    "        return s\n",
    "\n",
    "    rows = [\"\"] * num_rows\n",
    "    current_row = 0\n",
    "\n",
    "    going_down = False\n",
    "\n",
    "    for char in s:\n",
    "        rows[current_row] += char\n",
    "        if current_row == 0 or current_row == num_rows - 1:\n",
    "            going_down = not going_down\n",
    "        current_row += 1 if going_down else -1\n",
    "\n",
    "    return \"\".join(rows)"
   ]
  },
  {
   "cell_type": "code",
   "execution_count": 2,
   "id": "aa6507659da4aafa",
   "metadata": {
    "ExecuteTime": {
     "end_time": "2025-07-30T11:04:03.319265Z",
     "start_time": "2025-07-30T11:04:03.316419Z"
    }
   },
   "outputs": [
    {
     "name": "stdout",
     "output_type": "stream",
     "text": [
      "False\n"
     ]
    }
   ],
   "source": [
    "def searchMatrix(matrix: list[list[int]], target: int) -> bool:\n",
    "    if not matrix:\n",
    "        return False\n",
    "    target_matrix = None\n",
    "    i = 0\n",
    "\n",
    "    while i <= len(matrix) - 1:\n",
    "        if matrix[i][-1] >= target:\n",
    "            target_matrix = matrix[i]\n",
    "            break\n",
    "        i += 1\n",
    "\n",
    "    if not target_matrix:\n",
    "        return False\n",
    "\n",
    "    high = len(target_matrix)\n",
    "    low = 0\n",
    "\n",
    "    while low <= high:\n",
    "        mid = (low + high) // 2\n",
    "        if target == target_matrix[mid]:\n",
    "            return True\n",
    "        elif target > target_matrix[mid]:\n",
    "            low = low + 1\n",
    "        else:\n",
    "            high = mid - 1\n",
    "\n",
    "    return False\n",
    "\n",
    "\n",
    "matrix = [[1]]\n",
    "# matrix = [[1,3,5,7],[10,11,16,20],[23,30,34,60]]\n",
    "\n",
    "\n",
    "print(searchMatrix(matrix, 2))"
   ]
  },
  {
   "cell_type": "code",
   "execution_count": 3,
   "id": "243211722b2f8d43",
   "metadata": {
    "ExecuteTime": {
     "end_time": "2025-07-30T11:04:19.316306Z",
     "start_time": "2025-07-30T11:04:19.314281Z"
    }
   },
   "outputs": [],
   "source": [
    "# 257\n",
    "\n",
    "from typing import Optional\n",
    "\n",
    "\n",
    "class TreeNode:\n",
    "    def __init__(self, val=0, left=None, right=None):\n",
    "        self.val = val\n",
    "        self.left = left\n",
    "        self.right = right\n",
    "\n",
    "\n",
    "# def binaryTreePaths(root: Optional[TreeNode]):\n",
    "#\n",
    "#\n",
    "#     res = []\n",
    "#     dfs(root, [], res)\n",
    "#     return res\n",
    "\n",
    "\n",
    "def dfs(node, path, res):\n",
    "    if not node:\n",
    "        return\n",
    "\n",
    "    path.append(str(node.val))\n",
    "\n",
    "    if not node.left and not node.right:\n",
    "        res.append(\"->\".join(path))\n",
    "    else:\n",
    "        dfs(node.left, path, res)\n",
    "        dfs(node.right, path, res)\n",
    "\n",
    "    path.pop()"
   ]
  },
  {
   "cell_type": "code",
   "execution_count": null,
   "id": "87acb54883186f48",
   "metadata": {},
   "outputs": [],
   "source": []
  }
 ],
 "metadata": {
  "kernelspec": {
   "display_name": "Python 3",
   "language": "python",
   "name": "python3"
  },
  "language_info": {
   "codemirror_mode": {
    "name": "ipython",
    "version": 2
   },
   "file_extension": ".py",
   "mimetype": "text/x-python",
   "name": "python",
   "nbconvert_exporter": "python",
   "pygments_lexer": "ipython2",
   "version": "2.7.6"
  }
 },
 "nbformat": 4,
 "nbformat_minor": 5
}
