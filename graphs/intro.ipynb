{
 "cells": [
  {
   "cell_type": "code",
   "execution_count": 1,
   "id": "685aebaac6604b7b",
   "metadata": {
    "ExecuteTime": {
     "end_time": "2025-08-21T15:55:42.076895Z",
     "start_time": "2025-08-21T15:55:42.073153Z"
    }
   },
   "outputs": [],
   "source": [
    "import collections\n",
    "from dataclasses import dataclass, field"
   ]
  },
  {
   "cell_type": "code",
   "execution_count": 2,
   "id": "initial_id",
   "metadata": {
    "ExecuteTime": {
     "end_time": "2025-08-21T15:55:42.167869Z",
     "start_time": "2025-08-21T15:55:42.165268Z"
    },
    "collapsed": true
   },
   "outputs": [
    {
     "data": {
      "text/plain": [
       "[[0, 1], [1, 2], [0, 3], [3, 4], [3, 6], [3, 7], [4, 2], [4, 5], [5, 2]]"
      ]
     },
     "execution_count": 2,
     "metadata": {},
     "output_type": "execute_result"
    }
   ],
   "source": [
    "# directed\n",
    "n = 8\n",
    "arr = [[0, 1], [1, 2], [0, 3], [3, 4], [3, 6], [3, 7], [4, 2], [4, 5], [5, 2]]\n",
    "arr"
   ]
  },
  {
   "cell_type": "code",
   "execution_count": 3,
   "id": "ccb310488b627379",
   "metadata": {
    "ExecuteTime": {
     "end_time": "2025-08-21T15:55:42.230120Z",
     "start_time": "2025-08-21T15:55:42.227903Z"
    }
   },
   "outputs": [
    {
     "data": {
      "text/plain": [
       "[[0, 1, 0, 1, 0, 0, 0, 0],\n",
       " [0, 0, 1, 0, 0, 0, 0, 0],\n",
       " [0, 0, 0, 0, 0, 0, 0, 0],\n",
       " [0, 0, 0, 0, 1, 0, 1, 1],\n",
       " [0, 0, 1, 0, 0, 1, 0, 0],\n",
       " [0, 0, 1, 0, 0, 0, 0, 0],\n",
       " [0, 0, 0, 0, 0, 0, 0, 0],\n",
       " [0, 0, 0, 0, 0, 0, 0, 0]]"
      ]
     },
     "execution_count": 3,
     "metadata": {},
     "output_type": "execute_result"
    }
   ],
   "source": [
    "# convert to adjacency matrix (to edges)\n",
    "# u - start, v - end edge, nei - neighbors\n",
    "adj_matrix = []\n",
    "for i in range(n):\n",
    "    adj_matrix.append([0] * n)\n",
    "\n",
    "for u, v in arr:\n",
    "    adj_matrix[u][v] = 1\n",
    "\n",
    "adj_matrix"
   ]
  },
  {
   "cell_type": "code",
   "execution_count": 4,
   "id": "7089020fe23c5164",
   "metadata": {
    "ExecuteTime": {
     "end_time": "2025-08-21T15:55:42.245043Z",
     "start_time": "2025-08-21T15:55:42.242804Z"
    }
   },
   "outputs": [
    {
     "data": {
      "text/plain": [
       "(defaultdict(list, {0: [1, 3], 1: [2], 3: [4, 6, 7], 4: [2, 5], 5: [2]}),\n",
       " defaultdict(list,\n",
       "             {0: [1, 3],\n",
       "              1: [0, 2],\n",
       "              2: [1, 4, 5],\n",
       "              3: [0, 4, 6, 7],\n",
       "              4: [3, 2, 5],\n",
       "              6: [3],\n",
       "              7: [3],\n",
       "              5: [4, 2]}))"
      ]
     },
     "execution_count": 4,
     "metadata": {},
     "output_type": "execute_result"
    }
   ],
   "source": [
    "directed_adj_dct = collections.defaultdict(list)\n",
    "undirected_adj_dct = collections.defaultdict(list)\n",
    "\n",
    "\n",
    "# directed\n",
    "for u, v in arr:\n",
    "    directed_adj_dct[u].append(v)\n",
    "\n",
    "# undirected\n",
    "for u, v in arr:\n",
    "    undirected_adj_dct[u].append(v)\n",
    "    undirected_adj_dct[v].append(u)\n",
    "\n",
    "directed_adj_dct, undirected_adj_dct"
   ]
  },
  {
   "cell_type": "code",
   "execution_count": 5,
   "id": "e8987958b0d6ffce",
   "metadata": {
    "ExecuteTime": {
     "end_time": "2025-08-21T15:55:42.263447Z",
     "start_time": "2025-08-21T15:55:42.261759Z"
    }
   },
   "outputs": [
    {
     "name": "stdout",
     "output_type": "stream",
     "text": [
      "0\n",
      "1\n",
      "2\n",
      "3\n",
      "4\n",
      "5\n",
      "6\n",
      "7\n"
     ]
    }
   ],
   "source": [
    "# DFS recursion - Time complexity: O(V + E), where V is num of nodes and E is num of node's edges\n",
    "\n",
    "source = 0\n",
    "visited = set()\n",
    "visited.add(source)\n",
    "\n",
    "\n",
    "def dfs_recursive(node: int):\n",
    "    print(node)\n",
    "    for nei in directed_adj_dct[node]:\n",
    "        if nei not in visited:\n",
    "            visited.add(nei)\n",
    "            dfs_recursive(nei)\n",
    "\n",
    "\n",
    "dfs_recursive(source)"
   ]
  },
  {
   "cell_type": "code",
   "execution_count": 6,
   "id": "94a64d10663aee26",
   "metadata": {
    "ExecuteTime": {
     "end_time": "2025-08-21T15:55:42.282886Z",
     "start_time": "2025-08-21T15:55:42.280993Z"
    }
   },
   "outputs": [
    {
     "name": "stdout",
     "output_type": "stream",
     "text": [
      "0\n",
      "3\n",
      "7\n",
      "6\n",
      "4\n",
      "5\n",
      "2\n",
      "1\n"
     ]
    }
   ],
   "source": [
    "# DFS iterative - Time complexity: O(V + E)\n",
    "\n",
    "source = 0\n",
    "stk = [source]\n",
    "visited = set()\n",
    "visited.add(source)\n",
    "\n",
    "while stk:\n",
    "    node = stk.pop()\n",
    "    print(node)\n",
    "    for nei in directed_adj_dct[node]:\n",
    "        if nei not in visited:\n",
    "            visited.add(nei)\n",
    "            stk.append(nei)"
   ]
  },
  {
   "cell_type": "code",
   "execution_count": 7,
   "id": "b8e6980e9ccee5db",
   "metadata": {
    "ExecuteTime": {
     "end_time": "2025-08-21T15:55:42.335343Z",
     "start_time": "2025-08-21T15:55:42.333502Z"
    }
   },
   "outputs": [
    {
     "name": "stdout",
     "output_type": "stream",
     "text": [
      "0\n",
      "1\n",
      "3\n",
      "2\n",
      "4\n",
      "6\n",
      "7\n",
      "5\n"
     ]
    }
   ],
   "source": [
    "# BFS - Time complexity: O(V + E)\n",
    "\n",
    "source = 0\n",
    "visited = set()\n",
    "visited.add(source)\n",
    "queue = collections.deque()\n",
    "queue.append(source)\n",
    "\n",
    "while queue:\n",
    "    node = queue.popleft()\n",
    "    print(node)\n",
    "    for nei in directed_adj_dct[node]:\n",
    "        if nei not in visited:\n",
    "            visited.add(nei)\n",
    "            queue.append(nei)"
   ]
  },
  {
   "cell_type": "code",
   "execution_count": 8,
   "id": "e9194cc9d5c98ecd",
   "metadata": {
    "ExecuteTime": {
     "end_time": "2025-08-21T15:55:42.354178Z",
     "start_time": "2025-08-21T15:55:42.352236Z"
    }
   },
   "outputs": [],
   "source": [
    "@dataclass\n",
    "class Node:\n",
    "    val: int\n",
    "    neighbors: list[\"Node\"] = field(default_factory=list)\n",
    "\n",
    "    def display(self):\n",
    "        return f\"{self.val} is connected to: {[x.val for x in self.neighbors]}\"\n",
    "\n",
    "    def __str__(self):\n",
    "        return f\"Node(val={self.val})\""
   ]
  },
  {
   "cell_type": "code",
   "execution_count": 9,
   "id": "d06a591092752fe",
   "metadata": {
    "ExecuteTime": {
     "end_time": "2025-08-21T15:55:42.366922Z",
     "start_time": "2025-08-21T15:55:42.364899Z"
    }
   },
   "outputs": [
    {
     "data": {
      "text/plain": [
       "('1 is connected to: [2]',\n",
       " '2 is connected to: [1]',\n",
       " '3 is connected to: [4]',\n",
       " '4 is connected to: [3]')"
      ]
     },
     "execution_count": 9,
     "metadata": {},
     "output_type": "execute_result"
    }
   ],
   "source": [
    "A = Node(1)\n",
    "B = Node(2)\n",
    "C = Node(3)\n",
    "D = Node(4)\n",
    "A.neighbors.append(B)\n",
    "B.neighbors.append(A)\n",
    "C.neighbors.append(D)\n",
    "D.neighbors.append(C)\n",
    "\n",
    "A.display(), B.display(), C.display(), D.display()"
   ]
  }
 ],
 "metadata": {
  "kernelspec": {
   "display_name": "Python 3",
   "language": "python",
   "name": "python3"
  },
  "language_info": {
   "codemirror_mode": {
    "name": "ipython",
    "version": 2
   },
   "file_extension": ".py",
   "mimetype": "text/x-python",
   "name": "python",
   "nbconvert_exporter": "python",
   "pygments_lexer": "ipython2",
   "version": "2.7.6"
  }
 },
 "nbformat": 4,
 "nbformat_minor": 5
}
