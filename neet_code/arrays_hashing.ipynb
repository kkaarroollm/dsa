{
 "cells": [
  {
   "cell_type": "code",
   "execution_count": 76,
   "id": "initial_id",
   "metadata": {
    "ExecuteTime": {
     "end_time": "2025-07-27T09:56:47.120178Z",
     "start_time": "2025-07-27T09:56:47.117121Z"
    },
    "collapsed": true
   },
   "outputs": [],
   "source": [
    "import collections\n",
    "\n",
    "\n",
    "def product_except_self(nums: list[int]) -> list[int]:\n",
    "    l = len(nums)\n",
    "    result = [1] * l\n",
    "    prefix = 1\n",
    "    for i in range(l):\n",
    "        result[i] *= prefix\n",
    "        prefix *= nums[i]\n",
    "\n",
    "    postfix = 1\n",
    "    for i in range(l - 1, -1, -1):\n",
    "        result[i] *= postfix\n",
    "        postfix *= nums[i]\n",
    "\n",
    "    return result"
   ]
  },
  {
   "cell_type": "code",
   "execution_count": 47,
   "id": "4de2b94cd207d9d",
   "metadata": {
    "ExecuteTime": {
     "end_time": "2025-07-26T22:40:12.494517Z",
     "start_time": "2025-07-26T22:40:12.491278Z"
    }
   },
   "outputs": [
    {
     "name": "stdout",
     "output_type": "stream",
     "text": [
      "[1, 1, 2, 6]\n",
      "24\n"
     ]
    },
    {
     "data": {
      "text/plain": [
       "[24, 12, 8, 6]"
      ]
     },
     "execution_count": 47,
     "metadata": {},
     "output_type": "execute_result"
    }
   ],
   "source": [
    "x = [1, 2, 3, 4]\n",
    "product_except_self(x)"
   ]
  },
  {
   "cell_type": "code",
   "execution_count": 89,
   "id": "46911225e7387a8a",
   "metadata": {
    "ExecuteTime": {
     "end_time": "2025-07-27T10:30:28.729348Z",
     "start_time": "2025-07-27T10:30:28.725103Z"
    }
   },
   "outputs": [],
   "source": [
    "# case 1: 3x3 square repetitive number -\n",
    "# case 2: Horizontal repetitive number - super easy\n",
    "# case 2: Vertical repetitive number\n",
    "\n",
    "\n",
    "def is_valid_sudoku(board: list[list[str]]) -> bool:\n",
    "    l = len(board)\n",
    "    rows = collections.defaultdict(set)\n",
    "    cols = collections.defaultdict(set)\n",
    "    squares = collections.defaultdict(lambda: collections.defaultdict(set))\n",
    "\n",
    "    for i in range(l):\n",
    "        for n in range(l):\n",
    "            if board[i][n] == \".\":\n",
    "                continue\n",
    "            if board[i][n] in rows[i]:\n",
    "                return False\n",
    "            else:\n",
    "                rows[i].add(board[i][n])\n",
    "\n",
    "            if board[i][n] in cols[n]:\n",
    "                return False\n",
    "            else:\n",
    "                cols[n].add(board[i][n])\n",
    "\n",
    "            if board[i][n] in squares[i // 3][n // 3]:\n",
    "                return False\n",
    "            else:\n",
    "                squares[i // 3][n // 3].add(board[i][n])\n",
    "\n",
    "    return True"
   ]
  },
  {
   "cell_type": "code",
   "execution_count": 90,
   "id": "59f3d94ef80259e4",
   "metadata": {
    "ExecuteTime": {
     "end_time": "2025-07-27T10:30:30.756193Z",
     "start_time": "2025-07-27T10:30:30.749876Z"
    }
   },
   "outputs": [
    {
     "data": {
      "text/plain": [
       "False"
      ]
     },
     "execution_count": 90,
     "metadata": {},
     "output_type": "execute_result"
    }
   ],
   "source": [
    "# board = [\n",
    "#     [\"8\", \"3\", \".\", \".\", \"7\", \".\", \".\", \".\", \".\"],\n",
    "#     [\"6\", \".\", \".\", \"1\", \"9\", \"5\", \".\", \".\", \".\"],\n",
    "#     [\".\", \"9\", \"8\", \".\", \".\", \".\", \".\", \"6\", \".\"],\n",
    "#     [\"8\", \".\", \".\", \".\", \"6\", \".\", \".\", \".\", \"3\"],\n",
    "#     [\"4\", \".\", \".\", \"8\", \".\", \"3\", \".\", \".\", \"1\"],\n",
    "#     [\"7\", \".\", \".\", \".\", \"2\", \".\", \".\", \".\", \"6\"],\n",
    "#     [\".\", \"6\", \".\", \".\", \".\", \".\", \"2\", \"8\", \".\"],\n",
    "#     [\".\", \".\", \".\", \"4\", \"1\", \"9\", \".\", \".\", \"5\"],\n",
    "#     [\".\", \".\", \".\", \".\", \"8\", \".\", \".\", \"7\", \"9\"],\n",
    "# ]\n",
    "board = [\n",
    "    [\".\", \".\", \"4\", \".\", \".\", \".\", \"6\", \"3\", \".\"],\n",
    "    [\".\", \".\", \".\", \".\", \".\", \".\", \".\", \".\", \".\"],\n",
    "    [\"5\", \".\", \".\", \".\", \".\", \".\", \".\", \"9\", \".\"],\n",
    "    [\".\", \".\", \".\", \"5\", \"6\", \".\", \".\", \".\", \".\"],\n",
    "    [\"4\", \".\", \"3\", \".\", \".\", \".\", \".\", \".\", \"1\"],\n",
    "    [\".\", \".\", \".\", \"7\", \".\", \".\", \".\", \".\", \".\"],\n",
    "    [\".\", \".\", \".\", \"5\", \".\", \".\", \".\", \".\", \".\"],\n",
    "    [\".\", \".\", \".\", \".\", \".\", \".\", \".\", \".\", \".\"],\n",
    "    [\".\", \".\", \".\", \".\", \".\", \".\", \".\", \".\", \".\"],\n",
    "]\n",
    "is_valid_sudoku(board)"
   ]
  },
  {
   "cell_type": "code",
   "execution_count": 112,
   "id": "27390892a90725a7",
   "metadata": {
    "ExecuteTime": {
     "end_time": "2025-07-27T11:30:56.287810Z",
     "start_time": "2025-07-27T11:30:56.285643Z"
    }
   },
   "outputs": [],
   "source": [
    "def longest_consecutive(nums: list[int]) -> int:\n",
    "    nums = set(nums)\n",
    "    max_seq = set()\n",
    "    for n in nums:\n",
    "        if n - 1 not in nums:\n",
    "            curr_seq = set()\n",
    "            while n in nums:\n",
    "                curr_seq.add(n)\n",
    "                n += 1\n",
    "            max_seq = max_seq if len(max_seq) > len(curr_seq) else curr_seq\n",
    "    return len(max_seq)"
   ]
  },
  {
   "cell_type": "code",
   "execution_count": 114,
   "id": "39ce28cbb81bfac2",
   "metadata": {
    "ExecuteTime": {
     "end_time": "2025-07-27T11:30:58.089385Z",
     "start_time": "2025-07-27T11:30:58.086069Z"
    }
   },
   "outputs": [
    {
     "name": "stdout",
     "output_type": "stream",
     "text": [
      "{1, 2, 3, 4}\n"
     ]
    },
    {
     "data": {
      "text/plain": [
       "4"
      ]
     },
     "execution_count": 114,
     "metadata": {},
     "output_type": "execute_result"
    }
   ],
   "source": [
    "nums = [100, 4, 200, 1, 3, 2]\n",
    "longest_consecutive(nums)"
   ]
  }
 ],
 "metadata": {
  "kernelspec": {
   "display_name": "Python 3",
   "language": "python",
   "name": "python3"
  },
  "language_info": {
   "codemirror_mode": {
    "name": "ipython",
    "version": 2
   },
   "file_extension": ".py",
   "mimetype": "text/x-python",
   "name": "python",
   "nbconvert_exporter": "python",
   "pygments_lexer": "ipython2",
   "version": "2.7.6"
  }
 },
 "nbformat": 4,
 "nbformat_minor": 5
}
