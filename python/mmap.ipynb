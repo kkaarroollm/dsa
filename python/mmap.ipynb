{
 "cells": [
  {
   "cell_type": "code",
   "id": "initial_id",
   "metadata": {
    "collapsed": true,
    "ExecuteTime": {
     "end_time": "2025-08-29T01:25:37.445630Z",
     "start_time": "2025-08-29T01:25:37.443160Z"
    }
   },
   "source": [
    "import os\n",
    "import time\n",
    "import mmap\n",
    "import psutil\n",
    "from typing import Generator\n",
    "import pandas as pd\n",
    "import functools\n",
    "import random\n",
    "import matplotlib.pyplot as plt\n",
    "import seaborn as sns"
   ],
   "outputs": [],
   "execution_count": 1
  },
  {
   "cell_type": "code",
   "id": "54c1e7cf25ffef59",
   "metadata": {
    "ExecuteTime": {
     "end_time": "2025-08-29T01:25:37.518133Z",
     "start_time": "2025-08-29T01:25:37.516441Z"
    }
   },
   "source": [
    "FILE = \"random.txt\"\n",
    "FILE_BIN = \"random.bin\"\n",
    "SIZE_MB = 700"
   ],
   "outputs": [],
   "execution_count": 2
  },
  {
   "cell_type": "markdown",
   "id": "9c6c1b0ad02920e6",
   "metadata": {},
   "source": [
    "`Memory-mapped file` (mmap) maps a large file into the process’s address space.\n",
    "The file itself is not fully loaded into RAM — instead, when a specific part of the file is accessed, the operating system loads the corresponding fragment (page) into memory on demand.\n",
    "\n",
    "### Compared to a generator approach:\n",
    "- A generator reads a file sequentially, usually line by line, and yields each line.\n",
    "- mmap provides direct, random access to the file as if it were a byte array, allowing you to index and slice it by byte offsets."
   ]
  },
  {
   "cell_type": "code",
   "id": "7b839e7f5f39a69b",
   "metadata": {
    "ExecuteTime": {
     "end_time": "2025-08-29T01:25:37.524286Z",
     "start_time": "2025-08-29T01:25:37.522474Z"
    }
   },
   "source": [
    "# just for fake data for tests\n",
    "if not os.path.exists(FILE):\n",
    "    with open(FILE, \"w\") as f:\n",
    "        chunk = (\"i love doing crack\" * 64 + \"\\n\") * 1024\n",
    "        for _ in range(SIZE_MB):\n",
    "            f.write(chunk)\n",
    "\n",
    "if not os.path.exists(FILE_BIN):\n",
    "    with open(FILE_BIN, \"wb\") as f:\n",
    "        f.write(os.urandom(4096))"
   ],
   "outputs": [],
   "execution_count": 3
  },
  {
   "cell_type": "code",
   "id": "1fe10cc5c8ad39d1",
   "metadata": {
    "ExecuteTime": {
     "end_time": "2025-08-29T01:25:37.530091Z",
     "start_time": "2025-08-29T01:25:37.528514Z"
    }
   },
   "source": [
    "# simple gen for benchmark\n",
    "def read_lines(path: str) -> Generator[str]:\n",
    "    with open(path, \"r\") as f:\n",
    "        for line in f:\n",
    "            yield line"
   ],
   "outputs": [],
   "execution_count": 4
  },
  {
   "cell_type": "code",
   "id": "baf3a8a4dedc88ad",
   "metadata": {
    "ExecuteTime": {
     "end_time": "2025-08-29T01:25:37.535574Z",
     "start_time": "2025-08-29T01:25:37.534178Z"
    }
   },
   "source": [
    "def mem_usage():\n",
    "    \"\"\":returns current RAM usage in MB\"\"\"\n",
    "    process = psutil.Process(os.getpid())\n",
    "    return process.memory_info().rss / (1024 * 1024)"
   ],
   "outputs": [],
   "execution_count": 5
  },
  {
   "cell_type": "code",
   "id": "800ba25c9776b428",
   "metadata": {
    "ExecuteTime": {
     "end_time": "2025-08-29T01:25:37.542023Z",
     "start_time": "2025-08-29T01:25:37.540190Z"
    }
   },
   "source": [
    "# decorator for benchmarking\n",
    "\n",
    "\n",
    "def benchmark_case(func):\n",
    "    @functools.wraps(func)\n",
    "    def wrapper(*args, **kwargs):\n",
    "        rss_before = mem_usage()\n",
    "        peak_rss = rss_before\n",
    "        t0 = time.time()\n",
    "\n",
    "        for _ in func(*args, **kwargs):\n",
    "            peak_rss = max(peak_rss, mem_usage())\n",
    "\n",
    "        return {\n",
    "            \"time (s)\": round(time.time() - t0, 3),\n",
    "            \"peak RSS (MB)\": round(peak_rss - rss_before, 2),\n",
    "        }\n",
    "\n",
    "    return wrapper"
   ],
   "outputs": [],
   "execution_count": 6
  },
  {
   "cell_type": "code",
   "id": "a6fa4be413ee8e5f",
   "metadata": {
    "ExecuteTime": {
     "end_time": "2025-08-29T01:25:37.744159Z",
     "start_time": "2025-08-29T01:25:37.546236Z"
    }
   },
   "source": [
    "pattern: bytes = b\"0123456789ABCDEF\"\n",
    "\n",
    "with open(FILE, \"r+b\") as f:\n",
    "    with mmap.mmap(f.fileno(), 0) as mm:\n",
    "        pos = mm.find(pattern)\n",
    "        if pos != -1:\n",
    "            print(f\"{pattern!r} found at byte: {pos}\")\n",
    "        else:\n",
    "            print(f\"{pattern!r} not found\")"
   ],
   "outputs": [
    {
     "name": "stdout",
     "output_type": "stream",
     "text": [
      "b'0123456789ABCDEF' not found\n"
     ]
    }
   ],
   "execution_count": 7
  },
  {
   "cell_type": "code",
   "id": "cf3ba10969c31f7c",
   "metadata": {
    "ExecuteTime": {
     "end_time": "2025-08-29T01:25:37.760382Z",
     "start_time": "2025-08-29T01:25:37.753982Z"
    }
   },
   "source": [
    "with open(FILE_BIN, \"r+b\") as f:\n",
    "    mm = mmap.mmap(f.fileno(), 0)\n",
    "\n",
    "    # 4 bytes (int here) located at mem address 1000 - 1003\n",
    "    value = int.from_bytes(mm[1000:1004], \"little\")\n",
    "\n",
    "    print(\"4 bytes raw:\", mm[1000:1004])\n",
    "    print(\"as int (little):\", int.from_bytes(mm[1000:1004], \"little\"))\n",
    "    print(\"individual bytes:\", list(mm[1000:1004]))\n",
    "\n",
    "    # change byte 2000 to 255\n",
    "    mm[2000] = int.from_bytes(b\"\\xff\", \"little\", signed=False)\n",
    "    print(\"byte 2000:\", mm[2000])\n",
    "\n",
    "    mm.close()"
   ],
   "outputs": [
    {
     "name": "stdout",
     "output_type": "stream",
     "text": [
      "4 bytes raw: b'\\xd80\\xbf8'\n",
      "as int (little): 952053976\n",
      "individual bytes: [216, 48, 191, 56]\n",
      "byte 2000: 255\n"
     ]
    }
   ],
   "execution_count": 8
  },
  {
   "cell_type": "markdown",
   "id": "a5d185e573e2e77a",
   "metadata": {},
   "source": "### It also works as it touches the RAM memory on multiple threads, but don't have time to show it here ..."
  },
  {
   "cell_type": "code",
   "id": "b603222af4b6c6ae",
   "metadata": {
    "ExecuteTime": {
     "end_time": "2025-08-29T01:25:37.771751Z",
     "start_time": "2025-08-29T01:25:37.769105Z"
    }
   },
   "source": [
    "# benchmark for 3 methods of reading files\n",
    "\n",
    "N = 10000\n",
    "CHUNK_SIZE = 20\n",
    "\n",
    "\n",
    "@benchmark_case\n",
    "def method_read():\n",
    "    with open(FILE, \"rb\") as f:\n",
    "        data = f.read()\n",
    "        for _ in range(N):\n",
    "            offset = random.randint(0, len(data) - CHUNK_SIZE)\n",
    "            _ = data[offset : offset + CHUNK_SIZE]\n",
    "            yield\n",
    "    return data\n",
    "\n",
    "\n",
    "@benchmark_case\n",
    "def method_generator():\n",
    "    with open(FILE, \"rb\") as f:\n",
    "        for _ in range(N):\n",
    "            _ = f.read(CHUNK_SIZE)\n",
    "            yield\n",
    "\n",
    "\n",
    "@benchmark_case\n",
    "def method_mmap():\n",
    "    with open(FILE, \"r+b\") as f:\n",
    "        with mmap.mmap(f.fileno(), 0, access=mmap.ACCESS_READ) as mm:\n",
    "            for _ in range(N):\n",
    "                offset = random.randint(0, len(mm) - CHUNK_SIZE)\n",
    "                _ = mm[offset : offset + CHUNK_SIZE]\n",
    "                yield"
   ],
   "outputs": [],
   "execution_count": 9
  },
  {
   "cell_type": "code",
   "id": "c42fcf82189227bd",
   "metadata": {
    "ExecuteTime": {
     "end_time": "2025-08-29T01:25:37.781226Z",
     "start_time": "2025-08-29T01:25:37.779499Z"
    }
   },
   "source": [
    "def benchmark():\n",
    "    results = {\n",
    "        \"read()\": method_read(),\n",
    "        \"generator\": method_generator(),\n",
    "        \"mmap\": method_mmap(),\n",
    "    }\n",
    "    return pd.DataFrame(results).T"
   ],
   "outputs": [],
   "execution_count": 10
  },
  {
   "cell_type": "code",
   "id": "f9fcfa8f2bb339d",
   "metadata": {
    "ExecuteTime": {
     "end_time": "2025-08-29T01:25:38.343186Z",
     "start_time": "2025-08-29T01:25:37.786112Z"
    }
   },
   "source": [
    "df = benchmark()\n",
    "df"
   ],
   "outputs": [
    {
     "data": {
      "text/plain": [
       "           time (s)  peak RSS (MB)\n",
       "read()        0.258         788.27\n",
       "generator     0.119           0.00\n",
       "mmap          0.168         141.41"
      ],
      "text/html": [
       "<div>\n",
       "<style scoped>\n",
       "    .dataframe tbody tr th:only-of-type {\n",
       "        vertical-align: middle;\n",
       "    }\n",
       "\n",
       "    .dataframe tbody tr th {\n",
       "        vertical-align: top;\n",
       "    }\n",
       "\n",
       "    .dataframe thead th {\n",
       "        text-align: right;\n",
       "    }\n",
       "</style>\n",
       "<table border=\"1\" class=\"dataframe\">\n",
       "  <thead>\n",
       "    <tr style=\"text-align: right;\">\n",
       "      <th></th>\n",
       "      <th>time (s)</th>\n",
       "      <th>peak RSS (MB)</th>\n",
       "    </tr>\n",
       "  </thead>\n",
       "  <tbody>\n",
       "    <tr>\n",
       "      <th>read()</th>\n",
       "      <td>0.258</td>\n",
       "      <td>788.27</td>\n",
       "    </tr>\n",
       "    <tr>\n",
       "      <th>generator</th>\n",
       "      <td>0.119</td>\n",
       "      <td>0.00</td>\n",
       "    </tr>\n",
       "    <tr>\n",
       "      <th>mmap</th>\n",
       "      <td>0.168</td>\n",
       "      <td>141.41</td>\n",
       "    </tr>\n",
       "  </tbody>\n",
       "</table>\n",
       "</div>"
      ]
     },
     "execution_count": 11,
     "metadata": {},
     "output_type": "execute_result"
    }
   ],
   "execution_count": 11
  },
  {
   "cell_type": "code",
   "id": "127949119f4b2f4",
   "metadata": {
    "ExecuteTime": {
     "end_time": "2025-08-29T01:25:38.480337Z",
     "start_time": "2025-08-29T01:25:38.378349Z"
    }
   },
   "source": [
    "df.index.name = \"method\"\n",
    "\n",
    "sns.set_theme(style=\"whitegrid\")\n",
    "\n",
    "plt.figure(figsize=(6, 4))\n",
    "sns.barplot(\n",
    "    x=\"method\",\n",
    "    y=\"time (s)\",\n",
    "    hue=\"method\",\n",
    "    data=df.reset_index(),\n",
    "    palette=\"Blues_d\",\n",
    "    dodge=False,\n",
    "    legend=False,\n",
    ")\n",
    "plt.title(\"time\")\n",
    "plt.ylabel(\"(s)\")\n",
    "for i, v in enumerate(df[\"time (s)\"]):\n",
    "    plt.text(i, v, f\"{v:.3f}\", ha=\"center\", va=\"bottom\")\n",
    "plt.show()"
   ],
   "outputs": [
    {
     "data": {
      "text/plain": [
       "<Figure size 600x400 with 1 Axes>"
      ],
      "image/png": "[encoded data removed]"
     },
     "metadata": {},
     "output_type": "display_data"
    }
   ],
   "execution_count": 12
  },
  {
   "cell_type": "code",
   "id": "23d2f074011ffb1d",
   "metadata": {
    "ExecuteTime": {
     "end_time": "2025-08-29T01:25:38.602403Z",
     "start_time": "2025-08-29T01:25:38.514052Z"
    }
   },
   "source": [
    "plt.figure(figsize=(6, 4))\n",
    "sns.barplot(\n",
    "    x=\"method\",\n",
    "    y=\"peak RSS (MB)\",\n",
    "    hue=\"method\",\n",
    "    data=df.reset_index(),\n",
    "    palette=\"Reds_d\",\n",
    "    dodge=False,\n",
    "    legend=False,\n",
    ")\n",
    "plt.title(\"peak RSS\")\n",
    "plt.ylabel(\"MB\")\n",
    "for i, v in enumerate(df[\"peak RSS (MB)\"]):\n",
    "    plt.text(i, v, f\"{v:.0f}\", ha=\"center\", va=\"bottom\")\n",
    "plt.show()"
   ],
   "outputs": [
    {
     "data": {
      "text/plain": [
       "<Figure size 600x400 with 1 Axes>"
      ],
      "image/png": "[encoded data removed]"
     },
     "metadata": {},
     "output_type": "display_data"
    }
   ],
   "execution_count": 13
  }
 ],
 "metadata": {
  "kernelspec": {
   "display_name": "Python 3",
   "language": "python",
   "name": "python3"
  },
  "language_info": {
   "codemirror_mode": {
    "name": "ipython",
    "version": 2
   },
   "file_extension": ".py",
   "mimetype": "text/x-python",
   "name": "python",
   "nbconvert_exporter": "python",
   "pygments_lexer": "ipython2",
   "version": "2.7.6"
  }
 },
 "nbformat": 4,
 "nbformat_minor": 5
}
